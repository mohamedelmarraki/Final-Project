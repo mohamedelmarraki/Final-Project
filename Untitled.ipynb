{
 "cells": [
  {
   "cell_type": "code",
   "execution_count": 2,
   "id": "d1414cd0",
   "metadata": {},
   "outputs": [],
   "source": [
    "import os"
   ]
  },
  {
   "cell_type": "code",
   "execution_count": 4,
   "id": "ec516dfa",
   "metadata": {},
   "outputs": [
    {
     "data": {
      "text/plain": [
       "['Visual Studio Code.app',\n",
       " 'dbeaver-ce-21.3.3-macos-x86_64.dmg',\n",
       " 'Monthlydata_40.400_-3.674_SA2_2020_2020.csv',\n",
       " 'Slack-4.21.1-macOS.dmg',\n",
       " '.DS_Store',\n",
       " '[tableau-data-viz] Alvaro Saez (1).twbx',\n",
       " 'chromedriver_mac64.zip',\n",
       " '.localized',\n",
       " '$RECYCLE.BIN',\n",
       " 'Miniconda3-py39_4.10.3-MacOSX-x86_64.sh',\n",
       " '.com.google.Chrome.oo1cbd',\n",
       " '.com.google.Chrome.G9uqxV',\n",
       " '[tableau-data-viz] Alvaro Saez.twbx',\n",
       " '.com.google.Chrome.xYSKAX',\n",
       " 'iTerm2-3_4_12.zip',\n",
       " 'Contador inversor 4.xlsx',\n",
       " '1 _ Command Line Interface (CLI) - Interfaz de línea de comandos (CLI).docx',\n",
       " 'Informe médico.pdf',\n",
       " 'Monthlydata_40.294_-3.794_SA2_2020_2020.csv',\n",
       " 'diamonds.twbx',\n",
       " '.ipynb_checkpoints',\n",
       " 'TableauAutoUpdate',\n",
       " 'Plan de Empresa-1.docx',\n",
       " 'iTerm.app',\n",
       " 'desktop.ini',\n",
       " 'Escaneado_ 20220419-0949.pdf',\n",
       " 'currículum-sin-título.pdf',\n",
       " '.com.google.Chrome.sBsgqg',\n",
       " 'archive.zip',\n",
       " 'Charge by citizen and service.twbx']"
      ]
     },
     "execution_count": 4,
     "metadata": {},
     "output_type": "execute_result"
    }
   ],
   "source": [
    "os.listdir(\"../../Downloads\")"
   ]
  },
  {
   "cell_type": "code",
   "execution_count": null,
   "id": "12ed627b",
   "metadata": {},
   "outputs": [],
   "source": []
  }
 ],
 "metadata": {
  "kernelspec": {
   "display_name": "Python 3.7.9 64-bit ('Project-Final': conda)",
   "language": "python",
   "name": "python379jvsc74a57bd0c183dc9d1849ac0ecaba2157023a562a43c4e08931968d5d80ad7610fa6f41b2"
  },
  "language_info": {
   "codemirror_mode": {
    "name": "ipython",
    "version": 3
   },
   "file_extension": ".py",
   "mimetype": "text/x-python",
   "name": "python",
   "nbconvert_exporter": "python",
   "pygments_lexer": "ipython3",
   "version": "3.7.12"
  }
 },
 "nbformat": 4,
 "nbformat_minor": 5
}
