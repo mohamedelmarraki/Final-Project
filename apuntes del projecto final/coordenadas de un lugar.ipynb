{
 "cells": [
  {
   "cell_type": "code",
   "execution_count": 2,
   "metadata": {},
   "outputs": [],
   "source": [
    "from geopy.geocoders import Nominatim\n",
    "import time\n",
    "import math"
   ]
  },
  {
   "cell_type": "code",
   "execution_count": 3,
   "metadata": {},
   "outputs": [],
   "source": [
    "# Crear un objeto Nominatim\n",
    "geo = Nominatim(user_agent = \"MyApp\")\n"
   ]
  },
  {
   "cell_type": "code",
   "execution_count": 4,
   "metadata": {},
   "outputs": [
    {
     "name": "stdout",
     "output_type": "stream",
     "text": [
      "Calle Juan Ramón Jiménez, Valdelasfuentes, Alcobendas, Área metropolitana de Madrid y Corredor del Henares, Comunidad de Madrid, 28100, España\n"
     ]
    }
   ],
   "source": [
    "loc = geo.geocode(\"Calle juan ramón jimenez, Alcobendas\")\n",
    "print(loc)"
   ]
  },
  {
   "cell_type": "code",
   "execution_count": 5,
   "metadata": {},
   "outputs": [],
   "source": [
    "coordenadas = loc.latitude, loc.longitude"
   ]
  },
  {
   "cell_type": "code",
   "execution_count": 7,
   "metadata": {},
   "outputs": [
    {
     "data": {
      "text/plain": [
       "40.546376"
      ]
     },
     "execution_count": 7,
     "metadata": {},
     "output_type": "execute_result"
    }
   ],
   "source": [
    "a[0]"
   ]
  },
  {
   "cell_type": "code",
   "execution_count": null,
   "metadata": {},
   "outputs": [],
   "source": [
    "from geopy.geocoders import Nominatim\n",
    "import time\n",
    "import math\n",
    "# Crear un objeto Nominatim\n",
    "geo = Nominatim(user_agent = \"MyApp\")\n",
    "loc = geo.geocode(\"Calle juan ramón jimenez, Alcobendas\")\n",
    "print(loc)\n",
    "coordenadas = loc.latitude, loc.longitude"
   ]
  }
 ],
 "metadata": {
  "interpreter": {
   "hash": "4d5c31dc7fa875d1cd7acb68b2eea72d176384e9a774f65cd9f70f0b5b5279d0"
  },
  "kernelspec": {
   "display_name": "Python [conda env:ironhack]",
   "language": "python",
   "name": "conda-env-ironhack-py"
  },
  "language_info": {
   "codemirror_mode": {
    "name": "ipython",
    "version": 3
   },
   "file_extension": ".py",
   "mimetype": "text/x-python",
   "name": "python",
   "nbconvert_exporter": "python",
   "pygments_lexer": "ipython3",
   "version": "3.7.11"
  }
 },
 "nbformat": 4,
 "nbformat_minor": 2
}
