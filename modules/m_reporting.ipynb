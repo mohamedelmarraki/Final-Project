{
 "cells": [
  {
   "cell_type": "code",
   "execution_count": 51,
   "id": "fd78a871",
   "metadata": {},
   "outputs": [],
   "source": [
    "def electro_usuario():\n",
    "    \n",
    "    import json\n",
    "    \n",
    "    tf = open(\"../data/pot_electrodomesticos.json\", \"r\")\n",
    "    \n",
    "    electro_dict = json.load(tf)\n",
    "    \n",
    "    electrodomesticos = list(electro_dict.keys())\n",
    "    \n",
    "    print(\"Previsión de Energía consumida\")\n",
    "    \n",
    "    print(\"Si quiere salir del programa introduce la palabra 'salir'\")\n",
    "    \n",
    "    print(\"\\n\")\n",
    "    \n",
    "    horas_func = {}\n",
    "    \n",
    "    unidades = {}\n",
    "    \n",
    "    \n",
    "    for i in range(len(electrodomesticos)):\n",
    "        nueva = input(f\"¿ Tiene usted {electrodomesticos[i]} en su casa (Sí/No) ? \")\n",
    "        if nueva.lower() in [\"si\".lower(), \"sí\".lower()]:\n",
    "            unidad = input(f'¿ Cúantas unidades de {electrodomesticos[i]} tiene usted en su casa ? ')\n",
    "            horas = input(f\"Introduce un estimación aproximada de las horas de funcionamiento que va a tener el(a) {electrodomesticos[i]} en los días que esté funcionando : \")\n",
    "            horas_func[electrodomesticos[i]]=horas\n",
    "            unidades[electrodomesticos[i]] = unidad\n",
    "        elif nueva.lower() == \"salir\":\n",
    "            break\n",
    "            \n",
    "    return horas_func, unidades\n"
   ]
  },
  {
   "cell_type": "code",
   "execution_count": 52,
   "id": "35d6c296",
   "metadata": {
    "scrolled": true
   },
   "outputs": [
    {
     "name": "stdout",
     "output_type": "stream",
     "text": [
      "Previsión de Energía consumida\n",
      "Si quiere salir del programa introduce la palabra 'salir'\n",
      "\n",
      "\n",
      "¿ Tiene usted Frigorífico en su casa (Sí/No) ? si\n",
      "¿ Cúantas unidades de Frigorífico tiene usted en su casa ? 1\n",
      "Introduce un estimación aproximada de las horas de funcionamiento que va a tener el(a) Frigorífico en los días que esté funcionando : 24\n",
      "¿ Tiene usted Lavadora en su casa (Sí/No) ? si\n",
      "¿ Cúantas unidades de Lavadora tiene usted en su casa ? 1\n",
      "Introduce un estimación aproximada de las horas de funcionamiento que va a tener el(a) Lavadora en los días que esté funcionando : 3\n",
      "¿ Tiene usted Lavavajillas en su casa (Sí/No) ? si\n",
      "¿ Cúantas unidades de Lavavajillas tiene usted en su casa ? 1\n",
      "Introduce un estimación aproximada de las horas de funcionamiento que va a tener el(a) Lavavajillas en los días que esté funcionando : 3\n",
      "¿ Tiene usted Televisión en su casa (Sí/No) ? si\n",
      "¿ Cúantas unidades de Televisión tiene usted en su casa ? 2\n",
      "Introduce un estimación aproximada de las horas de funcionamiento que va a tener el(a) Televisión en los días que esté funcionando : 4\n",
      "¿ Tiene usted Calefacción en su casa (Sí/No) ? \n",
      "¿ Tiene usted Microondas en su casa (Sí/No) ? \n",
      "¿ Tiene usted Vitrocerámica en su casa (Sí/No) ? \n",
      "¿ Tiene usted Horno en su casa (Sí/No) ? \n",
      "¿ Tiene usted Aspiradora en su casa (Sí/No) ? \n",
      "¿ Tiene usted Aire acondicionado en su casa (Sí/No) ? \n",
      "¿ Tiene usted Calefacción eléctrica en su casa (Sí/No) ? \n",
      "¿ Tiene usted Licuadora en su casa (Sí/No) ? \n",
      "¿ Tiene usted Maquina de cafe en su casa (Sí/No) ? \n",
      "¿ Tiene usted Tostadora en su casa (Sí/No) ? \n",
      "¿ Tiene usted Plancha en su casa (Sí/No) ? \n",
      "¿ Tiene usted Consola de videojuegos en su casa (Sí/No) ? \n",
      "¿ Tiene usted Secador de pelo en su casa (Sí/No) ? \n"
     ]
    }
   ],
   "source": [
    "diccionarios = electro_usuario()\n",
    "horas_func = diccionarios[0]\n",
    "unidades = diccionarios[1]"
   ]
  },
  {
   "cell_type": "code",
   "execution_count": 53,
   "id": "e675ba0a",
   "metadata": {},
   "outputs": [],
   "source": [
    "def Numero_paneles():\n",
    "    \n",
    "    import numpy\n",
    "    \n",
    "    import pandas\n",
    "    \n",
    "    from itertools import chain\n",
    "    \n",
    "    from collections import defaultdict\n",
    "    \n",
    "    import json\n",
    "\n",
    "    tf = open(\"../data/pot_electrodomesticos.json\", \"r\")\n",
    "    \n",
    "    pot_electrodomesticos = json.load(tf)\n",
    "    \n",
    "    \n",
    "    \n",
    "    lista = []\n",
    "    \n",
    "    for i in horas_func.keys():\n",
    "        lista.append(i)\n",
    "\n",
    "    potencia = dict(filter(lambda x: x[0] in lista, pot_electrodomesticos.items()))\n",
    "\n",
    "    dict3 = defaultdict(list)\n",
    "    \n",
    "    for k, v in chain(horas_func.items(), unidades.items(), potencia.items()):\n",
    "        dict3[k].append(int(v))\n",
    "    dic_final = dict(dict3)\n",
    "\n",
    "    dic_final2 = {}\n",
    "    \n",
    "    lis = []\n",
    "    \n",
    "    for i, y in dic_final.items():\n",
    "        dic_final2[i] = numpy.prod(y)\n",
    "        \n",
    "    for i in dic_final2.values():\n",
    "        a = (i/7)\n",
    "        lis.append(a)\n",
    "        print(a)\n",
    "\n",
    "    consumo_teorico = sum(lis)\n",
    "\n",
    "    consumo_diario= consumo_teorico/(0.95)\n",
    "\n",
    "    suma_de_potencia = 0\n",
    "    \n",
    "    for i in potencia.values():\n",
    "        suma_de_potencia  += i\n",
    "        \n",
    "    Potencia_Prevista = suma_de_potencia*0.75 \n",
    "    \n",
    "    if Potencia_Prevista > 10000:\n",
    "        print(\"la instalación necesitará Proyecto de un Ingeniero\")\n",
    "        \n",
    "    else:\n",
    "        print(\"la instalación necesitará una Memoria Técnica de Diseño (MTD) de un Técnico electricista.\")\n",
    "    \n",
    "    if Potencia_Prevista < 1500:\n",
    "        tensión = 12\n",
    "        \n",
    "    elif 1500 <= Potencia_Prevista < 5000:\n",
    "        tensión = 48\n",
    "        \n",
    "    elif Potencia_Prevista > 5000:\n",
    "        tensión = 120\n",
    "    \n",
    "    df = pandas.read_csv(\"../../../../mohamedelmarraki/Downloads/Monthlydata_40.400_-3.674_SA2_2020_2020.csv\", sep=\"\\t\", header=[4]).head(12)\n",
    "    \n",
    "    df = df.loc[:, [\"year\", \"month\",\"H(i_opt)_m\", \"T2m\"]]\n",
    "    \n",
    "    irrandiacia_zona = ((df[\"H(i_opt)_m\"].min()) * 1000)/31\n",
    "    \n",
    "    HSP = irrandiacia_zona / 1000\n",
    "    \n",
    "    energía_producirá_día = HSP * 450 * 0.9\n",
    "    \n",
    "    Numero_paneles = consumo_diario / energía_producirá_día\n",
    "    \n",
    "    print(consumo_diario)\n",
    "    \n",
    "    Numero_paneles = round(Numero_paneles+0.5)\n",
    "    \n",
    "    return Numero_paneles"
   ]
  },
  {
   "cell_type": "code",
   "execution_count": 54,
   "id": "69a05844",
   "metadata": {},
   "outputs": [
    {
     "name": "stdout",
     "output_type": "stream",
     "text": [
      "1028.5714285714287\n",
      "857.1428571428571\n",
      "857.1428571428571\n",
      "342.85714285714283\n",
      "la instalación necesitará una Memoria Técnica de Diseño (MTD) de un Técnico electricista.\n",
      "3248.1203007518798\n"
     ]
    },
    {
     "data": {
      "text/plain": [
       "3"
      ]
     },
     "execution_count": 54,
     "metadata": {},
     "output_type": "execute_result"
    }
   ],
   "source": [
    "Numero_paneles()"
   ]
  },
  {
   "cell_type": "code",
   "execution_count": null,
   "id": "6bb95e8f",
   "metadata": {},
   "outputs": [],
   "source": []
  },
  {
   "cell_type": "code",
   "execution_count": 56,
   "id": "a082bf79",
   "metadata": {},
   "outputs": [],
   "source": [
    "import pandas as pd"
   ]
  },
  {
   "cell_type": "code",
   "execution_count": 57,
   "id": "43bc3da4",
   "metadata": {},
   "outputs": [],
   "source": [
    "N_paneles = [4, 5, 6, 7, 8, 9, 10, 11, 12, 13, 14, 15, 16, 17, 18, 19, 20, 21, 22]\n",
    "P_inversor = [2, 3, 4, 5, 6, 7, 8, 9, 10]"
   ]
  },
  {
   "cell_type": "code",
   "execution_count": 59,
   "id": "5925dd10",
   "metadata": {},
   "outputs": [],
   "source": [
    "df1 = pd.DataFrame(N_paneles)\n",
    "df2 = pd.DataFrame(P_inversor)"
   ]
  },
  {
   "cell_type": "code",
   "execution_count": 68,
   "id": "883fa772",
   "metadata": {},
   "outputs": [],
   "source": [
    "df_merge = pd.merge(df1, df2, how=\"cross\")"
   ]
  },
  {
   "cell_type": "code",
   "execution_count": 69,
   "id": "692bbb0b",
   "metadata": {},
   "outputs": [
    {
     "data": {
      "text/html": [
       "<div>\n",
       "<style scoped>\n",
       "    .dataframe tbody tr th:only-of-type {\n",
       "        vertical-align: middle;\n",
       "    }\n",
       "\n",
       "    .dataframe tbody tr th {\n",
       "        vertical-align: top;\n",
       "    }\n",
       "\n",
       "    .dataframe thead th {\n",
       "        text-align: right;\n",
       "    }\n",
       "</style>\n",
       "<table border=\"1\" class=\"dataframe\">\n",
       "  <thead>\n",
       "    <tr style=\"text-align: right;\">\n",
       "      <th></th>\n",
       "      <th>0_x</th>\n",
       "      <th>0_y</th>\n",
       "    </tr>\n",
       "  </thead>\n",
       "  <tbody>\n",
       "    <tr>\n",
       "      <th>0</th>\n",
       "      <td>4</td>\n",
       "      <td>2</td>\n",
       "    </tr>\n",
       "    <tr>\n",
       "      <th>1</th>\n",
       "      <td>4</td>\n",
       "      <td>3</td>\n",
       "    </tr>\n",
       "    <tr>\n",
       "      <th>2</th>\n",
       "      <td>4</td>\n",
       "      <td>4</td>\n",
       "    </tr>\n",
       "    <tr>\n",
       "      <th>3</th>\n",
       "      <td>4</td>\n",
       "      <td>5</td>\n",
       "    </tr>\n",
       "    <tr>\n",
       "      <th>4</th>\n",
       "      <td>4</td>\n",
       "      <td>6</td>\n",
       "    </tr>\n",
       "    <tr>\n",
       "      <th>...</th>\n",
       "      <td>...</td>\n",
       "      <td>...</td>\n",
       "    </tr>\n",
       "    <tr>\n",
       "      <th>166</th>\n",
       "      <td>22</td>\n",
       "      <td>6</td>\n",
       "    </tr>\n",
       "    <tr>\n",
       "      <th>167</th>\n",
       "      <td>22</td>\n",
       "      <td>7</td>\n",
       "    </tr>\n",
       "    <tr>\n",
       "      <th>168</th>\n",
       "      <td>22</td>\n",
       "      <td>8</td>\n",
       "    </tr>\n",
       "    <tr>\n",
       "      <th>169</th>\n",
       "      <td>22</td>\n",
       "      <td>9</td>\n",
       "    </tr>\n",
       "    <tr>\n",
       "      <th>170</th>\n",
       "      <td>22</td>\n",
       "      <td>10</td>\n",
       "    </tr>\n",
       "  </tbody>\n",
       "</table>\n",
       "<p>171 rows × 2 columns</p>\n",
       "</div>"
      ],
      "text/plain": [
       "     0_x  0_y\n",
       "0      4    2\n",
       "1      4    3\n",
       "2      4    4\n",
       "3      4    5\n",
       "4      4    6\n",
       "..   ...  ...\n",
       "166   22    6\n",
       "167   22    7\n",
       "168   22    8\n",
       "169   22    9\n",
       "170   22   10\n",
       "\n",
       "[171 rows x 2 columns]"
      ]
     },
     "execution_count": 69,
     "metadata": {},
     "output_type": "execute_result"
    }
   ],
   "source": [
    "df_merge"
   ]
  },
  {
   "cell_type": "code",
   "execution_count": 70,
   "id": "61a3c032",
   "metadata": {},
   "outputs": [
    {
     "data": {
      "text/plain": [
       "4"
      ]
     },
     "execution_count": 70,
     "metadata": {},
     "output_type": "execute_result"
    }
   ],
   "source": []
  },
  {
   "cell_type": "code",
   "execution_count": null,
   "id": "14396c0e",
   "metadata": {},
   "outputs": [],
   "source": []
  },
  {
   "cell_type": "code",
   "execution_count": null,
   "id": "38ff61d8",
   "metadata": {},
   "outputs": [],
   "source": []
  },
  {
   "cell_type": "code",
   "execution_count": null,
   "id": "78840164",
   "metadata": {},
   "outputs": [],
   "source": []
  },
  {
   "cell_type": "code",
   "execution_count": null,
   "id": "a9eafa46",
   "metadata": {},
   "outputs": [],
   "source": []
  },
  {
   "cell_type": "code",
   "execution_count": null,
   "id": "87c73b6a",
   "metadata": {},
   "outputs": [],
   "source": []
  }
 ],
 "metadata": {
  "kernelspec": {
   "display_name": "Python 3.7.9 64-bit ('Project-Final': conda)",
   "language": "python",
   "name": "python379jvsc74a57bd0c183dc9d1849ac0ecaba2157023a562a43c4e08931968d5d80ad7610fa6f41b2"
  },
  "language_info": {
   "codemirror_mode": {
    "name": "ipython",
    "version": 3
   },
   "file_extension": ".py",
   "mimetype": "text/x-python",
   "name": "python",
   "nbconvert_exporter": "python",
   "pygments_lexer": "ipython3",
   "version": "3.7.12"
  }
 },
 "nbformat": 4,
 "nbformat_minor": 5
}
