{
 "cells": [
  {
   "cell_type": "code",
   "execution_count": 1,
   "id": "bd412136",
   "metadata": {},
   "outputs": [],
   "source": [
    "import folium\n",
    "import pandas as pd\n",
    "from geopy.geocoders import Nominatim\n",
    "import time\n",
    "import math\n",
    "import ee\n",
    "import geemap.foliumap as geemap\n",
    "import glob\n",
    "import plotly.express as px"
   ]
  },
  {
   "cell_type": "code",
   "execution_count": 2,
   "id": "1a65b746",
   "metadata": {},
   "outputs": [],
   "source": [
    "def map_dirección_usuario(adress):\n",
    "    \n",
    "    geo = Nominatim(user_agent = \"MyApp\")\n",
    "\n",
    "\n",
    "    loc = geo.geocode(adress)\n",
    "\n",
    "    coordenadas = loc.latitude, loc.longitude\n",
    "    \n",
    "    m = folium.Map(location=[coordenadas[0],coordenadas[1]], zoom_start=17.5)\n",
    "\n",
    "    tooltip = loc\n",
    "    \n",
    "    marker = folium.Marker(location=[coordenadas[0],coordenadas[1]], \n",
    "                       tooltip=f\"<b>{tooltip}</b><br><br>\", \n",
    "                       popup='<h1>Happy&nbsp;New&nbsp;Year!</h1><br><br>www:&nbsp;<a href=\"https://stackoverflow.com\">Stackoverflow.com</a><br><br>date:&nbsp;2021.01.01')\n",
    "    marker.add_to(m)\n",
    "\n",
    "    m.save('map.html')\n",
    "    \n",
    "    return m"
   ]
  },
  {
   "cell_type": "code",
   "execution_count": null,
   "id": "4b1c1501",
   "metadata": {},
   "outputs": [],
   "source": [
    "ee.Authenticate()\n",
    "\n",
    "# Create an interactive map\n",
    "Map = geemap.Map(plugin_Draw=True, Draw_export=False)\n",
    "# Add a basemap\n",
    "Map.add_basemap(\"TERRAIN\")\n",
    "# Retrieve Earth Engine dataset\n",
    "dem = ee.Image(\"USGS/SRTMGL1_003\")\n",
    "# Set visualization parameters\n",
    "vis_params = {\n",
    "    \"min\": 0,\n",
    "    \"max\": 4000,\n",
    "    \"palette\": [\"006633\", \"E5FFCC\", \"662A00\", \"D8D8D8\", \"F5F5F5\"],\n",
    "}\n",
    "# Add the Earth Engine image to the map\n",
    "Map.addLayer(dem, vis_params, \"SRTM DEM\", True, 0.5)\n",
    "# Add a colorbar to the map\n",
    "Map.add_colorbar(vis_params[\"palette\"], 0, 4000, caption=\"Elevation (m)\")\n",
    "# Render the map using streamlit\n",
    "Map.to_streamlit()\n"
   ]
  },
  {
   "cell_type": "code",
   "execution_count": null,
   "id": "235fac10",
   "metadata": {},
   "outputs": [],
   "source": [
    "def energía_generador_fotovoltaico(N_paneles):\n",
    "    \n",
    "    csv_files = glob.glob('../../../Downloads/*.csv')\n",
    "    \n",
    "    csv_pvgis =(\"\").join(csv_files).split(\"/\")[-1]\n",
    "    \n",
    "    df = pandas.read_csv(f'../../../../mohamedelmarraki/Downloads/{csv_pvgis}', sep=\"\\t\", header=[4]).head(12)\n",
    "    \n",
    "    df = df.loc[:, [\"year\", \"month\",\"H(i_opt)_m\", \"T2m\"]]\n",
    "    \n",
    "    irrandiacia_zona = ((df[\"H(i_opt)_m\"]) * 1000)/31\n",
    "    \n",
    "    HSP = irrandiacia_zona / 1000\n",
    "    \n",
    "    energía_generada = (HSP * N_paneles * N_paneles)/1000\n",
    "    \n",
    "    df_potencia = pd.DataFrame(energía_generada).rename(columns={\"H(i_opt)_m\" : \"Energía Generada en Kwh\"})\n",
    "\n",
    "    df_concat = pd.concat([df[\"month\"], df_potencia], axis =1)\n",
    "    \n",
    "    return fig.show()"
   ]
  }
 ],
 "metadata": {
  "kernelspec": {
   "display_name": "Python [conda env:Project-Final]",
   "language": "python",
   "name": "conda-env-Project-Final-py"
  },
  "language_info": {
   "codemirror_mode": {
    "name": "ipython",
    "version": 3
   },
   "file_extension": ".py",
   "mimetype": "text/x-python",
   "name": "python",
   "nbconvert_exporter": "python",
   "pygments_lexer": "ipython3",
   "version": "3.7.12"
  }
 },
 "nbformat": 4,
 "nbformat_minor": 5
}
