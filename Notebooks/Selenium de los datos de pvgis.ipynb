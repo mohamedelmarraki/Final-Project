{
 "cells": [
  {
   "cell_type": "code",
   "execution_count": 1,
   "id": "bff49e86",
   "metadata": {},
   "outputs": [],
   "source": [
    "import pandas as pd # importar la librería pandas\n",
    "\n",
    "import numpy as np # importar la librería numpy\n",
    "\n",
    "import requests # importar la librería requests\n",
    "\n",
    "from selenium import webdriver # Habrá que descargar el webdriver de chrome para realizar las distintas operaciones\n",
    "\n",
    "from selenium.webdriver.support.ui import WebDriverWait # Cuando cargamos una página web a veces el HTML tarda un poco en cargarse sugún nuestra velocidad de conexión pues hasta ciertos elementos no carguen tendremos que esperar\n",
    "\n",
    "from selenium.webdriver.support import expected_conditions as EC\n",
    "\n",
    "from selenium.webdriver.common.by import By\n",
    "\n",
    "from selenium.webdriver.support.ui import Select\n",
    "\n",
    "from selenium.webdriver.common.keys import Keys\n",
    "\n",
    "import time\n",
    "\n",
    "import os\n",
    "\n",
    "from geopy.geocoders import Nominatim\n",
    "\n",
    "import time\n",
    "\n",
    "import math\n"
   ]
  },
  {
   "cell_type": "code",
   "execution_count": 2,
   "id": "05897ce3",
   "metadata": {},
   "outputs": [],
   "source": [
    "def pvgis (dire):\n",
    "    geo = Nominatim(user_agent = \"MyApp\")\n",
    "    \n",
    "    loc = geo.geocode(dire)\n",
    "    \n",
    "    coordenadas = loc.latitude, loc.longitude    \n",
    "    \n",
    "    options = webdriver.ChromeOptions()\n",
    "    \n",
    "    options.add_argument(\"--start-maximized\")\n",
    "    \n",
    "    options.add_argument(\"--disable-extensions\")\n",
    "    \n",
    "    driver_path = '/Users/mohamedelmarraki/ironhack/Final-Project/chromedriver'\n",
    "    \n",
    "    driver = webdriver.Chrome(driver_path, chrome_options = options)\n",
    "    \n",
    "    driver.get(\"https://joint-research-centre.ec.europa.eu/pvgis-photovoltaic-geographical-information-system_en\")\n",
    "    \n",
    "    WebDriverWait(driver, 5)\\\n",
    "        .until(EC.element_to_be_clickable((By.CSS_SELECTOR, \"a.wt-link cck-actions-button\".replace(\" \", \".\"))))\\\n",
    "        .click()\n",
    "    \n",
    "    WebDriverWait(driver, 5)\\\n",
    "        .until(EC.element_to_be_clickable((By.CSS_SELECTOR, \"a.ecl-link ecl-link--primary\".replace(\" \", \".\"))))\\\n",
    "        .click()\n",
    "    \n",
    "    WebDriverWait(driver, 5)\\\n",
    "        .until(EC.element_to_be_clickable((By.CSS_SELECTOR, \"a.wt-cck-btn-add\".replace(\" \", \".\"))))\\\n",
    "        .click()\n",
    "    \n",
    "    WebDriverWait(driver, 5)\\\n",
    "        .until(EC.element_to_be_clickable((By.CSS_SELECTOR, \"input#inputLat\")))\\\n",
    "        .send_keys(coordenadas[0])\n",
    "    \n",
    "    WebDriverWait(driver, 5)\\\n",
    "        .until(EC.element_to_be_clickable((By.CSS_SELECTOR, \"input#inputLon\")))\\\n",
    "        .send_keys(coordenadas[1])\n",
    "    \n",
    "    WebDriverWait(driver, 5)\\\n",
    "        .until(EC.element_to_be_clickable((By.CSS_SELECTOR, \"button#btninputLatLon\".replace(\" \", \".\"))))\\\n",
    "        .click()\n",
    "    \n",
    "    WebDriverWait(driver, 5)\\\n",
    "        .until(EC.element_to_be_clickable((By.CSS_SELECTOR, \"span#tr_mondat\")))\\\n",
    "        .click()\n",
    "    \n",
    "    WebDriverWait(driver, 5)\\\n",
    "        .until(EC.element_to_be_clickable((By.CSS_SELECTOR, \"input#optrad\")))\\\n",
    "        .click()\n",
    "    \n",
    "    WebDriverWait(driver, 5)\\\n",
    "        .until(EC.element_to_be_clickable((By.CSS_SELECTOR, \"input#avtemp\")))\\\n",
    "        .click()\n",
    "    \n",
    "    WebDriverWait(driver, 5)\\\n",
    "        .until(EC.element_to_be_clickable((By.XPATH, \"//*[@id='mstartyear']\")))\\\n",
    "        .click()\n",
    "    \n",
    "    WebDriverWait(driver, 5)\\\n",
    "        .until(EC.element_to_be_clickable((By.XPATH, \"//*[@id='mstartyear']/option[16]\")))\\\n",
    "        .click()\n",
    "    \n",
    "    WebDriverWait(driver, 5)\\\n",
    "        .until(EC.element_to_be_clickable((By.XPATH, \"//*[@id='mendyear']\")))\\\n",
    "        .click()\n",
    "    \n",
    "    WebDriverWait(driver, 5)\\\n",
    "        .until(EC.element_to_be_clickable((By.XPATH, \"//*[@id='mendyear']/option[16]\")))\\\n",
    "        .click()\n",
    "    \n",
    "    WebDriverWait(driver, 5)\\\n",
    "        .until(EC.element_to_be_clickable((By.CSS_SELECTOR, \"div#monthdownloadcsv\")))\\\n",
    "        .click()\n",
    "    \n",
    "    time.sleep(1)\n",
    "    \n",
    "    driver.close()"
   ]
  },
  {
   "cell_type": "code",
   "execution_count": 3,
   "id": "afe9e4bc",
   "metadata": {
    "scrolled": false
   },
   "outputs": [
    {
     "name": "stdout",
     "output_type": "stream",
     "text": [
      "introduce la calle: Hermanos Ruiz Madrid\n"
     ]
    },
    {
     "name": "stderr",
     "output_type": "stream",
     "text": [
      "/Users/mohamedelmarraki/miniconda3/envs/Project-Final/lib/python3.7/site-packages/ipykernel_launcher.py:16: DeprecationWarning: executable_path has been deprecated, please pass in a Service object\n",
      "  \n",
      "/Users/mohamedelmarraki/miniconda3/envs/Project-Final/lib/python3.7/site-packages/ipykernel_launcher.py:16: DeprecationWarning: use options instead of chrome_options\n",
      "  \n"
     ]
    }
   ],
   "source": [
    "dire = input(\"introduce la calle: \")\n",
    "pvgis(dire)"
   ]
  },
  {
   "cell_type": "code",
   "execution_count": null,
   "id": "6fca34c2",
   "metadata": {},
   "outputs": [],
   "source": []
  },
  {
   "cell_type": "code",
   "execution_count": null,
   "id": "3af5739b",
   "metadata": {},
   "outputs": [],
   "source": []
  },
  {
   "cell_type": "code",
   "execution_count": null,
   "id": "5f3b19cf",
   "metadata": {},
   "outputs": [],
   "source": []
  }
 ],
 "metadata": {
  "interpreter": {
   "hash": "c183dc9d1849ac0ecaba2157023a562a43c4e08931968d5d80ad7610fa6f41b2"
  },
  "kernelspec": {
   "display_name": "Python [conda env:Project-Final]",
   "language": "python",
   "name": "conda-env-Project-Final-py"
  },
  "language_info": {
   "codemirror_mode": {
    "name": "ipython",
    "version": 3
   },
   "file_extension": ".py",
   "mimetype": "text/x-python",
   "name": "python",
   "nbconvert_exporter": "python",
   "pygments_lexer": "ipython3",
   "version": "3.7.12"
  }
 },
 "nbformat": 4,
 "nbformat_minor": 5
}
