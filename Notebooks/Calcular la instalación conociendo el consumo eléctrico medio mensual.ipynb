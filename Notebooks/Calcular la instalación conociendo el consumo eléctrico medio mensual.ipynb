{
 "cells": [
  {
   "cell_type": "code",
   "execution_count": 12,
   "id": "e1df8367",
   "metadata": {},
   "outputs": [],
   "source": [
    "def Numero_paneles_consumo_mensual():\n",
    "    \n",
    "    import numpy\n",
    "    \n",
    "    import pandas\n",
    "    \n",
    "    consumo_teorico = (int(input(\"Introduce el consumo eléctrico medio mensual\")))\n",
    "    \n",
    "    consumo_diario= consumo_teorico*1000/31/(0.95)\n",
    "    \n",
    "    csv_files = glob.glob('../../../Downloads/*.csv')\n",
    "    \n",
    "    csv_pvgis =(\"\").join(csv_files).split(\"/\")[-1]\n",
    "    \n",
    "    df = pandas.read_csv(csv_pvgis, sep=\"\\t\", header=[4]).head(12)\n",
    "    \n",
    "    df = df.loc[:, [\"year\", \"month\",\"H(i_opt)_m\", \"T2m\"]]\n",
    "    \n",
    "    irrandiacia_zona = ((df[\"H(i_opt)_m\"].min()) * 1000)/31\n",
    "    \n",
    "    HSP = irrandiacia_zona / 1000\n",
    "    \n",
    "    energía_producirá_día = HSP * 450 * 0.9\n",
    "    \n",
    "    Numero_paneles = consumo_diario / energía_producirá_día\n",
    "    \n",
    "    print(Numero_paneles)\n",
    "    \n",
    "    Numero_paneles = round(Numero_paneles+0.5)\n",
    "    \n",
    "    return Numero_paneles"
   ]
  },
  {
   "cell_type": "code",
   "execution_count": 13,
   "id": "8c305b8c",
   "metadata": {},
   "outputs": [
    {
     "name": "stdout",
     "output_type": "stream",
     "text": [
      "Introduce el consumo eléctrico medio mensual330\n",
      "8.560732658630865\n"
     ]
    },
    {
     "data": {
      "text/plain": [
       "9"
      ]
     },
     "execution_count": 13,
     "metadata": {},
     "output_type": "execute_result"
    }
   ],
   "source": [
    "Numero_paneles()"
   ]
  },
  {
   "cell_type": "code",
   "execution_count": 96,
   "id": "18dfc7f8",
   "metadata": {},
   "outputs": [],
   "source": [
    "import os\n",
    "import pandas as pd\n",
    "import glob\n",
    "from datetime import datetime\n",
    "from datetime import timedelta"
   ]
  },
  {
   "cell_type": "code",
   "execution_count": 115,
   "id": "8586bfd0",
   "metadata": {
    "scrolled": false
   },
   "outputs": [
    {
     "data": {
      "text/plain": [
       "[]"
      ]
     },
     "execution_count": 115,
     "metadata": {},
     "output_type": "execute_result"
    }
   ],
   "source": [
    "csv_files = glob.glob('../../../Downloads/*.csv')\n",
    "csv_pvgis = (\"\").join(csv_files).split(\"/\")\n",
    "lista = []\n",
    "for i in csv_pvgis:\n",
    "    if \"M\" in i:\n",
    "        lista.append(i.replace(\"..\", \"\"))\n",
    "lista\n",
    "from os import remove\n",
    "for i in lista:\n",
    "    remove(f'../../../Downloads/{i}')\n",
    "\n",
    "csv_files = glob.glob('../../../Downloads/*.csv')\n",
    "csv_pvgis =(\"\").join(csv_files).split(\"/\")[-1]"
   ]
  },
  {
   "cell_type": "code",
   "execution_count": 119,
   "id": "41cd59c3",
   "metadata": {},
   "outputs": [
    {
     "data": {
      "text/plain": [
       "'Monthlydata_40.485_-4.620_SA2_2005_2005.csv'"
      ]
     },
     "execution_count": 119,
     "metadata": {},
     "output_type": "execute_result"
    }
   ],
   "source": [
    "csv_files = glob.glob('../../../Downloads/*.csv')\n",
    "csv_pvgis =(\"\").join(csv_files).split(\"/\")[-1]"
   ]
  },
  {
   "cell_type": "code",
   "execution_count": null,
   "id": "a5b3905c",
   "metadata": {},
   "outputs": [],
   "source": []
  }
 ],
 "metadata": {
  "kernelspec": {
   "display_name": "Python [conda env:Project-Final]",
   "language": "python",
   "name": "conda-env-Project-Final-py"
  },
  "language_info": {
   "codemirror_mode": {
    "name": "ipython",
    "version": 3
   },
   "file_extension": ".py",
   "mimetype": "text/x-python",
   "name": "python",
   "nbconvert_exporter": "python",
   "pygments_lexer": "ipython3",
   "version": "3.7.12"
  }
 },
 "nbformat": 4,
 "nbformat_minor": 5
}
