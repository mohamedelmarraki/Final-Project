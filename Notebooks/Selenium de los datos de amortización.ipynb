{
 "cells": [
  {
   "cell_type": "code",
   "execution_count": 1,
   "id": "cbfdfc8a",
   "metadata": {},
   "outputs": [],
   "source": [
    "import pandas as pd # importar la librería pandas\n",
    "\n",
    "import numpy as np # importar la librería numpy\n",
    "\n",
    "import requests # importar la librería requests\n",
    "\n",
    "from selenium import webdriver # Habrá que descargar el webdriver de chrome para realizar las distintas operaciones\n",
    "\n",
    "from selenium.webdriver.support.ui import WebDriverWait # Cuando cargamos una página web a veces el HTML tarda un poco en cargarse sugún nuestra velocidad de conexión pues hasta ciertos elementos no carguen tendremos que esperar\n",
    "\n",
    "from selenium.webdriver.support import expected_conditions as EC\n",
    "\n",
    "from selenium.webdriver.common.by import By\n",
    "\n",
    "from selenium.webdriver.support.ui import Select\n",
    "\n",
    "from selenium.webdriver.common.keys import Keys\n",
    "\n",
    "import time\n",
    "\n",
    "import os\n",
    "\n",
    "from geopy.geocoders import Nominatim\n",
    "\n",
    "import time\n",
    "\n",
    "import math"
   ]
  },
  {
   "cell_type": "code",
   "execution_count": null,
   "id": "77b564fd",
   "metadata": {},
   "outputs": [],
   "source": [
    "options = webdriver.ChromeOptions()\n",
    "\n",
    "options.add_argument(\"--start-maximized\")\n",
    "\n",
    "options.add_argument(\"--disable-extensions\")\n",
    "\n",
    "driver_path = '/Users/mohamedelmarraki/ironhack/Final-Project/chromedriver'\n",
    "\n",
    "driver = webdriver.Chrome(driver_path, chrome_options = options)\n",
    "\n",
    "driver.get(\"https://precioinstalacionplacassolares.com/\")\n",
    "\n",
    "WebDriverWait(driver, 5)\\\n",
    "    .until(EC.element_to_be_clickable((By.XPATH, \"//*[@id='portfolio-tabs-navigation']\")))\\\n",
    "    .click()\n",
    "\n",
    "\n",
    "WebDriverWait(driver, 5)\\\n",
    "    .until(EC.element_to_be_clickable((By.XPATH, \"//*[@id='portfolio-tabs-navigation']/option[2]\")))\\\n",
    "    .click()\n",
    "\n"
   ]
  },
  {
   "cell_type": "code",
   "execution_count": 39,
   "id": "ec6fe2fc",
   "metadata": {},
   "outputs": [
    {
     "name": "stderr",
     "output_type": "stream",
     "text": [
      "/Users/mohamedelmarraki/miniconda3/envs/Project-Final/lib/python3.7/site-packages/ipykernel_launcher.py:4: DeprecationWarning: executable_path has been deprecated, please pass in a Service object\n",
      "  after removing the cwd from sys.path.\n",
      "/Users/mohamedelmarraki/miniconda3/envs/Project-Final/lib/python3.7/site-packages/ipykernel_launcher.py:4: DeprecationWarning: use options instead of chrome_options\n",
      "  after removing the cwd from sys.path.\n",
      "/Users/mohamedelmarraki/miniconda3/envs/Project-Final/lib/python3.7/site-packages/ipykernel_launcher.py:8: DeprecationWarning: find_element_by_xpath is deprecated. Please use find_element(by=By.XPATH, value=xpath) instead\n",
      "  \n"
     ]
    }
   ],
   "source": [
    "from selenium import webdriver\n",
    "from selenium.webdriver.common.action_chains import ActionChains\n",
    "\n",
    "driver = webdriver.Chrome(driver_path, chrome_options = options)\n",
    "\n",
    "driver.get(\"https://precioinstalacionplacassolares.com/\")\n",
    "\n",
    "slider = driver.find_element_by_xpath(\"//*[@id='entry']\")\n",
    "\n",
    "move = ActionChains(driver)\n",
    "\n",
    "move.click_and_hold(slider).move_by_offset(0, 0).release().perform()"
   ]
  },
  {
   "cell_type": "code",
   "execution_count": null,
   "id": "52f81678",
   "metadata": {},
   "outputs": [],
   "source": []
  },
  {
   "cell_type": "code",
   "execution_count": null,
   "id": "cf2bef28",
   "metadata": {},
   "outputs": [],
   "source": []
  },
  {
   "cell_type": "code",
   "execution_count": null,
   "id": "44f0ddef",
   "metadata": {},
   "outputs": [],
   "source": []
  },
  {
   "cell_type": "code",
   "execution_count": null,
   "id": "2359f23a",
   "metadata": {},
   "outputs": [],
   "source": []
  },
  {
   "cell_type": "code",
   "execution_count": null,
   "id": "8071e183",
   "metadata": {},
   "outputs": [],
   "source": []
  },
  {
   "cell_type": "code",
   "execution_count": null,
   "id": "5fe17324",
   "metadata": {},
   "outputs": [],
   "source": []
  },
  {
   "cell_type": "code",
   "execution_count": null,
   "id": "f64746cf",
   "metadata": {},
   "outputs": [],
   "source": []
  },
  {
   "cell_type": "code",
   "execution_count": null,
   "id": "5ea600f8",
   "metadata": {},
   "outputs": [],
   "source": []
  },
  {
   "cell_type": "code",
   "execution_count": null,
   "id": "5edc9778",
   "metadata": {},
   "outputs": [],
   "source": []
  },
  {
   "cell_type": "code",
   "execution_count": null,
   "id": "11816709",
   "metadata": {},
   "outputs": [],
   "source": []
  },
  {
   "cell_type": "code",
   "execution_count": null,
   "id": "758660d0",
   "metadata": {},
   "outputs": [],
   "source": []
  },
  {
   "cell_type": "code",
   "execution_count": null,
   "id": "56fbf10a",
   "metadata": {},
   "outputs": [],
   "source": []
  },
  {
   "cell_type": "code",
   "execution_count": 29,
   "id": "ba26368c",
   "metadata": {
    "scrolled": true
   },
   "outputs": [
    {
     "name": "stderr",
     "output_type": "stream",
     "text": [
      "/Users/mohamedelmarraki/miniconda3/envs/Project-Final/lib/python3.7/site-packages/ipykernel_launcher.py:13: DeprecationWarning: executable_path has been deprecated, please pass in a Service object\n",
      "  del sys.path[0]\n",
      "/Users/mohamedelmarraki/miniconda3/envs/Project-Final/lib/python3.7/site-packages/ipykernel_launcher.py:13: DeprecationWarning: use options instead of chrome_options\n",
      "  del sys.path[0]\n",
      "/Users/mohamedelmarraki/miniconda3/envs/Project-Final/lib/python3.7/site-packages/ipykernel_launcher.py:22: DeprecationWarning: find_element_by_xpath is deprecated. Please use find_element(by=By.XPATH, value=xpath) instead\n",
      "/Users/mohamedelmarraki/miniconda3/envs/Project-Final/lib/python3.7/site-packages/ipykernel_launcher.py:27: DeprecationWarning: find_element_by_xpath is deprecated. Please use find_element(by=By.XPATH, value=xpath) instead\n"
     ]
    }
   ],
   "source": [
    "from selenium import webdriver\n",
    "from selenium.webdriver.common.action_chains import ActionChains\n",
    "\n",
    "options = webdriver.ChromeOptions()\n",
    "\n",
    "\n",
    "options.add_argument(\"--start-maximized\")\n",
    "\n",
    "options.add_argument(\"--disable-extensions\")\n",
    "\n",
    "driver_path = '/Users/mohamedelmarraki/ironhack/Final-Project/chromedriver'\n",
    "\n",
    "driver = webdriver.Chrome(driver_path, chrome_options = options)\n",
    "\n",
    "\n",
    "\n",
    "driver.get('https://precioinstalacionplacassolares.com/')\n",
    "\n",
    "\n",
    "driver.execute_script(\"return document.getElementById('entry').setAttribute('value', '4')\")\n",
    "\n",
    "potencia_electro1 = driver.find_element_by_xpath(\"//*[@id='portfolio-card-one']/div\")\n",
    "potencia_electro1 = potencia_electro1.text"
   ]
  },
  {
   "cell_type": "code",
   "execution_count": null,
   "id": "901a212f",
   "metadata": {},
   "outputs": [],
   "source": []
  },
  {
   "cell_type": "code",
   "execution_count": 51,
   "id": "53bb6d33",
   "metadata": {},
   "outputs": [
    {
     "name": "stderr",
     "output_type": "stream",
     "text": [
      "/Users/mohamedelmarraki/miniconda3/envs/Project-Final/lib/python3.7/site-packages/ipykernel_launcher.py:13: DeprecationWarning: executable_path has been deprecated, please pass in a Service object\n",
      "  del sys.path[0]\n",
      "/Users/mohamedelmarraki/miniconda3/envs/Project-Final/lib/python3.7/site-packages/ipykernel_launcher.py:13: DeprecationWarning: use options instead of chrome_options\n",
      "  del sys.path[0]\n"
     ]
    }
   ],
   "source": [
    "from selenium import webdriver\n",
    "from selenium.webdriver.common.action_chains import ActionChains\n",
    "\n",
    "options = webdriver.ChromeOptions()\n",
    "\n",
    "\n",
    "options.add_argument(\"--start-maximized\")\n",
    "\n",
    "options.add_argument(\"--disable-extensions\")\n",
    "\n",
    "driver_path = '/Users/mohamedelmarraki/ironhack/Final-Project/chromedriver'\n",
    "\n",
    "driver = webdriver.Chrome(driver_path, chrome_options = options)\n",
    "\n",
    "\n",
    "\n",
    "driver.get('https://precioinstalacionplacassolares.com/')\n",
    "\n",
    "driver.execute_script(\"return document.getElementById('entry').setAttribute('value', '22')\")\n"
   ]
  },
  {
   "cell_type": "code",
   "execution_count": 53,
   "id": "c18362b1",
   "metadata": {},
   "outputs": [
    {
     "data": {
      "text/plain": [
       "True"
      ]
     },
     "execution_count": 53,
     "metadata": {},
     "output_type": "execute_result"
    }
   ],
   "source": [
    "driver.execute_script(\"return document.getElementById('entry').setAttribute('value', '8')\")\n",
    "\n",
    "driver.execute_script(\"return document.getElementById('entry').dispatchEvent(new Event('input'))\")"
   ]
  },
  {
   "cell_type": "code",
   "execution_count": 46,
   "id": "b258a62f",
   "metadata": {},
   "outputs": [],
   "source": [
    "WebDriverWait(driver, 5)\\\n",
    "    .until(EC.element_to_be_clickable((By.XPATH, \"//*[@id='entry']\")))\\\n",
    "    .send_keys(8)"
   ]
  },
  {
   "cell_type": "code",
   "execution_count": null,
   "id": "2db6d6eb",
   "metadata": {},
   "outputs": [],
   "source": []
  },
  {
   "cell_type": "code",
   "execution_count": null,
   "id": "73bd3170",
   "metadata": {},
   "outputs": [],
   "source": []
  },
  {
   "cell_type": "code",
   "execution_count": null,
   "id": "0b4a17df",
   "metadata": {},
   "outputs": [],
   "source": []
  },
  {
   "cell_type": "code",
   "execution_count": null,
   "id": "17778358",
   "metadata": {},
   "outputs": [],
   "source": []
  },
  {
   "cell_type": "code",
   "execution_count": null,
   "id": "3e32530e",
   "metadata": {},
   "outputs": [],
   "source": []
  },
  {
   "cell_type": "code",
   "execution_count": null,
   "id": "c9a970bc",
   "metadata": {},
   "outputs": [],
   "source": []
  },
  {
   "cell_type": "code",
   "execution_count": null,
   "id": "12cdc9b0",
   "metadata": {},
   "outputs": [],
   "source": []
  },
  {
   "cell_type": "code",
   "execution_count": null,
   "id": "ba7e70cf",
   "metadata": {},
   "outputs": [],
   "source": []
  },
  {
   "cell_type": "code",
   "execution_count": null,
   "id": "c4a918ce",
   "metadata": {},
   "outputs": [],
   "source": []
  },
  {
   "cell_type": "code",
   "execution_count": null,
   "id": "fafe0b91",
   "metadata": {},
   "outputs": [],
   "source": []
  },
  {
   "cell_type": "code",
   "execution_count": null,
   "id": "569d773c",
   "metadata": {},
   "outputs": [],
   "source": []
  },
  {
   "cell_type": "code",
   "execution_count": null,
   "id": "83a7f260",
   "metadata": {},
   "outputs": [],
   "source": []
  },
  {
   "cell_type": "code",
   "execution_count": null,
   "id": "db9573a0",
   "metadata": {},
   "outputs": [],
   "source": []
  },
  {
   "cell_type": "code",
   "execution_count": null,
   "id": "1656b945",
   "metadata": {},
   "outputs": [],
   "source": []
  },
  {
   "cell_type": "code",
   "execution_count": null,
   "id": "4eb091d5",
   "metadata": {},
   "outputs": [],
   "source": []
  },
  {
   "cell_type": "code",
   "execution_count": null,
   "id": "6d6b707a",
   "metadata": {},
   "outputs": [],
   "source": []
  },
  {
   "cell_type": "code",
   "execution_count": null,
   "id": "58b3060e",
   "metadata": {},
   "outputs": [],
   "source": []
  },
  {
   "cell_type": "code",
   "execution_count": null,
   "id": "be74e134",
   "metadata": {},
   "outputs": [],
   "source": []
  },
  {
   "cell_type": "code",
   "execution_count": null,
   "id": "2fec3a5b",
   "metadata": {},
   "outputs": [],
   "source": []
  },
  {
   "cell_type": "code",
   "execution_count": null,
   "id": "dd183730",
   "metadata": {},
   "outputs": [],
   "source": [
    "driver.execute_script(\"return document.getElementById('entry').setAttribute('value', '5')\")\n",
    "\n",
    "driver.execute_script(\"return document.getElementById('entry').setAttribute('value', '6')\")\n",
    "\n",
    "driver.execute_script(\"return document.getElementById('entry').setAttribute('value', '7')\")\n",
    "\n",
    "driver.execute_script(\"return document.getElementById('entry').setAttribute('value', '8')\")\n",
    "\n",
    "driver.execute_script(\"return document.getElementById('entry').setAttribute('value', '9')\")\n",
    "\n",
    "driver.execute_script(\"return document.getElementById('entry').setAttribute('value', '10')\")\n",
    "\n",
    "driver.execute_script(\"return document.getElementById('entry').setAttribute('value', '11')\")\n",
    "\n",
    "driver.execute_script(\"return document.getElementById('entry').setAttribute('value', '12')\")\n",
    "\n",
    "driver.execute_script(\"return document.getElementById('entry').setAttribute('value', '13')\")\n",
    "\n",
    "driver.execute_script(\"return document.getElementById('entry').setAttribute('value', '14')\")\n",
    "\n",
    "driver.execute_script(\"return document.getElementById('entry').setAttribute('value', '15')\")\n",
    "\n",
    "driver.execute_script(\"return document.getElementById('entry').setAttribute('value', '16')\")\n",
    "\n",
    "driver.execute_script(\"return document.getElementById('entry').setAttribute('value', '17')\")\n",
    "\n",
    "driver.execute_script(\"return document.getElementById('entry').setAttribute('value', '18')\")\n",
    "\n",
    "driver.execute_script(\"return document.getElementById('entry').setAttribute('value', '19')\")\n",
    "\n",
    "driver.execute_script(\"return document.getElementById('entry').setAttribute('value', '20')\")\n",
    "\n",
    "driver.execute_script(\"return document.getElementById('entry').setAttribute('value', '21')\")\n",
    "\n",
    "driver.execute_script(\"return document.getElementById('entry').setAttribute('value', '22')\")\n"
   ]
  },
  {
   "cell_type": "code",
   "execution_count": null,
   "id": "dba08bd1",
   "metadata": {},
   "outputs": [],
   "source": []
  },
  {
   "cell_type": "code",
   "execution_count": null,
   "id": "5fb4d7e2",
   "metadata": {},
   "outputs": [],
   "source": []
  },
  {
   "cell_type": "code",
   "execution_count": null,
   "id": "e1edecdb",
   "metadata": {},
   "outputs": [],
   "source": [
    "a = \"//*[@id='entry']\""
   ]
  },
  {
   "cell_type": "code",
   "execution_count": null,
   "id": "25fe2db5",
   "metadata": {},
   "outputs": [],
   "source": [
    "#element = driver.find_element_by_xpath(a).get_attribute(\"value\")"
   ]
  },
  {
   "cell_type": "code",
   "execution_count": null,
   "id": "9b744951",
   "metadata": {},
   "outputs": [],
   "source": [
    "print(element)"
   ]
  },
  {
   "cell_type": "code",
   "execution_count": 14,
   "id": "1b2554fe",
   "metadata": {},
   "outputs": [],
   "source": [
    "from IPython.display import Javascript"
   ]
  },
  {
   "cell_type": "code",
   "execution_count": 17,
   "id": "dd7e5a5b",
   "metadata": {},
   "outputs": [],
   "source": [
    "value = driver.execute_script(\"return document.getElementById('entry').setAttribute('value', '22')\")"
   ]
  },
  {
   "cell_type": "code",
   "execution_count": null,
   "id": "2ef4a7f9",
   "metadata": {},
   "outputs": [],
   "source": [
    "value.setAttribute"
   ]
  },
  {
   "cell_type": "code",
   "execution_count": 23,
   "id": "236cbf37",
   "metadata": {},
   "outputs": [
    {
     "name": "stderr",
     "output_type": "stream",
     "text": [
      "/Users/mohamedelmarraki/miniconda3/envs/Project-Final/lib/python3.7/site-packages/ipykernel_launcher.py:9: DeprecationWarning: executable_path has been deprecated, please pass in a Service object\n",
      "  if __name__ == \"__main__\":\n",
      "/Users/mohamedelmarraki/miniconda3/envs/Project-Final/lib/python3.7/site-packages/ipykernel_launcher.py:9: DeprecationWarning: use options instead of chrome_options\n",
      "  if __name__ == \"__main__\":\n",
      "/Users/mohamedelmarraki/miniconda3/envs/Project-Final/lib/python3.7/site-packages/ipykernel_launcher.py:14: DeprecationWarning: find_element_by_xpath is deprecated. Please use find_element(by=By.XPATH, value=xpath) instead\n",
      "  \n"
     ]
    }
   ],
   "source": [
    "options = webdriver.ChromeOptions()\n",
    "    \n",
    "options.add_argument(\"--start-maximized\")\n",
    "    \n",
    "options.add_argument(\"--disable-extensions\")\n",
    "    \n",
    "driver_path = '/Users/mohamedelmarraki/ironhack/Final-Project/chromedriver'\n",
    "    \n",
    "driver = webdriver.Chrome(driver_path, chrome_options = options)\n",
    "    \n",
    "driver.get(\"https://precioinstalacionplacassolares.com/\")\n",
    "\n",
    "\n",
    "potencia_electro1 = driver.find_element_by_xpath(\"//*[@id='portfolio-card-one']/div\")\n",
    "potencia_electro1 = [potencia_electro1.text]"
   ]
  },
  {
   "cell_type": "code",
   "execution_count": 25,
   "id": "af315359",
   "metadata": {},
   "outputs": [
    {
     "data": {
      "text/plain": [
       "list"
      ]
     },
     "execution_count": 25,
     "metadata": {},
     "output_type": "execute_result"
    }
   ],
   "source": [
    "type(potencia_electro1)"
   ]
  },
  {
   "cell_type": "code",
   "execution_count": null,
   "id": "0391dacb",
   "metadata": {},
   "outputs": [],
   "source": []
  },
  {
   "cell_type": "code",
   "execution_count": null,
   "id": "51c1352b",
   "metadata": {},
   "outputs": [],
   "source": []
  },
  {
   "cell_type": "code",
   "execution_count": null,
   "id": "e1a29dae",
   "metadata": {},
   "outputs": [],
   "source": []
  },
  {
   "cell_type": "code",
   "execution_count": null,
   "id": "7ddde36a",
   "metadata": {},
   "outputs": [],
   "source": [
    "//*[@id=\"portfolio-card-one\"]/div\n",
    "\n",
    "//*[@id=\"portfolio-card-one\"]/div"
   ]
  }
 ],
 "metadata": {
  "kernelspec": {
   "display_name": "Python [conda env:Project-Final]",
   "language": "python",
   "name": "conda-env-Project-Final-py"
  },
  "language_info": {
   "codemirror_mode": {
    "name": "ipython",
    "version": 3
   },
   "file_extension": ".py",
   "mimetype": "text/x-python",
   "name": "python",
   "nbconvert_exporter": "python",
   "pygments_lexer": "ipython3",
   "version": "3.7.12"
  }
 },
 "nbformat": 4,
 "nbformat_minor": 5
}
