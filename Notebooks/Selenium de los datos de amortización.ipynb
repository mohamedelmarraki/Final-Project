{
 "cells": [
  {
   "cell_type": "code",
   "execution_count": null,
   "id": "cbfdfc8a",
   "metadata": {},
   "outputs": [],
   "source": [
    "import pandas as pd # importar la librería pandas\n",
    "\n",
    "import numpy as np # importar la librería numpy\n",
    "\n",
    "import requests # importar la librería requests\n",
    "\n",
    "from selenium import webdriver # Habrá que descargar el webdriver de chrome para realizar las distintas operaciones\n",
    "\n",
    "from selenium.webdriver.support.ui import WebDriverWait # Cuando cargamos una página web a veces el HTML tarda un poco en cargarse sugún nuestra velocidad de conexión pues hasta ciertos elementos no carguen tendremos que esperar\n",
    "\n",
    "from selenium.webdriver.support import expected_conditions as EC\n",
    "\n",
    "from selenium.webdriver.common.by import By\n",
    "\n",
    "from selenium.webdriver.support.ui import Select\n",
    "\n",
    "from selenium.webdriver.common.keys import Keys\n",
    "\n",
    "import time\n",
    "\n",
    "import os\n",
    "\n",
    "from geopy.geocoders import Nominatim\n",
    "\n",
    "import time\n",
    "\n",
    "import math"
   ]
  },
  {
   "cell_type": "code",
   "execution_count": null,
   "id": "77b564fd",
   "metadata": {},
   "outputs": [],
   "source": [
    "options = webdriver.ChromeOptions()\n",
    "\n",
    "options.add_argument(\"--start-maximized\")\n",
    "\n",
    "options.add_argument(\"--disable-extensions\")\n",
    "\n",
    "driver_path = '/Users/mohamedelmarraki/ironhack/Final-Project/chromedriver'\n",
    "\n",
    "driver = webdriver.Chrome(driver_path, chrome_options = options)\n",
    "\n",
    "driver.get(\"https://precioinstalacionplacassolares.com/\")\n",
    "\n",
    "WebDriverWait(driver, 5)\\\n",
    "    .until(EC.element_to_be_clickable((By.XPATH, \"//*[@id='portfolio-tabs-navigation']\")))\\\n",
    "    .click()\n",
    "\n",
    "\n",
    "WebDriverWait(driver, 5)\\\n",
    "    .until(EC.element_to_be_clickable((By.XPATH, \"//*[@id='portfolio-tabs-navigation']/option[2]\")))\\\n",
    "    .click()\n",
    "\n"
   ]
  },
  {
   "cell_type": "code",
   "execution_count": null,
   "id": "ec6fe2fc",
   "metadata": {},
   "outputs": [],
   "source": [
    "from selenium import webdriver\n",
    "from selenium.webdriver.common.action_chains import ActionChains\n",
    "\n",
    "driver = webdriver.Chrome(driver_path, chrome_options = options)\n",
    "\n",
    "driver.get(\"https://precioinstalacionplacassolares.com/\")\n",
    "\n",
    "slider = driver.find_element_by_xpath(\"//*[@id='entry']\")\n",
    "\n",
    "move = ActionChains(driver)\n",
    "\n",
    "move.click_and_hold(slider).move_by_offset(0, 0).release().perform()"
   ]
  },
  {
   "cell_type": "code",
   "execution_count": null,
   "id": "52f81678",
   "metadata": {},
   "outputs": [],
   "source": []
  },
  {
   "cell_type": "code",
   "execution_count": null,
   "id": "cf2bef28",
   "metadata": {},
   "outputs": [],
   "source": []
  },
  {
   "cell_type": "code",
   "execution_count": null,
   "id": "44f0ddef",
   "metadata": {},
   "outputs": [],
   "source": []
  },
  {
   "cell_type": "code",
   "execution_count": null,
   "id": "2359f23a",
   "metadata": {},
   "outputs": [],
   "source": []
  },
  {
   "cell_type": "code",
   "execution_count": null,
   "id": "8071e183",
   "metadata": {},
   "outputs": [],
   "source": []
  },
  {
   "cell_type": "code",
   "execution_count": null,
   "id": "5fe17324",
   "metadata": {},
   "outputs": [],
   "source": []
  },
  {
   "cell_type": "code",
   "execution_count": null,
   "id": "f64746cf",
   "metadata": {},
   "outputs": [],
   "source": []
  },
  {
   "cell_type": "code",
   "execution_count": null,
   "id": "5ea600f8",
   "metadata": {},
   "outputs": [],
   "source": []
  },
  {
   "cell_type": "code",
   "execution_count": null,
   "id": "5edc9778",
   "metadata": {},
   "outputs": [],
   "source": []
  },
  {
   "cell_type": "code",
   "execution_count": null,
   "id": "11816709",
   "metadata": {},
   "outputs": [],
   "source": []
  },
  {
   "cell_type": "code",
   "execution_count": null,
   "id": "758660d0",
   "metadata": {},
   "outputs": [],
   "source": []
  },
  {
   "cell_type": "code",
   "execution_count": null,
   "id": "56fbf10a",
   "metadata": {},
   "outputs": [],
   "source": []
  },
  {
   "cell_type": "code",
   "execution_count": null,
   "id": "ba26368c",
   "metadata": {
    "scrolled": true
   },
   "outputs": [],
   "source": [
    "from selenium import webdriver\n",
    "from selenium.webdriver.common.action_chains import ActionChains\n",
    "\n",
    "options = webdriver.ChromeOptions()\n",
    "\n",
    "\n",
    "options.add_argument(\"--start-maximized\")\n",
    "\n",
    "options.add_argument(\"--disable-extensions\")\n",
    "\n",
    "driver_path = '/Users/mohamedelmarraki/ironhack/Final-Project/chromedriver'\n",
    "\n",
    "driver = webdriver.Chrome(driver_path, chrome_options = options)\n",
    "\n",
    "\n",
    "\n",
    "driver.get('https://precioinstalacionplacassolares.com/')\n",
    "\n",
    "\n",
    "driver.execute_script(\"return document.getElementById('entry').setAttribute('value', '2')\")\n",
    "\n",
    "potencia_electro1 = driver.find_element_by_xpath(\"//*[@id='portfolio-card-one']/div\")\n",
    "potencia_electro1 = potencia_electro1.text"
   ]
  },
  {
   "cell_type": "code",
   "execution_count": null,
   "id": "2cf8dc7e",
   "metadata": {},
   "outputs": [],
   "source": []
  },
  {
   "cell_type": "code",
   "execution_count": null,
   "id": "e76a82e2",
   "metadata": {},
   "outputs": [],
   "source": []
  },
  {
   "cell_type": "code",
   "execution_count": null,
   "id": "dbc87b0a",
   "metadata": {},
   "outputs": [],
   "source": []
  },
  {
   "cell_type": "code",
   "execution_count": null,
   "id": "f25f8198",
   "metadata": {},
   "outputs": [],
   "source": []
  },
  {
   "cell_type": "code",
   "execution_count": null,
   "id": "5d2cfe48",
   "metadata": {},
   "outputs": [],
   "source": []
  },
  {
   "cell_type": "code",
   "execution_count": null,
   "id": "c268b786",
   "metadata": {},
   "outputs": [],
   "source": []
  },
  {
   "cell_type": "code",
   "execution_count": null,
   "id": "42bce907",
   "metadata": {},
   "outputs": [],
   "source": []
  },
  {
   "cell_type": "code",
   "execution_count": null,
   "id": "eedbf32b",
   "metadata": {},
   "outputs": [],
   "source": []
  },
  {
   "cell_type": "code",
   "execution_count": null,
   "id": "4b8e20f9",
   "metadata": {},
   "outputs": [],
   "source": []
  },
  {
   "cell_type": "code",
   "execution_count": null,
   "id": "e2b6ac15",
   "metadata": {},
   "outputs": [],
   "source": []
  },
  {
   "cell_type": "code",
   "execution_count": null,
   "id": "e242e02e",
   "metadata": {},
   "outputs": [],
   "source": []
  },
  {
   "cell_type": "code",
   "execution_count": null,
   "id": "41947216",
   "metadata": {},
   "outputs": [],
   "source": []
  },
  {
   "cell_type": "code",
   "execution_count": null,
   "id": "901a212f",
   "metadata": {},
   "outputs": [],
   "source": []
  },
  {
   "cell_type": "code",
   "execution_count": 1,
   "id": "53bb6d33",
   "metadata": {},
   "outputs": [
    {
     "name": "stderr",
     "output_type": "stream",
     "text": [
      "/Users/mohamedelmarraki/miniconda3/envs/Project-Final/lib/python3.7/site-packages/ipykernel_launcher.py:13: DeprecationWarning: executable_path has been deprecated, please pass in a Service object\n",
      "  del sys.path[0]\n",
      "/Users/mohamedelmarraki/miniconda3/envs/Project-Final/lib/python3.7/site-packages/ipykernel_launcher.py:13: DeprecationWarning: use options instead of chrome_options\n",
      "  del sys.path[0]\n"
     ]
    }
   ],
   "source": [
    "from selenium import webdriver\n",
    "from selenium.webdriver.common.action_chains import ActionChains\n",
    "\n",
    "options = webdriver.ChromeOptions()\n",
    "\n",
    "\n",
    "options.add_argument(\"--start-maximized\")\n",
    "\n",
    "options.add_argument(\"--disable-extensions\")\n",
    "\n",
    "driver_path = '/Users/mohamedelmarraki/ironhack/Final-Project/chromedriver'\n",
    "\n",
    "driver = webdriver.Chrome(driver_path, chrome_options = options)\n",
    "\n",
    "\n",
    "\n",
    "driver.get('https://precioinstalacionplacassolares.com/')\n",
    "\n",
    "driver.execute_script(\"return document.getElementById('entry').setAttribute('value', '22')\")\n"
   ]
  },
  {
   "cell_type": "code",
   "execution_count": null,
   "id": "bf85789f",
   "metadata": {},
   "outputs": [],
   "source": [
    "driver.execute_script(\"return document.getElementById('entry').setAttribute('value', '4')\")\n",
    "\n",
    "driver.execute_script(\"return document.getElementById('entry').dispatchEvent(new Event('input'))\")"
   ]
  },
  {
   "cell_type": "code",
   "execution_count": null,
   "id": "e63b8103",
   "metadata": {
    "scrolled": true
   },
   "outputs": [],
   "source": [
    "potencia_electro1 = driver.find_element_by_xpath(\"//*[@id='portfolio-card-one']/div\")\n",
    "potencia_electro1 = potencia_electro1.text\n",
    "potencia_electro1\n"
   ]
  },
  {
   "cell_type": "code",
   "execution_count": null,
   "id": "a5048167",
   "metadata": {},
   "outputs": [],
   "source": []
  },
  {
   "cell_type": "code",
   "execution_count": 2,
   "id": "a24f2d4a",
   "metadata": {
    "scrolled": true
   },
   "outputs": [
    {
     "name": "stderr",
     "output_type": "stream",
     "text": [
      "/Users/mohamedelmarraki/miniconda3/envs/Project-Final/lib/python3.7/site-packages/ipykernel_launcher.py:8: DeprecationWarning: find_element_by_xpath is deprecated. Please use find_element(by=By.XPATH, value=xpath) instead\n",
      "  \n"
     ]
    }
   ],
   "source": [
    "lista = []\n",
    "for i in range(4,23):\n",
    "    for y in range(2,11):\n",
    "        driver.execute_script(f\"return document.getElementById('entry').setAttribute('value', {i})\")\n",
    "        driver.execute_script(\"return document.getElementById('entry').dispatchEvent(new Event('input'))\")\n",
    "        driver.execute_script(f\"return document.getElementById('entry2').setAttribute('value', {y})\")\n",
    "        driver.execute_script(\"return document.getElementById('entry2').dispatchEvent(new Event('input'))\")\n",
    "        lista.append(driver.find_element_by_xpath(\"//*[@id='portfolio-card-one']/div\").text)\n",
    "        "
   ]
  },
  {
   "cell_type": "code",
   "execution_count": 7,
   "id": "2333c791",
   "metadata": {},
   "outputs": [
    {
     "data": {
      "text/plain": [
       "'PRESUPUESTO\\n4537.75 €\\nImporte del presupuesto\\n5490.68 €\\nTotal (21% IVA incluido)\\nProducción anual\\n4369 kWh\\nAhorro anual\\n582 €\\nAmortización de la inversión\\n9 años\\n*Los importes y datos de producción, ahorro y amortización son estimaciones. Para obtener información más personalizada póngase en contacto con nosotros.'"
      ]
     },
     "execution_count": 7,
     "metadata": {},
     "output_type": "execute_result"
    }
   ],
   "source": [
    "lista[16]"
   ]
  },
  {
   "cell_type": "code",
   "execution_count": null,
   "id": "e2620079",
   "metadata": {},
   "outputs": [],
   "source": [
    "4 2\n",
    "4 3\n",
    "4 4\n",
    "4 5\n",
    "4 6\n",
    "4 7\n",
    "4 8\n",
    "4 9\n",
    "4 10\n",
    "5 2\n",
    "5 3\n",
    "5 4\n",
    "5 5\n",
    "5 6\n",
    "5 7\n",
    "5 8\n",
    "5 9\n",
    "5 10\n",
    "6 2\n",
    "6 3\n",
    "6 4\n",
    "6 5\n",
    "6 6\n",
    "6 7\n",
    "6 8\n",
    "6 9\n",
    "6 10\n",
    "7 2\n",
    "7 3\n",
    "7 4\n",
    "7 5\n",
    "7 6\n",
    "7 7\n",
    "7 8\n",
    "7 9\n",
    "7 10\n",
    "8 2\n",
    "8 3\n",
    "8 4\n",
    "8 5\n",
    "8 6\n",
    "8 7\n",
    "8 8\n",
    "8 9\n",
    "8 10\n",
    "9 2\n",
    "9 3\n",
    "9 4\n",
    "9 5\n",
    "9 6\n",
    "9 7\n",
    "9 8\n",
    "9 9\n",
    "9 10\n",
    "10 2\n",
    "10 3\n",
    "10 4\n",
    "10 5\n",
    "10 6\n",
    "10 7\n",
    "10 8\n",
    "10 9\n",
    "10 10\n",
    "11 2\n",
    "11 3\n",
    "11 4\n",
    "11 5\n",
    "11 6\n",
    "11 7\n",
    "11 8\n",
    "11 9\n",
    "11 10\n",
    "12 2\n",
    "12 3\n",
    "12 4\n",
    "12 5\n",
    "12 6\n",
    "12 7\n",
    "12 8\n",
    "12 9\n",
    "12 10\n",
    "13 2\n",
    "13 3\n",
    "13 4\n",
    "13 5\n",
    "13 6\n",
    "13 7\n",
    "13 8\n",
    "13 9\n",
    "13 10\n",
    "14 2\n",
    "14 3\n",
    "14 4\n",
    "14 5\n",
    "14 6\n",
    "14 7\n",
    "14 8\n",
    "14 9\n",
    "14 10\n",
    "15 2\n",
    "15 3\n",
    "15 4\n",
    "15 5\n",
    "15 6\n",
    "15 7\n",
    "15 8\n",
    "15 9\n",
    "15 10\n",
    "16 2\n",
    "16 3\n",
    "16 4\n",
    "16 5\n",
    "16 6\n",
    "16 7\n",
    "16 8\n",
    "16 9\n",
    "16 10\n",
    "17 2\n",
    "17 3\n",
    "17 4\n",
    "17 5\n",
    "17 6\n",
    "17 7\n",
    "17 8\n",
    "17 9\n",
    "17 10\n",
    "18 2\n",
    "18 3\n",
    "18 4\n",
    "18 5\n",
    "18 6\n",
    "18 7\n",
    "18 8\n",
    "18 9\n",
    "18 10\n",
    "19 2\n",
    "19 3\n",
    "19 4\n",
    "19 5\n",
    "19 6\n",
    "19 7\n",
    "19 8\n",
    "19 9\n",
    "19 10\n",
    "20 2\n",
    "20 3\n",
    "20 4\n",
    "20 5\n",
    "20 6\n",
    "20 7\n",
    "20 8\n",
    "20 9\n",
    "20 10\n",
    "21 2\n",
    "21 3\n",
    "21 4\n",
    "21 5\n",
    "21 6\n",
    "21 7\n",
    "21 8\n",
    "21 9\n",
    "21 10\n",
    "22 2\n",
    "22 3\n",
    "22 4\n",
    "22 5\n",
    "22 6\n",
    "22 7\n",
    "22 8\n",
    "22 9\n",
    "22 10"
   ]
  },
  {
   "cell_type": "code",
   "execution_count": null,
   "id": "1302966c",
   "metadata": {},
   "outputs": [],
   "source": []
  },
  {
   "cell_type": "code",
   "execution_count": null,
   "id": "13957898",
   "metadata": {},
   "outputs": [],
   "source": []
  },
  {
   "cell_type": "code",
   "execution_count": null,
   "id": "b1266c1f",
   "metadata": {},
   "outputs": [],
   "source": []
  },
  {
   "cell_type": "code",
   "execution_count": null,
   "id": "49517295",
   "metadata": {},
   "outputs": [],
   "source": []
  },
  {
   "cell_type": "code",
   "execution_count": null,
   "id": "c18362b1",
   "metadata": {},
   "outputs": [],
   "source": [
    "driver.execute_script(\"return document.getElementById('entry').setAttribute('value', '8')\")\n",
    "\n",
    "driver.execute_script(\"return document.getElementById('entry').dispatchEvent(new Event('input'))\")"
   ]
  },
  {
   "cell_type": "code",
   "execution_count": null,
   "id": "2db6d6eb",
   "metadata": {},
   "outputs": [],
   "source": []
  },
  {
   "cell_type": "code",
   "execution_count": null,
   "id": "73bd3170",
   "metadata": {},
   "outputs": [],
   "source": []
  },
  {
   "cell_type": "code",
   "execution_count": null,
   "id": "0b4a17df",
   "metadata": {},
   "outputs": [],
   "source": []
  },
  {
   "cell_type": "code",
   "execution_count": null,
   "id": "17778358",
   "metadata": {},
   "outputs": [],
   "source": []
  },
  {
   "cell_type": "code",
   "execution_count": null,
   "id": "3e32530e",
   "metadata": {},
   "outputs": [],
   "source": []
  },
  {
   "cell_type": "code",
   "execution_count": null,
   "id": "c9a970bc",
   "metadata": {},
   "outputs": [],
   "source": []
  },
  {
   "cell_type": "code",
   "execution_count": null,
   "id": "12cdc9b0",
   "metadata": {},
   "outputs": [],
   "source": []
  },
  {
   "cell_type": "code",
   "execution_count": null,
   "id": "ba7e70cf",
   "metadata": {},
   "outputs": [],
   "source": []
  },
  {
   "cell_type": "code",
   "execution_count": null,
   "id": "c4a918ce",
   "metadata": {},
   "outputs": [],
   "source": []
  },
  {
   "cell_type": "code",
   "execution_count": null,
   "id": "fafe0b91",
   "metadata": {},
   "outputs": [],
   "source": []
  },
  {
   "cell_type": "code",
   "execution_count": null,
   "id": "569d773c",
   "metadata": {},
   "outputs": [],
   "source": []
  },
  {
   "cell_type": "code",
   "execution_count": null,
   "id": "83a7f260",
   "metadata": {},
   "outputs": [],
   "source": []
  },
  {
   "cell_type": "code",
   "execution_count": null,
   "id": "db9573a0",
   "metadata": {},
   "outputs": [],
   "source": []
  },
  {
   "cell_type": "code",
   "execution_count": null,
   "id": "1656b945",
   "metadata": {},
   "outputs": [],
   "source": []
  },
  {
   "cell_type": "code",
   "execution_count": null,
   "id": "4eb091d5",
   "metadata": {},
   "outputs": [],
   "source": []
  },
  {
   "cell_type": "code",
   "execution_count": null,
   "id": "6d6b707a",
   "metadata": {},
   "outputs": [],
   "source": []
  },
  {
   "cell_type": "code",
   "execution_count": null,
   "id": "58b3060e",
   "metadata": {},
   "outputs": [],
   "source": []
  },
  {
   "cell_type": "code",
   "execution_count": null,
   "id": "be74e134",
   "metadata": {},
   "outputs": [],
   "source": []
  },
  {
   "cell_type": "code",
   "execution_count": null,
   "id": "2fec3a5b",
   "metadata": {},
   "outputs": [],
   "source": []
  },
  {
   "cell_type": "code",
   "execution_count": null,
   "id": "dd183730",
   "metadata": {},
   "outputs": [],
   "source": [
    "driver.execute_script(\"return document.getElementById('entry').setAttribute('value', '5')\")\n",
    "\n",
    "driver.execute_script(\"return document.getElementById('entry').setAttribute('value', '6')\")\n",
    "\n",
    "driver.execute_script(\"return document.getElementById('entry').setAttribute('value', '7')\")\n",
    "\n",
    "driver.execute_script(\"return document.getElementById('entry').setAttribute('value', '8')\")\n",
    "\n",
    "driver.execute_script(\"return document.getElementById('entry').setAttribute('value', '9')\")\n",
    "\n",
    "driver.execute_script(\"return document.getElementById('entry').setAttribute('value', '10')\")\n",
    "\n",
    "driver.execute_script(\"return document.getElementById('entry').setAttribute('value', '11')\")\n",
    "\n",
    "driver.execute_script(\"return document.getElementById('entry').setAttribute('value', '12')\")\n",
    "\n",
    "driver.execute_script(\"return document.getElementById('entry').setAttribute('value', '13')\")\n",
    "\n",
    "driver.execute_script(\"return document.getElementById('entry').setAttribute('value', '14')\")\n",
    "\n",
    "driver.execute_script(\"return document.getElementById('entry').setAttribute('value', '15')\")\n",
    "\n",
    "driver.execute_script(\"return document.getElementById('entry').setAttribute('value', '16')\")\n",
    "\n",
    "driver.execute_script(\"return document.getElementById('entry').setAttribute('value', '17')\")\n",
    "\n",
    "driver.execute_script(\"return document.getElementById('entry').setAttribute('value', '18')\")\n",
    "\n",
    "driver.execute_script(\"return document.getElementById('entry').setAttribute('value', '19')\")\n",
    "\n",
    "driver.execute_script(\"return document.getElementById('entry').setAttribute('value', '20')\")\n",
    "\n",
    "driver.execute_script(\"return document.getElementById('entry').setAttribute('value', '21')\")\n",
    "\n",
    "driver.execute_script(\"return document.getElementById('entry').setAttribute('value', '22')\")\n"
   ]
  },
  {
   "cell_type": "code",
   "execution_count": null,
   "id": "dba08bd1",
   "metadata": {},
   "outputs": [],
   "source": []
  },
  {
   "cell_type": "code",
   "execution_count": null,
   "id": "5fb4d7e2",
   "metadata": {},
   "outputs": [],
   "source": []
  },
  {
   "cell_type": "code",
   "execution_count": null,
   "id": "e1edecdb",
   "metadata": {},
   "outputs": [],
   "source": [
    "a = \"//*[@id='entry']\""
   ]
  },
  {
   "cell_type": "code",
   "execution_count": null,
   "id": "25fe2db5",
   "metadata": {},
   "outputs": [],
   "source": [
    "#element = driver.find_element_by_xpath(a).get_attribute(\"value\")"
   ]
  },
  {
   "cell_type": "code",
   "execution_count": null,
   "id": "9b744951",
   "metadata": {},
   "outputs": [],
   "source": [
    "print(element)"
   ]
  },
  {
   "cell_type": "code",
   "execution_count": null,
   "id": "1b2554fe",
   "metadata": {},
   "outputs": [],
   "source": [
    "from IPython.display import Javascript"
   ]
  },
  {
   "cell_type": "code",
   "execution_count": null,
   "id": "dd7e5a5b",
   "metadata": {},
   "outputs": [],
   "source": [
    "value = driver.execute_script(\"return document.getElementById('entry').setAttribute('value', '22')\")"
   ]
  },
  {
   "cell_type": "code",
   "execution_count": null,
   "id": "2ef4a7f9",
   "metadata": {},
   "outputs": [],
   "source": [
    "value.setAttribute"
   ]
  },
  {
   "cell_type": "code",
   "execution_count": null,
   "id": "236cbf37",
   "metadata": {},
   "outputs": [],
   "source": [
    "options = webdriver.ChromeOptions()\n",
    "    \n",
    "options.add_argument(\"--start-maximized\")\n",
    "    \n",
    "options.add_argument(\"--disable-extensions\")\n",
    "    \n",
    "driver_path = '/Users/mohamedelmarraki/ironhack/Final-Project/chromedriver'\n",
    "    \n",
    "driver = webdriver.Chrome(driver_path, chrome_options = options)\n",
    "    \n",
    "driver.get(\"https://precioinstalacionplacassolares.com/\")\n",
    "\n",
    "\n",
    "potencia_electro1 = driver.find_element_by_xpath(\"//*[@id='portfolio-card-one']/div\")\n",
    "potencia_electro1 = [potencia_electro1.text]"
   ]
  },
  {
   "cell_type": "code",
   "execution_count": null,
   "id": "af315359",
   "metadata": {},
   "outputs": [],
   "source": [
    "type(potencia_electro1)"
   ]
  },
  {
   "cell_type": "code",
   "execution_count": null,
   "id": "0391dacb",
   "metadata": {},
   "outputs": [],
   "source": []
  },
  {
   "cell_type": "code",
   "execution_count": null,
   "id": "51c1352b",
   "metadata": {},
   "outputs": [],
   "source": []
  },
  {
   "cell_type": "code",
   "execution_count": null,
   "id": "e1a29dae",
   "metadata": {},
   "outputs": [],
   "source": []
  },
  {
   "cell_type": "code",
   "execution_count": null,
   "id": "7ddde36a",
   "metadata": {},
   "outputs": [],
   "source": [
    "//*[@id=\"portfolio-card-one\"]/div\n",
    "\n",
    "//*[@id=\"portfolio-card-one\"]/div"
   ]
  }
 ],
 "metadata": {
  "kernelspec": {
   "display_name": "Python [conda env:Project-Final]",
   "language": "python",
   "name": "conda-env-Project-Final-py"
  },
  "language_info": {
   "codemirror_mode": {
    "name": "ipython",
    "version": 3
   },
   "file_extension": ".py",
   "mimetype": "text/x-python",
   "name": "python",
   "nbconvert_exporter": "python",
   "pygments_lexer": "ipython3",
   "version": "3.7.12"
  }
 },
 "nbformat": 4,
 "nbformat_minor": 5
}
