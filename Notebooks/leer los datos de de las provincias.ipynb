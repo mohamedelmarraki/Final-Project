{
 "cells": [
  {
   "cell_type": "code",
   "execution_count": 40,
   "id": "87805a81",
   "metadata": {},
   "outputs": [],
   "source": [
    "def read_datos_provincias(archivo):\n",
    "    datos_provinicias = pd.read_csv(archivo)\n",
    "    datos_provinicias.drop(\"Unnamed: 0\", axis=1, inplace=True)\n",
    "    datos_provinicias.drop(0, axis=0, inplace=True)\n",
    "    diccionario = {}\n",
    "    for provincia, informacion in zip(datos_provinicias[\"Provincias\"], datos_provinicias[\"Información de cada Provincia\"]):\n",
    "        diccionario[provincia]=informacion\n",
    "    return diccionario"
   ]
  },
  {
   "cell_type": "code",
   "execution_count": 41,
   "id": "5c8a3aad",
   "metadata": {},
   "outputs": [
    {
     "data": {
      "text/plain": [
       "{'Albacete': 'España tiene unas condiciones de radiación solar que permiten una considerable producción de energía eléctrica mediante módulos fotovoltaicos. Albacete presenta una media de 2.730 horas de sol anuales y de 1.818 horas de sol pico anuales (kWh/m2 año). Además, la electricidad producida por los módulos fotovoltacios puede ser autoconsumida en su vivienda o negocio, reduciendo su factura de la luz.',\n",
       " 'Alicante/Alacant': 'España tiene unas condiciones de radiación solar que permiten una considerable producción de energía eléctrica mediante módulos fotovoltaicos. Alicante/Alacant presenta una media de 2.864 horas de sol anuales y de 1.843 horas de sol pico anuales (kWh/m2 año). Además, la electricidad producida por los módulos fotovoltacios puede ser autoconsumida en su vivienda o negocio, reduciendo su factura de la luz.',\n",
       " 'Almeria': 'España tiene unas condiciones de radiación solar que permiten una considerable producción de energía eléctrica mediante módulos fotovoltaicos. Almeria presenta una media de 2.965 horas de sol anuales y de 1.931 horas de sol pico anuales (kWh/m2 año). Además, la electricidad producida por los módulos fotovoltacios puede ser autoconsumida en su vivienda o negocio, reduciendo su factura de la luz.',\n",
       " 'Araba/Álava': 'España tiene unas condiciones de radiación solar que permiten una considerable producción de energía eléctrica mediante módulos fotovoltaicos. Araba/Álava presenta una media de 1.830 horas de sol anuales y de 1.387 horas de sol pico anuales (kWh/m2 año). Además, la electricidad producida por los módulos fotovoltacios puede ser autoconsumida en su vivienda o negocio, reduciendo su factura de la luz.',\n",
       " 'Asturias': 'España tiene unas condiciones de radiación solar que permiten una considerable producción de energía eléctrica mediante módulos fotovoltaicos. Asturias presenta una media de 1.711 horas de sol anuales y de 1.303 horas de sol pico anuales (kWh/m2 año). Además, la electricidad producida por los módulos fotovoltacios puede ser autoconsumida en su vivienda o negocio, reduciendo su factura de la luz.',\n",
       " 'Avila': 'España tiene unas condiciones de radiación solar que permiten una considerable producción de energía eléctrica mediante módulos fotovoltaicos. Avila presenta una media de 2.644 horas de sol anuales y de 1.690 horas de sol pico anuales (kWh/m2 año). Además, la electricidad producida por los módulos fotovoltacios puede ser autoconsumida en su vivienda o negocio, reduciendo su factura de la luz.',\n",
       " 'Badajoz': 'España tiene unas condiciones de radiación solar que permiten una considerable producción de energía eléctrica mediante módulos fotovoltaicos. Badajoz presenta una media de 2.830 horas de sol anuales y de 1.832 horas de sol pico anuales (kWh/m2 año). Además, la electricidad producida por los módulos fotovoltacios puede ser autoconsumida en su vivienda o negocio, reduciendo su factura de la luz.',\n",
       " 'Balears, Illes': 'España tiene unas condiciones de radiación solar que permiten una considerable producción de energía eléctrica mediante módulos fotovoltaicos. Balears, Illes presenta una media de 2.763 horas de sol anuales y de 1.741 horas de sol pico anuales (kWh/m2 año). Además, la electricidad producida por los módulos fotovoltacios puede ser autoconsumida en su vivienda o negocio, reduciendo su factura de la luz.',\n",
       " 'Barcelona': 'España tiene unas condiciones de radiación solar que permiten una considerable producción de energía eléctrica mediante módulos fotovoltaicos. Barcelona presenta una media de 2.524 horas de sol anuales y de 1.664 horas de sol pico anuales (kWh/m2 año). Además, la electricidad producida por los módulos fotovoltacios puede ser autoconsumida en su vivienda o negocio, reduciendo su factura de la luz.',\n",
       " 'Bizkaia': 'España tiene unas condiciones de radiación solar que permiten una considerable producción de energía eléctrica mediante módulos fotovoltaicos. Bizkaia presenta una media de 1.584 horas de sol anuales y de 1.292 horas de sol pico anuales (kWh/m2 año). Además, la electricidad producida por los módulos fotovoltacios puede ser autoconsumida en su vivienda o negocio, reduciendo su factura de la luz.',\n",
       " 'Burgos': 'España tiene unas condiciones de radiación solar que permiten una considerable producción de energía eléctrica mediante módulos fotovoltaicos. Burgos presenta una media de 2.183 horas de sol anuales y de 1.573 horas de sol pico anuales (kWh/m2 año). Además, la electricidad producida por los módulos fotovoltacios puede ser autoconsumida en su vivienda o negocio, reduciendo su factura de la luz.',\n",
       " 'Cáceres': 'España tiene unas condiciones de radiación solar que permiten una considerable producción de energía eléctrica mediante módulos fotovoltaicos. Cáceres presenta una media de 2.890 horas de sol anuales y de 1.821 horas de sol pico anuales (kWh/m2 año). Además, la electricidad producida por los módulos fotovoltacios puede ser autoconsumida en su vivienda o negocio, reduciendo su factura de la luz.',\n",
       " 'Cádiz': 'España tiene unas condiciones de radiación solar que permiten una considerable producción de energía eléctrica mediante módulos fotovoltaicos. Cádiz presenta una media de 2.538 horas de sol anuales y de 1.927 horas de sol pico anuales (kWh/m2 año). Además, la electricidad producida por los módulos fotovoltacios puede ser autoconsumida en su vivienda o negocio, reduciendo su factura de la luz.',\n",
       " 'Cantabria': 'España tiene unas condiciones de radiación solar que permiten una considerable producción de energía eléctrica mediante módulos fotovoltaicos. Cantabria presenta una media de 1.638 horas de sol anuales y de 1.336 horas de sol pico anuales (kWh/m2 año). Además, la electricidad producida por los módulos fotovoltacios puede ser autoconsumida en su vivienda o negocio, reduciendo su factura de la luz.',\n",
       " 'Castellón/Castelló': 'España tiene unas condiciones de radiación solar que permiten una considerable producción de energía eléctrica mediante módulos fotovoltaicos. Castellón/Castelló presenta una media de 2.689 horas de sol anuales y de 1.737 horas de sol pico anuales (kWh/m2 año). Además, la electricidad producida por los módulos fotovoltacios puede ser autoconsumida en su vivienda o negocio, reduciendo su factura de la luz.',\n",
       " 'Ceuta': 'España tiene unas condiciones de radiación solar que permiten una considerable producción de energía eléctrica mediante módulos fotovoltaicos. Ceuta presenta una media de 0 horas de sol anuales y de 1.792 horas de sol pico anuales (kWh/m2 año). Además, la electricidad producida por los módulos fotovoltacios puede ser autoconsumida en su vivienda o negocio, reduciendo su factura de la luz.',\n",
       " 'Ciudad Real': 'España tiene unas condiciones de radiación solar que permiten una considerable producción de energía eléctrica mediante módulos fotovoltaicos. Ciudad Real presenta una media de 2.656 horas de sol anuales y de 1.836 horas de sol pico anuales (kWh/m2 año). Además, la electricidad producida por los módulos fotovoltacios puede ser autoconsumida en su vivienda o negocio, reduciendo su factura de la luz.',\n",
       " 'Córdoba': 'España tiene unas condiciones de radiación solar que permiten una considerable producción de energía eléctrica mediante módulos fotovoltaicos. Córdoba presenta una media de 2.800 horas de sol anuales y de 1.869 horas de sol pico anuales (kWh/m2 año). Además, la electricidad producida por los módulos fotovoltacios puede ser autoconsumida en su vivienda o negocio, reduciendo su factura de la luz.',\n",
       " 'Coruña, A': 'España tiene unas condiciones de radiación solar que permiten una considerable producción de energía eléctrica mediante módulos fotovoltaicos. Coruña, A presenta una media de 1.966 horas de sol anuales y de 1.409 horas de sol pico anuales (kWh/m2 año). Además, la electricidad producida por los módulos fotovoltacios puede ser autoconsumida en su vivienda o negocio, reduciendo su factura de la luz.',\n",
       " 'Cuenca': 'España tiene unas condiciones de radiación solar que permiten una considerable producción de energía eléctrica mediante módulos fotovoltaicos. Cuenca presenta una media de 2.572 horas de sol anuales y de 1.726 horas de sol pico anuales (kWh/m2 año). Además, la electricidad producida por los módulos fotovoltacios puede ser autoconsumida en su vivienda o negocio, reduciendo su factura de la luz.',\n",
       " 'Gipuzkoa': 'España tiene unas condiciones de radiación solar que permiten una considerable producción de energía eléctrica mediante módulos fotovoltaicos. Gipuzkoa presenta una media de 1.724 horas de sol anuales y de 1.296 horas de sol pico anuales (kWh/m2 año). Además, la electricidad producida por los módulos fotovoltacios puede ser autoconsumida en su vivienda o negocio, reduciendo su factura de la luz.',\n",
       " 'Girona': 'España tiene unas condiciones de radiación solar que permiten una considerable producción de energía eléctrica mediante módulos fotovoltaicos. Girona presenta una media de 2.290 horas de sol anuales y de 1.591 horas de sol pico anuales (kWh/m2 año). Además, la electricidad producida por los módulos fotovoltacios puede ser autoconsumida en su vivienda o negocio, reduciendo su factura de la luz.',\n",
       " 'Granada': 'España tiene unas condiciones de radiación solar que permiten una considerable producción de energía eléctrica mediante módulos fotovoltaicos. Granada presenta una media de 2.751 horas de sol anuales y de 1.898 horas de sol pico anuales (kWh/m2 año). Además, la electricidad producida por los módulos fotovoltacios puede ser autoconsumida en su vivienda o negocio, reduciendo su factura de la luz.',\n",
       " 'Guadalajara': 'España tiene unas condiciones de radiación solar que permiten una considerable producción de energía eléctrica mediante módulos fotovoltaicos. Guadalajara presenta una media de 2.440 horas de sol anuales y de 1.759 horas de sol pico anuales (kWh/m2 año). Además, la electricidad producida por los módulos fotovoltacios puede ser autoconsumida en su vivienda o negocio, reduciendo su factura de la luz.',\n",
       " 'Huelva': 'España tiene unas condiciones de radiación solar que permiten una considerable producción de energía eléctrica mediante módulos fotovoltaicos. Huelva presenta una media de 2.998 horas de sol anuales y de 1.905 horas de sol pico anuales (kWh/m2 año). Además, la electricidad producida por los módulos fotovoltacios puede ser autoconsumida en su vivienda o negocio, reduciendo su factura de la luz.',\n",
       " 'Huesca': 'España tiene unas condiciones de radiación solar que permiten una considerable producción de energía eléctrica mediante módulos fotovoltaicos. Huesca presenta una media de 2.682 horas de sol anuales y de 1.737 horas de sol pico anuales (kWh/m2 año). Además, la electricidad producida por los módulos fotovoltacios puede ser autoconsumida en su vivienda o negocio, reduciendo su factura de la luz.',\n",
       " 'Jaén': 'España tiene unas condiciones de radiación solar que permiten una considerable producción de energía eléctrica mediante módulos fotovoltaicos. Jaén presenta una media de 0 horas de sol anuales y de 1.891 horas de sol pico anuales (kWh/m2 año). Además, la electricidad producida por los módulos fotovoltacios puede ser autoconsumida en su vivienda o negocio, reduciendo su factura de la luz.',\n",
       " 'León': 'España tiene unas condiciones de radiación solar que permiten una considerable producción de energía eléctrica mediante módulos fotovoltaicos. León presenta una media de 2.624 horas de sol anuales y de 1.639 horas de sol pico anuales (kWh/m2 año). Además, la electricidad producida por los módulos fotovoltacios puede ser autoconsumida en su vivienda o negocio, reduciendo su factura de la luz.',\n",
       " 'Lleida': 'España tiene unas condiciones de radiación solar que permiten una considerable producción de energía eléctrica mediante módulos fotovoltaicos. Lleida presenta una media de 2.685 horas de sol anuales y de 1.748 horas de sol pico anuales (kWh/m2 año). Además, la electricidad producida por los módulos fotovoltacios puede ser autoconsumida en su vivienda o negocio, reduciendo su factura de la luz.',\n",
       " 'Lugo': 'España tiene unas condiciones de radiación solar que permiten una considerable producción de energía eléctrica mediante módulos fotovoltaicos. Lugo presenta una media de 1.821 horas de sol anuales y de 1.398 horas de sol pico anuales (kWh/m2 año). Además, la electricidad producida por los módulos fotovoltacios puede ser autoconsumida en su vivienda o negocio, reduciendo su factura de la luz.',\n",
       " 'Madrid': 'España tiene unas condiciones de radiación solar que permiten una considerable producción de energía eléctrica mediante módulos fotovoltaicos. Madrid presenta una media de 2.769 horas de sol anuales y de 1.781 horas de sol pico anuales (kWh/m2 año). Además, la electricidad producida por los módulos fotovoltacios puede ser autoconsumida en su vivienda o negocio, reduciendo su factura de la luz.',\n",
       " 'Málaga': 'España tiene unas condiciones de radiación solar que permiten una considerable producción de energía eléctrica mediante módulos fotovoltaicos. Málaga presenta una media de 2.815 horas de sol anuales y de 1.898 horas de sol pico anuales (kWh/m2 año). Además, la electricidad producida por los módulos fotovoltacios puede ser autoconsumida en su vivienda o negocio, reduciendo su factura de la luz.',\n",
       " 'Melilla': 'España tiene unas condiciones de radiación solar que permiten una considerable producción de energía eléctrica mediante módulos fotovoltaicos. Melilla presenta una media de 2.528 horas de sol anuales y de 1.858 horas de sol pico anuales (kWh/m2 año). Además, la electricidad producida por los módulos fotovoltacios puede ser autoconsumida en su vivienda o negocio, reduciendo su factura de la luz.',\n",
       " 'Murcia': 'España tiene unas condiciones de radiación solar que permiten una considerable producción de energía eléctrica mediante módulos fotovoltaicos. Murcia presenta una media de 2.797 horas de sol anuales y de 1.872 horas de sol pico anuales (kWh/m2 año). Además, la electricidad producida por los módulos fotovoltacios puede ser autoconsumida en su vivienda o negocio, reduciendo su factura de la luz.',\n",
       " 'Navarra': 'España tiene unas condiciones de radiación solar que permiten una considerable producción de energía eléctrica mediante módulos fotovoltaicos. Navarra presenta una media de 2.201 horas de sol anuales y de 1.475 horas de sol pico anuales (kWh/m2 año). Además, la electricidad producida por los módulos fotovoltacios puede ser autoconsumida en su vivienda o negocio, reduciendo su factura de la luz.',\n",
       " 'Ourense': 'España tiene unas condiciones de radiación solar que permiten una considerable producción de energía eléctrica mediante módulos fotovoltaicos. Ourense presenta una media de 2.043 horas de sol anuales y de 1.500 horas de sol pico anuales (kWh/m2 año). Además, la electricidad producida por los módulos fotovoltacios puede ser autoconsumida en su vivienda o negocio, reduciendo su factura de la luz.',\n",
       " 'Palencia': 'España tiene unas condiciones de radiación solar que permiten una considerable producción de energía eléctrica mediante módulos fotovoltaicos. Palencia presenta una media de 0 horas de sol anuales y de 1.683 horas de sol pico anuales (kWh/m2 año). Además, la electricidad producida por los módulos fotovoltacios puede ser autoconsumida en su vivienda o negocio, reduciendo su factura de la luz.',\n",
       " 'Palmas, Las': 'España tiene unas condiciones de radiación solar que permiten una considerable producción de energía eléctrica mediante módulos fotovoltaicos. Palmas, Las presenta una media de 2.805 horas de sol anuales y de 1.847 horas de sol pico anuales (kWh/m2 año). Además, la electricidad producida por los módulos fotovoltacios puede ser autoconsumida en su vivienda o negocio, reduciendo su factura de la luz.',\n",
       " 'Pontevedra': 'España tiene unas condiciones de radiación solar que permiten una considerable producción de energía eléctrica mediante módulos fotovoltaicos. Pontevedra presenta una media de 2.223 horas de sol anuales y de 1.489 horas de sol pico anuales (kWh/m2 año). Además, la electricidad producida por los módulos fotovoltacios puede ser autoconsumida en su vivienda o negocio, reduciendo su factura de la luz.',\n",
       " 'Rioja, La': 'España tiene unas condiciones de radiación solar que permiten una considerable producción de energía eléctrica mediante módulos fotovoltaicos. Rioja, La presenta una media de 2.242 horas de sol anuales y de 1.540 horas de sol pico anuales (kWh/m2 año). Además, la electricidad producida por los módulos fotovoltacios puede ser autoconsumida en su vivienda o negocio, reduciendo su factura de la luz.',\n",
       " 'Salamanca': 'España tiene unas condiciones de radiación solar que permiten una considerable producción de energía eléctrica mediante módulos fotovoltaicos. Salamanca presenta una media de 2.586 horas de sol anuales y de 1.723 horas de sol pico anuales (kWh/m2 año). Además, la electricidad producida por los módulos fotovoltacios puede ser autoconsumida en su vivienda o negocio, reduciendo su factura de la luz.',\n",
       " 'Santa Cruz de Tenerife': 'España tiene unas condiciones de radiación solar que permiten una considerable producción de energía eléctrica mediante módulos fotovoltaicos. Santa Cruz de Tenerife presenta una media de 2.851 horas de sol anuales y de 1.971 horas de sol pico anuales (kWh/m2 año). Además, la electricidad producida por los módulos fotovoltacios puede ser autoconsumida en su vivienda o negocio, reduciendo su factura de la luz.',\n",
       " 'Segovia': 'España tiene unas condiciones de radiación solar que permiten una considerable producción de energía eléctrica mediante módulos fotovoltaicos. Segovia presenta una media de 2.480 horas de sol anuales y de 1.661 horas de sol pico anuales (kWh/m2 año). Además, la electricidad producida por los módulos fotovoltacios puede ser autoconsumida en su vivienda o negocio, reduciendo su factura de la luz.',\n",
       " 'Sevilla': 'España tiene unas condiciones de radiación solar que permiten una considerable producción de energía eléctrica mediante módulos fotovoltaicos. Sevilla presenta una media de 2.898 horas de sol anuales y de 1.909 horas de sol pico anuales (kWh/m2 año). Además, la electricidad producida por los módulos fotovoltacios puede ser autoconsumida en su vivienda o negocio, reduciendo su factura de la luz.',\n",
       " 'Soria': 'España tiene unas condiciones de radiación solar que permiten una considerable producción de energía eléctrica mediante módulos fotovoltaicos. Soria presenta una media de 2.511 horas de sol anuales y de 1.635 horas de sol pico anuales (kWh/m2 año). Además, la electricidad producida por los módulos fotovoltacios puede ser autoconsumida en su vivienda o negocio, reduciendo su factura de la luz.',\n",
       " 'Tarragona': 'España tiene unas condiciones de radiación solar que permiten una considerable producción de energía eléctrica mediante módulos fotovoltaicos. Tarragona presenta una media de 2.509 horas de sol anuales y de 1.697 horas de sol pico anuales (kWh/m2 año). Además, la electricidad producida por los módulos fotovoltacios puede ser autoconsumida en su vivienda o negocio, reduciendo su factura de la luz.',\n",
       " 'Teruel': 'España tiene unas condiciones de radiación solar que permiten una considerable producción de energía eléctrica mediante módulos fotovoltaicos. Teruel presenta una media de 2.596 horas de sol anuales y de 1.726 horas de sol pico anuales (kWh/m2 año). Además, la electricidad producida por los módulos fotovoltacios puede ser autoconsumida en su vivienda o negocio, reduciendo su factura de la luz.',\n",
       " 'Toledo': 'España tiene unas condiciones de radiación solar que permiten una considerable producción de energía eléctrica mediante módulos fotovoltaicos. Toledo presenta una media de 2.847 horas de sol anuales y de 1.825 horas de sol pico anuales (kWh/m2 año). Además, la electricidad producida por los módulos fotovoltacios puede ser autoconsumida en su vivienda o negocio, reduciendo su factura de la luz.',\n",
       " 'Valencia/València': 'España tiene unas condiciones de radiación solar que permiten una considerable producción de energía eléctrica mediante módulos fotovoltaicos. Valencia/València presenta una media de 2.660 horas de sol anuales y de 1.796 horas de sol pico anuales (kWh/m2 año). Además, la electricidad producida por los módulos fotovoltacios puede ser autoconsumida en su vivienda o negocio, reduciendo su factura de la luz.',\n",
       " 'Valladolid': 'España tiene unas condiciones de radiación solar que permiten una considerable producción de energía eléctrica mediante módulos fotovoltaicos. Valladolid presenta una media de 2.534 horas de sol anuales y de 1.701 horas de sol pico anuales (kWh/m2 año). Además, la electricidad producida por los módulos fotovoltacios puede ser autoconsumida en su vivienda o negocio, reduciendo su factura de la luz.',\n",
       " 'Zamora': 'España tiene unas condiciones de radiación solar que permiten una considerable producción de energía eléctrica mediante módulos fotovoltaicos. Zamora presenta una media de 2.587 horas de sol anuales y de 1.719 horas de sol pico anuales (kWh/m2 año). Además, la electricidad producida por los módulos fotovoltacios puede ser autoconsumida en su vivienda o negocio, reduciendo su factura de la luz.',\n",
       " 'Zaragoza': 'España tiene unas condiciones de radiación solar que permiten una considerable producción de energía eléctrica mediante módulos fotovoltaicos. Zaragoza presenta una media de 2.614 horas de sol anuales y de 1.745 horas de sol pico anuales (kWh/m2 año). Además, la electricidad producida por los módulos fotovoltacios puede ser autoconsumida en su vivienda o negocio, reduciendo su factura de la luz.'}"
      ]
     },
     "execution_count": 41,
     "metadata": {},
     "output_type": "execute_result"
    }
   ],
   "source": [
    "read_datos_provincias(\"../data/Datos da cada provincia Española.csv\")"
   ]
  },
  {
   "cell_type": "code",
   "execution_count": 48,
   "id": "767e8140",
   "metadata": {},
   "outputs": [],
   "source": [
    "adress = \"Hermanos Ruiz,  Madrid\"\n",
    "provincia_usuario = adress.split(\",\")\n",
    "provincia_usaurio1 = provincia_usuario[1].strip()"
   ]
  },
  {
   "cell_type": "code",
   "execution_count": 49,
   "id": "b092eb80",
   "metadata": {},
   "outputs": [
    {
     "data": {
      "text/plain": [
       "'Madrid'"
      ]
     },
     "execution_count": 49,
     "metadata": {},
     "output_type": "execute_result"
    }
   ],
   "source": [
    "provincia_usaurio1"
   ]
  },
  {
   "cell_type": "code",
   "execution_count": null,
   "id": "0d2638a9",
   "metadata": {},
   "outputs": [],
   "source": []
  }
 ],
 "metadata": {
  "kernelspec": {
   "display_name": "Python [conda env:Project-Final]",
   "language": "python",
   "name": "conda-env-Project-Final-py"
  },
  "language_info": {
   "codemirror_mode": {
    "name": "ipython",
    "version": 3
   },
   "file_extension": ".py",
   "mimetype": "text/x-python",
   "name": "python",
   "nbconvert_exporter": "python",
   "pygments_lexer": "ipython3",
   "version": "3.7.12"
  }
 },
 "nbformat": 4,
 "nbformat_minor": 5
}
