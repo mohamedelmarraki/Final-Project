{
 "cells": [
  {
   "cell_type": "code",
   "execution_count": 3,
   "id": "01949f82",
   "metadata": {},
   "outputs": [],
   "source": [
    "import pandas as pd"
   ]
  },
  {
   "cell_type": "code",
   "execution_count": 6,
   "id": "6538cb1e",
   "metadata": {},
   "outputs": [],
   "source": [
    "def obtener_amortización(Numero_paneles):\n",
    "    a = pd.read_csv(\"../data/Datos de amortización.csv\")\n",
    "    if Numero_paneles ==4:\n",
    "        return a[(a[\"Número de paneles\"] == Numero_paneles) & (a[\"Potencia del Inversor\"]==2)]\n",
    "    if Numero_paneles ==5:\n",
    "        return a[(a[\"Número de paneles\"] == Numero_paneles) & (a[\"Potencia del Inversor\"]==3)]\n",
    "    if Numero_paneles ==6:\n",
    "        return a[(a[\"Número de paneles\"] == Numero_paneles) & (a[\"Potencia del Inversor\"]==3)]\n",
    "    if Numero_paneles ==7:\n",
    "        return a[(a[\"Número de paneles\"] == Numero_paneles) & (a[\"Potencia del Inversor\"]==4)]\n",
    "    if Numero_paneles ==8:\n",
    "        return a[(a[\"Número de paneles\"] == Numero_paneles) & (a[\"Potencia del Inversor\"]==4)]\n",
    "    if Numero_paneles ==9:\n",
    "        return a[(a[\"Número de paneles\"] == Numero_paneles) & (a[\"Potencia del Inversor\"]==5)]\n",
    "    if Numero_paneles ==10:\n",
    "        return a[(a[\"Número de paneles\"] == Numero_paneles) & (a[\"Potencia del Inversor\"]==5)]\n",
    "    if Numero_paneles ==11:\n",
    "        return a[(a[\"Número de paneles\"] == Numero_paneles) & (a[\"Potencia del Inversor\"]==5)]\n",
    "    if Numero_paneles ==12:\n",
    "        return a[(a[\"Número de paneles\"] == Numero_paneles) & (a[\"Potencia del Inversor\"]==6)]\n",
    "    if Numero_paneles ==13:\n",
    "        return a[(a[\"Número de paneles\"] == Numero_paneles) & (a[\"Potencia del Inversor\"]==6)]\n",
    "    if Numero_paneles ==14:\n",
    "        return a[(a[\"Número de paneles\"] == Numero_paneles) & (a[\"Potencia del Inversor\"]==7)]\n",
    "    if Numero_paneles ==15:\n",
    "        return a[(a[\"Número de paneles\"] == Numero_paneles) & (a[\"Potencia del Inversor\"]==7)]\n",
    "    if Numero_paneles ==16:\n",
    "        return a[(a[\"Número de paneles\"] == Numero_paneles) & (a[\"Potencia del Inversor\"]==8)]\n",
    "    if Numero_paneles ==17:\n",
    "        return a[(a[\"Número de paneles\"] == Numero_paneles) & (a[\"Potencia del Inversor\"]==8)]\n",
    "    if Numero_paneles ==18:\n",
    "        return a[(a[\"Número de paneles\"] == Numero_paneles) & (a[\"Potencia del Inversor\"]==9)]\n",
    "    if Numero_paneles ==19:\n",
    "        return a[(a[\"Número de paneles\"] == Numero_paneles) & (a[\"Potencia del Inversor\"]==9)]\n",
    "    if Numero_paneles ==20:\n",
    "        return a[(a[\"Número de paneles\"] == Numero_paneles) & (a[\"Potencia del Inversor\"]==9)]\n",
    "    if Numero_paneles ==21:\n",
    "        return a[(a[\"Número de paneles\"] == Numero_paneles) & (a[\"Potencia del Inversor\"]==9)]\n",
    "    if Numero_paneles ==22:\n",
    "        return a[(a[\"Número de paneles\"] == Numero_paneles) & (a[\"Potencia del Inversor\"]==9)]"
   ]
  },
  {
   "cell_type": "code",
   "execution_count": 10,
   "id": "da8e725c",
   "metadata": {},
   "outputs": [
    {
     "data": {
      "text/html": [
       "<div>\n",
       "<style scoped>\n",
       "    .dataframe tbody tr th:only-of-type {\n",
       "        vertical-align: middle;\n",
       "    }\n",
       "\n",
       "    .dataframe tbody tr th {\n",
       "        vertical-align: top;\n",
       "    }\n",
       "\n",
       "    .dataframe thead th {\n",
       "        text-align: right;\n",
       "    }\n",
       "</style>\n",
       "<table border=\"1\" class=\"dataframe\">\n",
       "  <thead>\n",
       "    <tr style=\"text-align: right;\">\n",
       "      <th></th>\n",
       "      <th>Número de paneles</th>\n",
       "      <th>Potencia del Inversor</th>\n",
       "      <th>Potencia del Generador Fotovoltaico</th>\n",
       "      <th>Importe del presupuesto</th>\n",
       "      <th>Total (21% IVA incluido)</th>\n",
       "      <th>Producción anual</th>\n",
       "      <th>Ahorro anual</th>\n",
       "      <th>Amortización de la inversión</th>\n",
       "    </tr>\n",
       "  </thead>\n",
       "  <tbody>\n",
       "    <tr>\n",
       "      <th>10</th>\n",
       "      <td>5</td>\n",
       "      <td>3</td>\n",
       "      <td>2.25</td>\n",
       "      <td>3343.75 €</td>\n",
       "      <td>4045.94 €</td>\n",
       "      <td>3932 kWh</td>\n",
       "      <td>523 €</td>\n",
       "      <td>8 años</td>\n",
       "    </tr>\n",
       "  </tbody>\n",
       "</table>\n",
       "</div>"
      ],
      "text/plain": [
       "    Número de paneles  Potencia del Inversor  \\\n",
       "10                  5                      3   \n",
       "\n",
       "    Potencia del Generador Fotovoltaico Importe del presupuesto  \\\n",
       "10                                 2.25               3343.75 €   \n",
       "\n",
       "   Total (21% IVA incluido) Producción anual Ahorro anual  \\\n",
       "10                4045.94 €         3932 kWh        523 €   \n",
       "\n",
       "   Amortización de la inversión  \n",
       "10                       8 años  "
      ]
     },
     "execution_count": 10,
     "metadata": {},
     "output_type": "execute_result"
    }
   ],
   "source": [
    "a = obtener_amortización(5)\n",
    "a"
   ]
  },
  {
   "cell_type": "code",
   "execution_count": 8,
   "id": "8a122b6e",
   "metadata": {},
   "outputs": [
    {
     "data": {
      "text/plain": [
       "Index(['Número de paneles', 'Potencia del Inversor',\n",
       "       'Potencia del Generador Fotovoltaico', 'Importe del presupuesto',\n",
       "       'Total (21% IVA incluido)', 'Producción anual', 'Ahorro anual',\n",
       "       'Amortización de la inversión'],\n",
       "      dtype='object')"
      ]
     },
     "execution_count": 8,
     "metadata": {},
     "output_type": "execute_result"
    }
   ],
   "source": [
    "a.columns"
   ]
  },
  {
   "cell_type": "code",
   "execution_count": null,
   "id": "06cc0676",
   "metadata": {},
   "outputs": [],
   "source": []
  }
 ],
 "metadata": {
  "kernelspec": {
   "display_name": "Python [conda env:Project-Final]",
   "language": "python",
   "name": "conda-env-Project-Final-py"
  },
  "language_info": {
   "codemirror_mode": {
    "name": "ipython",
    "version": 3
   },
   "file_extension": ".py",
   "mimetype": "text/x-python",
   "name": "python",
   "nbconvert_exporter": "python",
   "pygments_lexer": "ipython3",
   "version": "3.7.12"
  }
 },
 "nbformat": 4,
 "nbformat_minor": 5
}
