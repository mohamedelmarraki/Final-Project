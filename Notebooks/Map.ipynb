{
 "cells": [
  {
   "cell_type": "code",
   "execution_count": null,
   "id": "8eedf76d",
   "metadata": {},
   "outputs": [],
   "source": [
    "import folium\n",
    "import pandas as pd\n",
    "from geopy.geocoders import Nominatim\n",
    "import time\n",
    "import math"
   ]
  },
  {
   "cell_type": "code",
   "execution_count": null,
   "id": "20e55973",
   "metadata": {},
   "outputs": [],
   "source": [
    "def map_dirección_usuario(adress):\n",
    "    \n",
    "    geo = Nominatim(user_agent = \"MyApp\")\n",
    "\n",
    "\n",
    "    loc = geo.geocode(adress)\n",
    "\n",
    "    coordenadas = loc.latitude, loc.longitude\n",
    "    \n",
    "    m = folium.Map(location=[coordenadas[0],coordenadas[1]], zoom_start=17.5)\n",
    "\n",
    "    tooltip = loc\n",
    "    \n",
    "    marker = folium.Marker(location=[coordenadas[0],coordenadas[1]], \n",
    "                       tooltip=f\"<b>{tooltip}</b><br><br>\", \n",
    "                       popup='<h1>Happy&nbsp;New&nbsp;Year!</h1><br><br>www:&nbsp;<a href=\"https://stackoverflow.com\">Stackoverflow.com</a><br><br>date:&nbsp;2021.01.01')\n",
    "    marker.add_to(m)\n",
    "\n",
    "    m.save('map.html')\n",
    "    \n",
    "    return m"
   ]
  },
  {
   "cell_type": "code",
   "execution_count": null,
   "id": "74893c03",
   "metadata": {},
   "outputs": [],
   "source": [
    "map_dirección_usuario(\"Hermanos Ruiz Madrid\")\n"
   ]
  },
  {
   "cell_type": "code",
   "execution_count": null,
   "id": "3030cf45",
   "metadata": {},
   "outputs": [],
   "source": [
    "import ee\n",
    "import geemap.foliumap as geemap\n",
    "ee.Authenticate()\n",
    "\n",
    "# Create an interactive map\n",
    "Map = geemap.Map(plugin_Draw=True, Draw_export=False)\n",
    "# Add a basemap\n",
    "Map.add_basemap(\"TERRAIN\")\n",
    "# Retrieve Earth Engine dataset\n",
    "dem = ee.Image(\"USGS/SRTMGL1_003\")\n",
    "# Set visualization parameters\n",
    "vis_params = {\n",
    "    \"min\": 0,\n",
    "    \"max\": 4000,\n",
    "    \"palette\": [\"006633\", \"E5FFCC\", \"662A00\", \"D8D8D8\", \"F5F5F5\"],\n",
    "}\n",
    "# Add the Earth Engine image to the map\n",
    "Map.addLayer(dem, vis_params, \"SRTM DEM\", True, 0.5)\n",
    "# Add a colorbar to the map\n",
    "Map.add_colorbar(vis_params[\"palette\"], 0, 4000, caption=\"Elevation (m)\")\n",
    "# Render the map using streamlit\n",
    "Map.to_streamlit()"
   ]
  },
  {
   "cell_type": "code",
   "execution_count": null,
   "id": "42db4d99",
   "metadata": {},
   "outputs": [],
   "source": []
  }
 ],
 "metadata": {
  "kernelspec": {
   "display_name": "Python [conda env:Project-Final]",
   "language": "python",
   "name": "conda-env-Project-Final-py"
  },
  "language_info": {
   "codemirror_mode": {
    "name": "ipython",
    "version": 3
   },
   "file_extension": ".py",
   "mimetype": "text/x-python",
   "name": "python",
   "nbconvert_exporter": "python",
   "pygments_lexer": "ipython3",
   "version": "3.7.12"
  }
 },
 "nbformat": 4,
 "nbformat_minor": 5
}
