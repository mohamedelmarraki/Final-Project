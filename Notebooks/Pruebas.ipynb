{
 "cells": [
  {
   "cell_type": "code",
   "execution_count": 8,
   "id": "7071c073",
   "metadata": {},
   "outputs": [],
   "source": [
    "import folium\n",
    "import pandas as pd\n",
    "from geopy.geocoders import Nominatim\n",
    "import time\n",
    "import math"
   ]
  },
  {
   "cell_type": "code",
   "execution_count": 4,
   "id": "ed841f43",
   "metadata": {},
   "outputs": [
    {
     "name": "stdout",
     "output_type": "stream",
     "text": [
      "Introduzca la calle en la que viveHermanos Ruiz\n",
      "Introduzca su provinciaMadrid\n"
     ]
    }
   ],
   "source": [
    "adress1 = input(\"Introduzca la calle en la que vive\")\n",
    "adress2 = input(\"Introduzca su provincia\")\n",
    "adress3 = str(adress1)+\", \"+ str(adress2)"
   ]
  },
  {
   "cell_type": "code",
   "execution_count": 5,
   "id": "5cf98626",
   "metadata": {},
   "outputs": [
    {
     "data": {
      "text/plain": [
       "'Hermanos Ruiz, Madrid'"
      ]
     },
     "execution_count": 5,
     "metadata": {},
     "output_type": "execute_result"
    }
   ],
   "source": [
    "adress3"
   ]
  },
  {
   "cell_type": "code",
   "execution_count": 18,
   "id": "d2c04121",
   "metadata": {},
   "outputs": [],
   "source": [
    "def map_dirección_usuario(adress = \"Madrid\"):\n",
    "    \n",
    "    geo = Nominatim(user_agent = \"MyApp\")\n",
    "\n",
    "\n",
    "    loc = geo.geocode(adress)\n",
    "\n",
    "    coordenadas = loc.latitude, loc.longitude\n",
    "    \n",
    "    m = folium.Map(location=[coordenadas[0],coordenadas[1]], zoom_start=17.5)\n",
    "\n",
    "    tooltip = loc\n",
    "    \n",
    "    marker = folium.Marker(location=[coordenadas[0],coordenadas[1]], \n",
    "                       tooltip=f\"<b>{tooltip}</b><br><br>\", \n",
    "                       popup='<h1>Happy&nbsp;New&nbsp;Year!</h1><br><br>www:&nbsp;<a href=\"https://stackoverflow.com\">Stackoverflow.com</a><br><br>date:&nbsp;2021.01.01')\n",
    "    marker.add_to(m)\n",
    "\n",
    "    m.save('map.html')\n",
    "    \n",
    "    return m"
   ]
  },
  {
   "cell_type": "code",
   "execution_count": 19,
   "id": "59964f10",
   "metadata": {},
   "outputs": [
    {
     "data": {
      "text/html": [
       "<div style=\"width:100%;\"><div style=\"position:relative;width:100%;height:0;padding-bottom:60%;\"><span style=\"color:#565656\">Make this Notebook Trusted to load map: File -> Trust Notebook</span><iframe srcdoc=\"&lt;!DOCTYPE html&gt;\n",
       "&lt;head&gt;    \n",
       "    &lt;meta http-equiv=&quot;content-type&quot; content=&quot;text/html; charset=UTF-8&quot; /&gt;\n",
       "    \n",
       "        &lt;script&gt;\n",
       "            L_NO_TOUCH = false;\n",
       "            L_DISABLE_3D = false;\n",
       "        &lt;/script&gt;\n",
       "    \n",
       "    &lt;style&gt;html, body {width: 100%;height: 100%;margin: 0;padding: 0;}&lt;/style&gt;\n",
       "    &lt;style&gt;#map {position:absolute;top:0;bottom:0;right:0;left:0;}&lt;/style&gt;\n",
       "    &lt;script src=&quot;https://cdn.jsdelivr.net/npm/leaflet@1.6.0/dist/leaflet.js&quot;&gt;&lt;/script&gt;\n",
       "    &lt;script src=&quot;https://code.jquery.com/jquery-1.12.4.min.js&quot;&gt;&lt;/script&gt;\n",
       "    &lt;script src=&quot;https://maxcdn.bootstrapcdn.com/bootstrap/3.2.0/js/bootstrap.min.js&quot;&gt;&lt;/script&gt;\n",
       "    &lt;script src=&quot;https://cdnjs.cloudflare.com/ajax/libs/Leaflet.awesome-markers/2.0.2/leaflet.awesome-markers.js&quot;&gt;&lt;/script&gt;\n",
       "    &lt;link rel=&quot;stylesheet&quot; href=&quot;https://cdn.jsdelivr.net/npm/leaflet@1.6.0/dist/leaflet.css&quot;/&gt;\n",
       "    &lt;link rel=&quot;stylesheet&quot; href=&quot;https://maxcdn.bootstrapcdn.com/bootstrap/3.2.0/css/bootstrap.min.css&quot;/&gt;\n",
       "    &lt;link rel=&quot;stylesheet&quot; href=&quot;https://maxcdn.bootstrapcdn.com/bootstrap/3.2.0/css/bootstrap-theme.min.css&quot;/&gt;\n",
       "    &lt;link rel=&quot;stylesheet&quot; href=&quot;https://maxcdn.bootstrapcdn.com/font-awesome/4.6.3/css/font-awesome.min.css&quot;/&gt;\n",
       "    &lt;link rel=&quot;stylesheet&quot; href=&quot;https://cdnjs.cloudflare.com/ajax/libs/Leaflet.awesome-markers/2.0.2/leaflet.awesome-markers.css&quot;/&gt;\n",
       "    &lt;link rel=&quot;stylesheet&quot; href=&quot;https://cdn.jsdelivr.net/gh/python-visualization/folium/folium/templates/leaflet.awesome.rotate.min.css&quot;/&gt;\n",
       "    \n",
       "            &lt;meta name=&quot;viewport&quot; content=&quot;width=device-width,\n",
       "                initial-scale=1.0, maximum-scale=1.0, user-scalable=no&quot; /&gt;\n",
       "            &lt;style&gt;\n",
       "                #map_a74a7a79011a95938fec78a463641a0e {\n",
       "                    position: relative;\n",
       "                    width: 100.0%;\n",
       "                    height: 100.0%;\n",
       "                    left: 0.0%;\n",
       "                    top: 0.0%;\n",
       "                }\n",
       "            &lt;/style&gt;\n",
       "        \n",
       "&lt;/head&gt;\n",
       "&lt;body&gt;    \n",
       "    \n",
       "            &lt;div class=&quot;folium-map&quot; id=&quot;map_a74a7a79011a95938fec78a463641a0e&quot; &gt;&lt;/div&gt;\n",
       "        \n",
       "&lt;/body&gt;\n",
       "&lt;script&gt;    \n",
       "    \n",
       "            var map_a74a7a79011a95938fec78a463641a0e = L.map(\n",
       "                &quot;map_a74a7a79011a95938fec78a463641a0e&quot;,\n",
       "                {\n",
       "                    center: [40.4167047, -3.7035825],\n",
       "                    crs: L.CRS.EPSG3857,\n",
       "                    zoom: 17.5,\n",
       "                    zoomControl: true,\n",
       "                    preferCanvas: false,\n",
       "                }\n",
       "            );\n",
       "\n",
       "            \n",
       "\n",
       "        \n",
       "    \n",
       "            var tile_layer_66c5af52ad2ef3c527753873cb1d2645 = L.tileLayer(\n",
       "                &quot;https://{s}.tile.openstreetmap.org/{z}/{x}/{y}.png&quot;,\n",
       "                {&quot;attribution&quot;: &quot;Data by \\u0026copy; \\u003ca href=\\&quot;http://openstreetmap.org\\&quot;\\u003eOpenStreetMap\\u003c/a\\u003e, under \\u003ca href=\\&quot;http://www.openstreetmap.org/copyright\\&quot;\\u003eODbL\\u003c/a\\u003e.&quot;, &quot;detectRetina&quot;: false, &quot;maxNativeZoom&quot;: 18, &quot;maxZoom&quot;: 18, &quot;minZoom&quot;: 0, &quot;noWrap&quot;: false, &quot;opacity&quot;: 1, &quot;subdomains&quot;: &quot;abc&quot;, &quot;tms&quot;: false}\n",
       "            ).addTo(map_a74a7a79011a95938fec78a463641a0e);\n",
       "        \n",
       "    \n",
       "            var marker_6ea7debab1868d898cf6515f6fd9f862 = L.marker(\n",
       "                [40.4167047, -3.7035825],\n",
       "                {}\n",
       "            ).addTo(map_a74a7a79011a95938fec78a463641a0e);\n",
       "        \n",
       "    \n",
       "        var popup_733796bc3bb123095a2b4c265e562838 = L.popup({&quot;maxWidth&quot;: &quot;100%&quot;});\n",
       "\n",
       "        \n",
       "            var html_65e7c56ad0c72fce3ef435df99d04752 = $(`&lt;div id=&quot;html_65e7c56ad0c72fce3ef435df99d04752&quot; style=&quot;width: 100.0%; height: 100.0%;&quot;&gt;&lt;h1&gt;Happy&amp;nbsp;New&amp;nbsp;Year!&lt;/h1&gt;&lt;br&gt;&lt;br&gt;www:&amp;nbsp;&lt;a href=&quot;https://stackoverflow.com&quot;&gt;Stackoverflow.com&lt;/a&gt;&lt;br&gt;&lt;br&gt;date:&amp;nbsp;2021.01.01&lt;/div&gt;`)[0];\n",
       "            popup_733796bc3bb123095a2b4c265e562838.setContent(html_65e7c56ad0c72fce3ef435df99d04752);\n",
       "        \n",
       "\n",
       "        marker_6ea7debab1868d898cf6515f6fd9f862.bindPopup(popup_733796bc3bb123095a2b4c265e562838)\n",
       "        ;\n",
       "\n",
       "        \n",
       "    \n",
       "    \n",
       "            marker_6ea7debab1868d898cf6515f6fd9f862.bindTooltip(\n",
       "                `&lt;div&gt;\n",
       "                     &lt;b&gt;Madrid, Área metropolitana de Madrid y Corredor del Henares, Comunidad de Madrid, España&lt;/b&gt;&lt;br&gt;&lt;br&gt;\n",
       "                 &lt;/div&gt;`,\n",
       "                {&quot;sticky&quot;: true}\n",
       "            );\n",
       "        \n",
       "&lt;/script&gt;\" style=\"position:absolute;width:100%;height:100%;left:0;top:0;border:none !important;\" allowfullscreen webkitallowfullscreen mozallowfullscreen></iframe></div></div>"
      ],
      "text/plain": [
       "<folium.folium.Map at 0x7fe200d58690>"
      ]
     },
     "execution_count": 19,
     "metadata": {},
     "output_type": "execute_result"
    }
   ],
   "source": [
    "map_dirección_usuario()"
   ]
  },
  {
   "cell_type": "code",
   "execution_count": 8,
   "id": "889f40c1",
   "metadata": {},
   "outputs": [
    {
     "name": "stdout",
     "output_type": "stream",
     "text": [
      "True\n",
      "True\n",
      "True\n",
      "False\n"
     ]
    }
   ],
   "source": [
    "str = \"this is string example....wow!!!\";\n",
    "\n",
    "suffix = \"wow!!!\"\n",
    "print (str.endswith(suffix))\n",
    "print (str.endswith(suffix,20))\n",
    "\n",
    "suffix = \"is\"\n",
    "print (str.endswith(suffix, 2, 4))\n",
    "print (str.endswith(suffix, 2, 6))"
   ]
  },
  {
   "cell_type": "code",
   "execution_count": null,
   "id": "f123644f",
   "metadata": {},
   "outputs": [],
   "source": []
  }
 ],
 "metadata": {
  "kernelspec": {
   "display_name": "Python [conda env:Project-Final]",
   "language": "python",
   "name": "conda-env-Project-Final-py"
  },
  "language_info": {
   "codemirror_mode": {
    "name": "ipython",
    "version": 3
   },
   "file_extension": ".py",
   "mimetype": "text/x-python",
   "name": "python",
   "nbconvert_exporter": "python",
   "pygments_lexer": "ipython3",
   "version": "3.7.12"
  }
 },
 "nbformat": 4,
 "nbformat_minor": 5
}
