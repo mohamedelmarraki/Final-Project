{
 "cells": [
  {
   "cell_type": "code",
   "execution_count": 1,
   "id": "89bed300",
   "metadata": {},
   "outputs": [],
   "source": [
    "electrodomesticos = '''Aire Acondicionado\n",
    "Aspiradora\n",
    "Batidora\n",
    "Cafetera Eléctrica\n",
    "Campana Extractora\n",
    "Horno\n",
    "Computadoras de Escritorio\n",
    "Consola de Videojuegos\n",
    "Equipos de Música\n",
    "Estufa\n",
    "Freidora\n",
    "Hervidor Eléctrico de Agua\n",
    "Lavadora\n",
    "Lavavajillas\n",
    "Licuadora\n",
    "Microondas\n",
    "Vitrocerámica\n",
    "Plancha de Pelo\n",
    "Plancha de Ropa\n",
    "Refrigerador\n",
    "Sandwichera\n",
    "Secador de Pelo\n",
    "Televisor\n",
    "Tostadora\n",
    "Ventilador\n",
    "Lamparas'''\n",
    "electrodomesticos = electrodomesticos.split(\"\\n\")\n",
    "pot_electrodomesticos = {'Aire Acondicionado': 875,\n",
    " 'Aspiradora': 450,\n",
    " 'Batidora': 200,\n",
    " 'Cafetera Eléctrica': 800,\n",
    " 'Campana Extractora': 200,\n",
    " 'Cepillo eléctrico': 55,\n",
    " 'Computadoras de Escritorio': 220,\n",
    " 'Consola de Videojuegos': 90,\n",
    " 'Depiladora Eléctrica': 20,\n",
    " 'Equipos de Música': 80,\n",
    " 'Estufa': 2000,\n",
    " 'Freidora': 1100,\n",
    " 'Horno' : 1400,\n",
    " 'Hervidor Eléctrico de Agua': 1200,\n",
    " 'Lavadora': 1500,\n",
    " 'Lavavajillas': 1800,\n",
    " 'Licuadora': 1200,\n",
    " 'Microondas': 900,\n",
    " 'Plancha de Pelo': 2000,\n",
    " 'Plancha de Ropa': 1200,\n",
    " 'Refrigerador': 300,\n",
    " 'Sandwichera': 800,\n",
    " 'Secador de Pelo': 1900,\n",
    " 'Televisor': 300,\n",
    " 'Tostadora': 1000,\n",
    " 'Ventilador': 60,\n",
    " 'Lamparas' : 60 }"
   ]
  },
  {
   "cell_type": "code",
   "execution_count": 2,
   "id": "4e6c4ed6",
   "metadata": {},
   "outputs": [
    {
     "name": "stdout",
     "output_type": "stream",
     "text": [
      "Previsión de Energía consumida\n",
      "Si quiere salir del programa introduce la palabra 'salir'\n",
      "¿ Tiene usted Aire Acondicionado en su casa (Sí/No) ? si\n",
      "¿ Cúantas unidades de Aire Acondicionado tiene usted en su casa ? 3\n",
      "¿ Introduce cuantos días a la semana se va utilizar el(a) Aire Acondicionado en su casa ?4\n",
      "Introduce un estimación aproximada de las horas de funcionamiento que va a tener el(a) Aire Acondicionado en los días que esté funcionando : ()4\n",
      "¿ Tiene usted Aspiradora en su casa (Sí/No) ? si\n",
      "¿ Cúantas unidades de Aspiradora tiene usted en su casa ? 4\n",
      "¿ Introduce cuantos días a la semana se va utilizar el(a) Aspiradora en su casa ?4\n",
      "Introduce un estimación aproximada de las horas de funcionamiento que va a tener el(a) Aspiradora en los días que esté funcionando : ()3\n",
      "¿ Tiene usted Batidora en su casa (Sí/No) ? si\n",
      "¿ Cúantas unidades de Batidora tiene usted en su casa ? 5\n",
      "¿ Introduce cuantos días a la semana se va utilizar el(a) Batidora en su casa ?3\n",
      "Introduce un estimación aproximada de las horas de funcionamiento que va a tener el(a) Batidora en los días que esté funcionando : ()4\n",
      "¿ Tiene usted Cafetera Eléctrica en su casa (Sí/No) ? si\n",
      "¿ Cúantas unidades de Cafetera Eléctrica tiene usted en su casa ? 4\n",
      "¿ Introduce cuantos días a la semana se va utilizar el(a) Cafetera Eléctrica en su casa ?1\n",
      "Introduce un estimación aproximada de las horas de funcionamiento que va a tener el(a) Cafetera Eléctrica en los días que esté funcionando : ()5\n",
      "¿ Tiene usted Campana Extractora en su casa (Sí/No) ? si\n",
      "¿ Cúantas unidades de Campana Extractora tiene usted en su casa ? 4\n",
      "¿ Introduce cuantos días a la semana se va utilizar el(a) Campana Extractora en su casa ?3\n",
      "Introduce un estimación aproximada de las horas de funcionamiento que va a tener el(a) Campana Extractora en los días que esté funcionando : ()5\n",
      "¿ Tiene usted Horno en su casa (Sí/No) ? si\n",
      "¿ Cúantas unidades de Horno tiene usted en su casa ? 3\n",
      "¿ Introduce cuantos días a la semana se va utilizar el(a) Horno en su casa ?5\n",
      "Introduce un estimación aproximada de las horas de funcionamiento que va a tener el(a) Horno en los días que esté funcionando : ()2\n",
      "¿ Tiene usted Computadoras de Escritorio en su casa (Sí/No) ? si\n",
      "¿ Cúantas unidades de Computadoras de Escritorio tiene usted en su casa ? 4\n",
      "¿ Introduce cuantos días a la semana se va utilizar el(a) Computadoras de Escritorio en su casa ?2\n",
      "Introduce un estimación aproximada de las horas de funcionamiento que va a tener el(a) Computadoras de Escritorio en los días que esté funcionando : ()6\n",
      "¿ Tiene usted Consola de Videojuegos en su casa (Sí/No) ? si\n",
      "¿ Cúantas unidades de Consola de Videojuegos tiene usted en su casa ? 3\n",
      "¿ Introduce cuantos días a la semana se va utilizar el(a) Consola de Videojuegos en su casa ?5\n",
      "Introduce un estimación aproximada de las horas de funcionamiento que va a tener el(a) Consola de Videojuegos en los días que esté funcionando : ()2\n",
      "¿ Tiene usted Equipos de Música en su casa (Sí/No) ? si\n",
      "¿ Cúantas unidades de Equipos de Música tiene usted en su casa ? 4\n",
      "¿ Introduce cuantos días a la semana se va utilizar el(a) Equipos de Música en su casa ?6\n",
      "Introduce un estimación aproximada de las horas de funcionamiento que va a tener el(a) Equipos de Música en los días que esté funcionando : ()3\n",
      "¿ Tiene usted Estufa en su casa (Sí/No) ? no\n",
      "¿ Tiene usted Freidora en su casa (Sí/No) ? \n",
      "¿ Tiene usted Hervidor Eléctrico de Agua en su casa (Sí/No) ? \n",
      "¿ Tiene usted Lavadora en su casa (Sí/No) ? \n",
      "¿ Tiene usted Lavavajillas en su casa (Sí/No) ? \n",
      "¿ Tiene usted Licuadora en su casa (Sí/No) ? \n",
      "¿ Tiene usted Microondas en su casa (Sí/No) ? \n",
      "¿ Tiene usted Vitrocerámica en su casa (Sí/No) ? \n",
      "¿ Tiene usted Plancha de Pelo en su casa (Sí/No) ? \n",
      "¿ Tiene usted Plancha de Ropa en su casa (Sí/No) ? \n",
      "¿ Tiene usted Refrigerador en su casa (Sí/No) ? \n",
      "¿ Tiene usted Sandwichera en su casa (Sí/No) ? \n",
      "¿ Tiene usted Secador de Pelo en su casa (Sí/No) ? \n",
      "¿ Tiene usted Televisor en su casa (Sí/No) ? \n",
      "¿ Tiene usted Tostadora en su casa (Sí/No) ? \n",
      "¿ Tiene usted Ventilador en su casa (Sí/No) ? \n",
      "¿ Tiene usted Lamparas en su casa (Sí/No) ? \n"
     ]
    }
   ],
   "source": [
    "print(\"Previsión de Energía consumida\")\n",
    "print(\"Si quiere salir del programa introduce la palabra 'salir'\")\n",
    "horas_func = {}\n",
    "unidades = {}\n",
    "dias_func = {}\n",
    "for i in range(len(electrodomesticos)):\n",
    "    nueva = input(f\"¿ Tiene usted {electrodomesticos[i]} en su casa (Sí/No) ? \")\n",
    "    if nueva.lower() in [\"si\".lower(), \"sí\".lower()]:\n",
    "        unidad = input(f'¿ Cúantas unidades de {electrodomesticos[i]} tiene usted en su casa ? ')\n",
    "        dias = input(f\"¿ Introduce cuantos días a la semana se va utilizar el(a) {electrodomesticos[i]} en su casa ?\")\n",
    "        horas = input(f\"Introduce un estimación aproximada de las horas de funcionamiento que va a tener el(a) {electrodomesticos[i]} en los días que esté funcionando : ()\")\n",
    "        horas_func[electrodomesticos[i]]=horas\n",
    "        unidades[electrodomesticos[i]] = unidad\n",
    "        dias_func[electrodomesticos[i]] = dias       \n",
    "    elif nueva.lower() == \"salir\":\n",
    "        break\n",
    "                     "
   ]
  },
  {
   "cell_type": "code",
   "execution_count": 9,
   "id": "78d07278",
   "metadata": {},
   "outputs": [
    {
     "data": {
      "text/plain": [
       "['Aire Acondicionado',\n",
       " 'Aspiradora',\n",
       " 'Batidora',\n",
       " 'Cafetera Eléctrica',\n",
       " 'Campana Extractora',\n",
       " 'Horno',\n",
       " 'Computadoras de Escritorio',\n",
       " 'Consola de Videojuegos',\n",
       " 'Equipos de Música']"
      ]
     },
     "execution_count": 9,
     "metadata": {},
     "output_type": "execute_result"
    }
   ],
   "source": [
    "lista = []\n",
    "for i in horas_func.keys():\n",
    "    lista.append(i)\n",
    "lista"
   ]
  },
  {
   "cell_type": "markdown",
   "id": "71fb3552",
   "metadata": {},
   "source": [
    "### los componentes de casa con su potencia"
   ]
  },
  {
   "cell_type": "code",
   "execution_count": 10,
   "id": "91b29afa",
   "metadata": {},
   "outputs": [
    {
     "data": {
      "text/plain": [
       "{'Aire Acondicionado': 875,\n",
       " 'Aspiradora': 450,\n",
       " 'Batidora': 200,\n",
       " 'Cafetera Eléctrica': 800,\n",
       " 'Campana Extractora': 200,\n",
       " 'Computadoras de Escritorio': 220,\n",
       " 'Consola de Videojuegos': 90,\n",
       " 'Equipos de Música': 80,\n",
       " 'Horno': 1400}"
      ]
     },
     "execution_count": 10,
     "metadata": {},
     "output_type": "execute_result"
    }
   ],
   "source": [
    "potencia = dict(filter(lambda x: x[0] in lista, pot_electrodomesticos.items()))\n",
    "potencia "
   ]
  },
  {
   "cell_type": "markdown",
   "id": "ee215e99",
   "metadata": {},
   "source": [
    "### los componentes de casa con sus días de funcionamiento"
   ]
  },
  {
   "cell_type": "code",
   "execution_count": 51,
   "id": "b0b92755",
   "metadata": {
    "scrolled": false
   },
   "outputs": [
    {
     "data": {
      "text/plain": [
       "{'Aire Acondicionado': '4',\n",
       " 'Aspiradora': '4',\n",
       " 'Batidora': '3',\n",
       " 'Cafetera Eléctrica': '1',\n",
       " 'Campana Extractora': '3',\n",
       " 'Horno': '5',\n",
       " 'Computadoras de Escritorio': '2',\n",
       " 'Consola de Videojuegos': '5',\n",
       " 'Equipos de Música': '6'}"
      ]
     },
     "execution_count": 51,
     "metadata": {},
     "output_type": "execute_result"
    }
   ],
   "source": [
    "dias_func"
   ]
  },
  {
   "cell_type": "markdown",
   "id": "63b8675d",
   "metadata": {},
   "source": [
    "### los componentes de casa con sus días de funcionamiento"
   ]
  },
  {
   "cell_type": "code",
   "execution_count": 50,
   "id": "4fc12e17",
   "metadata": {},
   "outputs": [
    {
     "data": {
      "text/plain": [
       "{'Aire Acondicionado': '4',\n",
       " 'Aspiradora': '3',\n",
       " 'Batidora': '4',\n",
       " 'Cafetera Eléctrica': '5',\n",
       " 'Campana Extractora': '5',\n",
       " 'Horno': '2',\n",
       " 'Computadoras de Escritorio': '6',\n",
       " 'Consola de Videojuegos': '2',\n",
       " 'Equipos de Música': '3'}"
      ]
     },
     "execution_count": 50,
     "metadata": {},
     "output_type": "execute_result"
    }
   ],
   "source": [
    "horas_func"
   ]
  },
  {
   "cell_type": "markdown",
   "id": "ba024253",
   "metadata": {},
   "source": [
    "### los componentes de casa con toda su información"
   ]
  },
  {
   "cell_type": "code",
   "execution_count": 12,
   "id": "d9ca27b1",
   "metadata": {},
   "outputs": [
    {
     "data": {
      "text/plain": [
       "{'Aire Acondicionado': [4, 3, 875, 4],\n",
       " 'Aspiradora': [3, 4, 450, 4],\n",
       " 'Batidora': [4, 5, 200, 3],\n",
       " 'Cafetera Eléctrica': [5, 4, 800, 1],\n",
       " 'Campana Extractora': [5, 4, 200, 3],\n",
       " 'Horno': [2, 3, 1400, 5],\n",
       " 'Computadoras de Escritorio': [6, 4, 220, 2],\n",
       " 'Consola de Videojuegos': [2, 3, 90, 5],\n",
       " 'Equipos de Música': [3, 4, 80, 6]}"
      ]
     },
     "execution_count": 12,
     "metadata": {},
     "output_type": "execute_result"
    }
   ],
   "source": [
    "from itertools import chain\n",
    "from collections import defaultdict\n",
    "\n",
    "dict3 = defaultdict(list)\n",
    "for k, v in chain(horas_func.items(), unidades.items(), potencia.items(), dias_func.items()):\n",
    "    dict3[k].append(int(v))\n",
    "dic_final = dict(dict3)\n",
    "dic_final"
   ]
  },
  {
   "cell_type": "markdown",
   "id": "4b5604b3",
   "metadata": {},
   "source": [
    "### los componentes de casa con su energía consumida"
   ]
  },
  {
   "cell_type": "code",
   "execution_count": 53,
   "id": "a34da432",
   "metadata": {},
   "outputs": [
    {
     "name": "stdout",
     "output_type": "stream",
     "text": [
      "6000.0\n",
      "3085.714285714286\n",
      "1714.2857142857142\n",
      "2285.714285714286\n",
      "1714.2857142857142\n",
      "6000.0\n",
      "1508.5714285714287\n",
      "385.7142857142857\n",
      "822.8571428571429\n"
     ]
    }
   ],
   "source": [
    "import numpy\n",
    "dic_final2 = {}\n",
    "lis = []\n",
    "for i, y in dic_final.items():\n",
    "    dic_final2[i] = numpy.prod(y)\n",
    "for i in dic_final2.values():\n",
    "    a = (i/7)\n",
    "    lis.append(a)\n",
    "    print(a)"
   ]
  },
  {
   "cell_type": "markdown",
   "id": "f31cd4cb",
   "metadata": {},
   "source": [
    "### consumo teorico `Lmd`"
   ]
  },
  {
   "cell_type": "code",
   "execution_count": 41,
   "id": "3b8c95ec",
   "metadata": {},
   "outputs": [
    {
     "data": {
      "text/plain": [
       "23517.142857142855"
      ]
     },
     "execution_count": 41,
     "metadata": {},
     "output_type": "execute_result"
    }
   ],
   "source": [
    "consumo_teorico = sum(lis)\n",
    "consumo_teorico"
   ]
  },
  {
   "cell_type": "markdown",
   "id": "a5e88dbb",
   "metadata": {},
   "source": [
    "### Consumo Real"
   ]
  },
  {
   "cell_type": "code",
   "execution_count": 64,
   "id": "50770ff2",
   "metadata": {},
   "outputs": [
    {
     "data": {
      "text/plain": [
       "28953.084465549837"
      ]
     },
     "execution_count": 64,
     "metadata": {},
     "output_type": "execute_result"
    }
   ],
   "source": [
    "consumo_diario= consumo_teorico/(0.95*0.95*0.9)\n",
    "consumo_diario"
   ]
  },
  {
   "cell_type": "markdown",
   "id": "108226a2",
   "metadata": {},
   "source": [
    "### Previsión de Potencia por Receptores"
   ]
  },
  {
   "cell_type": "code",
   "execution_count": 69,
   "id": "82cddae7",
   "metadata": {},
   "outputs": [
    {
     "name": "stdout",
     "output_type": "stream",
     "text": [
      "la instalación necesitará una Memoria Técnica de Diseño (MTD) de un Técnico electricista.\n"
     ]
    }
   ],
   "source": [
    "suma_de_potencia = 0\n",
    "for i in potencia.values():\n",
    "    suma_de_potencia  += i\n",
    "Potencia_Prevista = suma_de_potencia*0.75\n",
    "if Potencia_Prevista > 10000:\n",
    "    print(\"la instalación necesitará Proyecto de un Ingeniero\")\n",
    "else:\n",
    "    print(\"la instalación necesitará una Memoria Técnica de Diseño (MTD) de un Técnico electricista.\")"
   ]
  },
  {
   "cell_type": "code",
   "execution_count": 71,
   "id": "25827ccb",
   "metadata": {},
   "outputs": [
    {
     "data": {
      "text/plain": [
       "3236.25"
      ]
     },
     "execution_count": 71,
     "metadata": {},
     "output_type": "execute_result"
    }
   ],
   "source": [
    "Potencia_Prevista"
   ]
  },
  {
   "cell_type": "code",
   "execution_count": 1,
   "id": "1b589598",
   "metadata": {},
   "outputs": [
    {
     "ename": "NameError",
     "evalue": "name 'Potencia_Prevista' is not defined",
     "output_type": "error",
     "traceback": [
      "\u001b[0;31m---------------------------------------------------------------------------\u001b[0m",
      "\u001b[0;31mNameError\u001b[0m                                 Traceback (most recent call last)",
      "\u001b[0;32m/var/folders/h8/smk241t96gn48m2h56zj_vpm0000gn/T/ipykernel_5546/2012578411.py\u001b[0m in \u001b[0;36m<module>\u001b[0;34m\u001b[0m\n\u001b[0;32m----> 1\u001b[0;31m \u001b[0;32mif\u001b[0m \u001b[0mPotencia_Prevista\u001b[0m \u001b[0;34m<\u001b[0m \u001b[0;36m1500\u001b[0m\u001b[0;34m:\u001b[0m\u001b[0;34m\u001b[0m\u001b[0;34m\u001b[0m\u001b[0m\n\u001b[0m\u001b[1;32m      2\u001b[0m     \u001b[0mtensión\u001b[0m \u001b[0;34m=\u001b[0m \u001b[0;36m12\u001b[0m\u001b[0;34m\u001b[0m\u001b[0;34m\u001b[0m\u001b[0m\n\u001b[1;32m      3\u001b[0m \u001b[0;32melif\u001b[0m \u001b[0;36m1500\u001b[0m \u001b[0;34m<=\u001b[0m \u001b[0mPotencia_Prevista\u001b[0m \u001b[0;34m<\u001b[0m \u001b[0;36m5000\u001b[0m\u001b[0;34m:\u001b[0m\u001b[0;34m\u001b[0m\u001b[0;34m\u001b[0m\u001b[0m\n\u001b[1;32m      4\u001b[0m     \u001b[0mtensión\u001b[0m \u001b[0;34m=\u001b[0m \u001b[0;36m48\u001b[0m\u001b[0;34m\u001b[0m\u001b[0;34m\u001b[0m\u001b[0m\n\u001b[1;32m      5\u001b[0m \u001b[0;32melif\u001b[0m \u001b[0mPotencia_Prevista\u001b[0m \u001b[0;34m>\u001b[0m \u001b[0;36m5000\u001b[0m\u001b[0;34m:\u001b[0m\u001b[0;34m\u001b[0m\u001b[0;34m\u001b[0m\u001b[0m\n",
      "\u001b[0;31mNameError\u001b[0m: name 'Potencia_Prevista' is not defined"
     ]
    }
   ],
   "source": [
    "if Potencia_Prevista < 1500:\n",
    "    tensión = 12\n",
    "elif 1500 <= Potencia_Prevista < 5000:\n",
    "    tensión = 48\n",
    "elif Potencia_Prevista > 5000:\n",
    "    tensión = 120"
   ]
  },
  {
   "cell_type": "code",
   "execution_count": 31,
   "id": "22665ed0",
   "metadata": {},
   "outputs": [],
   "source": [
    "import os\n",
    "import pandas as pd"
   ]
  },
  {
   "cell_type": "code",
   "execution_count": 61,
   "id": "64e72b48",
   "metadata": {
    "scrolled": true
   },
   "outputs": [
    {
     "data": {
      "text/plain": [
       "19"
      ]
     },
     "execution_count": 61,
     "metadata": {},
     "output_type": "execute_result"
    }
   ],
   "source": [
    "df = pd.read_csv(\"../../../mohamedelmarraki/Downloads/Monthlydata_40.000_-3.000_SA2_2020_2020.csv\", sep=\"\\t\", header=[4]).head(12)\n",
    "df = df.loc[:, [\"year\", \"month\",\"H(i_opt)_m\", \"T2m\"]]\n",
    "irrandiacia_zona = ((df[\"H(i_opt)_m\"].min()) * 1000)/31\n",
    "HSP = irrandiacia_zona / 1000\n",
    "energía_producirá_día = HSP * 450 * 0.9\n",
    "Nº_paneles = 29999.084465549837 / energía_producirá_día\n",
    "round(Nº_paneles)\n",
    "\n",
    "\n"
   ]
  },
  {
   "cell_type": "code",
   "execution_count": null,
   "id": "0c3c6da7",
   "metadata": {},
   "outputs": [],
   "source": [
    "if a = 2:\n",
    "    "
   ]
  }
 ],
 "metadata": {
  "kernelspec": {
   "display_name": "Python [conda env:ironhack]",
   "language": "python",
   "name": "conda-env-ironhack-py"
  },
  "language_info": {
   "codemirror_mode": {
    "name": "ipython",
    "version": 3
   },
   "file_extension": ".py",
   "mimetype": "text/x-python",
   "name": "python",
   "nbconvert_exporter": "python",
   "pygments_lexer": "ipython3",
   "version": "3.7.11"
  }
 },
 "nbformat": 4,
 "nbformat_minor": 5
}
