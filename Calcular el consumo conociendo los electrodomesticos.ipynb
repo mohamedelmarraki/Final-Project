{
 "cells": [
  {
   "cell_type": "code",
   "execution_count": 319,
   "id": "89bed300",
   "metadata": {},
   "outputs": [],
   "source": [
    "electrodomesticos = '''Aire Acondicionado\n",
    "Aspiradora\n",
    "Batidora\n",
    "Cafetera Eléctrica\n",
    "Campana Extractora\n",
    "Horno\n",
    "Computadoras de Escritorio\n",
    "Consola de Videojuegos\n",
    "Estufa\n",
    "Freidora\n",
    "Lavadora\n",
    "Lavavajillas\n",
    "Licuadora\n",
    "Microondas\n",
    "Vitrocerámica\n",
    "Plancha de Ropa\n",
    "Refrigerador\n",
    "Secador de Pelo\n",
    "Televisor\n",
    "Tostadora\n",
    "Lamparas'''\n",
    "electrodomesticos = electrodomesticos.split(\"\\n\")\n",
    "pot_electrodomesticos = {'Aire Acondicionado': 875,\n",
    " 'Aspiradora': 450,\n",
    " 'Batidora': 200,\n",
    " 'Cafetera Eléctrica': 800,\n",
    " 'Campana Extractora': 200,\n",
    " 'Cepillo eléctrico': 55,\n",
    " 'Computadoras de Escritorio': 220,\n",
    " 'Consola de Videojuegos': 90,\n",
    " 'Depiladora Eléctrica': 20,\n",
    " 'Equipos de Música': 80,\n",
    " 'Estufa': 2000,\n",
    " 'Freidora': 1100,\n",
    " 'Horno' : 1400,\n",
    " 'Hervidor Eléctrico de Agua': 1200,\n",
    " 'Lavadora': 1500,\n",
    " 'Lavavajillas': 1800,\n",
    " 'Licuadora': 1200,\n",
    " 'Microondas': 900,\n",
    " 'Plancha de Pelo': 2000,\n",
    " 'Plancha de Ropa': 1200,\n",
    " 'Refrigerador': 300,\n",
    " 'Sandwichera': 800,\n",
    " 'Secador de Pelo': 1900,\n",
    " 'Televisor': 300,\n",
    " 'Tostadora': 1000,\n",
    " 'Ventilador': 60,\n",
    " 'Lamparas' : 60 }"
   ]
  },
  {
   "cell_type": "code",
   "execution_count": 2,
   "id": "4e6c4ed6",
   "metadata": {},
   "outputs": [
    {
     "name": "stdout",
     "output_type": "stream",
     "text": [
      "Previsión de Energía consumida\n",
      "Si quiere salir del programa introduce la palabra 'salir'\n",
      "¿ Tiene usted Aire Acondicionado en su casa (Sí/No) ? si\n",
      "¿ Cúantas unidades de Aire Acondicionado tiene usted en su casa ? 3\n",
      "¿ Introduce cuantos días a la semana se va utilizar el(a) Aire Acondicionado en su casa ?4\n",
      "Introduce un estimación aproximada de las horas de funcionamiento que va a tener el(a) Aire Acondicionado en los días que esté funcionando : ()4\n",
      "¿ Tiene usted Aspiradora en su casa (Sí/No) ? si\n",
      "¿ Cúantas unidades de Aspiradora tiene usted en su casa ? 4\n",
      "¿ Introduce cuantos días a la semana se va utilizar el(a) Aspiradora en su casa ?4\n",
      "Introduce un estimación aproximada de las horas de funcionamiento que va a tener el(a) Aspiradora en los días que esté funcionando : ()3\n",
      "¿ Tiene usted Batidora en su casa (Sí/No) ? si\n",
      "¿ Cúantas unidades de Batidora tiene usted en su casa ? 5\n",
      "¿ Introduce cuantos días a la semana se va utilizar el(a) Batidora en su casa ?3\n",
      "Introduce un estimación aproximada de las horas de funcionamiento que va a tener el(a) Batidora en los días que esté funcionando : ()4\n",
      "¿ Tiene usted Cafetera Eléctrica en su casa (Sí/No) ? si\n",
      "¿ Cúantas unidades de Cafetera Eléctrica tiene usted en su casa ? 4\n",
      "¿ Introduce cuantos días a la semana se va utilizar el(a) Cafetera Eléctrica en su casa ?1\n",
      "Introduce un estimación aproximada de las horas de funcionamiento que va a tener el(a) Cafetera Eléctrica en los días que esté funcionando : ()5\n",
      "¿ Tiene usted Campana Extractora en su casa (Sí/No) ? si\n",
      "¿ Cúantas unidades de Campana Extractora tiene usted en su casa ? 4\n",
      "¿ Introduce cuantos días a la semana se va utilizar el(a) Campana Extractora en su casa ?3\n",
      "Introduce un estimación aproximada de las horas de funcionamiento que va a tener el(a) Campana Extractora en los días que esté funcionando : ()5\n",
      "¿ Tiene usted Horno en su casa (Sí/No) ? si\n",
      "¿ Cúantas unidades de Horno tiene usted en su casa ? 3\n",
      "¿ Introduce cuantos días a la semana se va utilizar el(a) Horno en su casa ?5\n",
      "Introduce un estimación aproximada de las horas de funcionamiento que va a tener el(a) Horno en los días que esté funcionando : ()2\n",
      "¿ Tiene usted Computadoras de Escritorio en su casa (Sí/No) ? si\n",
      "¿ Cúantas unidades de Computadoras de Escritorio tiene usted en su casa ? 4\n",
      "¿ Introduce cuantos días a la semana se va utilizar el(a) Computadoras de Escritorio en su casa ?2\n",
      "Introduce un estimación aproximada de las horas de funcionamiento que va a tener el(a) Computadoras de Escritorio en los días que esté funcionando : ()6\n",
      "¿ Tiene usted Consola de Videojuegos en su casa (Sí/No) ? si\n",
      "¿ Cúantas unidades de Consola de Videojuegos tiene usted en su casa ? 3\n",
      "¿ Introduce cuantos días a la semana se va utilizar el(a) Consola de Videojuegos en su casa ?5\n",
      "Introduce un estimación aproximada de las horas de funcionamiento que va a tener el(a) Consola de Videojuegos en los días que esté funcionando : ()2\n",
      "¿ Tiene usted Equipos de Música en su casa (Sí/No) ? si\n",
      "¿ Cúantas unidades de Equipos de Música tiene usted en su casa ? 4\n",
      "¿ Introduce cuantos días a la semana se va utilizar el(a) Equipos de Música en su casa ?6\n",
      "Introduce un estimación aproximada de las horas de funcionamiento que va a tener el(a) Equipos de Música en los días que esté funcionando : ()3\n",
      "¿ Tiene usted Estufa en su casa (Sí/No) ? no\n",
      "¿ Tiene usted Freidora en su casa (Sí/No) ? \n",
      "¿ Tiene usted Hervidor Eléctrico de Agua en su casa (Sí/No) ? \n",
      "¿ Tiene usted Lavadora en su casa (Sí/No) ? \n",
      "¿ Tiene usted Lavavajillas en su casa (Sí/No) ? \n",
      "¿ Tiene usted Licuadora en su casa (Sí/No) ? \n",
      "¿ Tiene usted Microondas en su casa (Sí/No) ? \n",
      "¿ Tiene usted Vitrocerámica en su casa (Sí/No) ? \n",
      "¿ Tiene usted Plancha de Pelo en su casa (Sí/No) ? \n",
      "¿ Tiene usted Plancha de Ropa en su casa (Sí/No) ? \n",
      "¿ Tiene usted Refrigerador en su casa (Sí/No) ? \n",
      "¿ Tiene usted Sandwichera en su casa (Sí/No) ? \n",
      "¿ Tiene usted Secador de Pelo en su casa (Sí/No) ? \n",
      "¿ Tiene usted Televisor en su casa (Sí/No) ? \n",
      "¿ Tiene usted Tostadora en su casa (Sí/No) ? \n",
      "¿ Tiene usted Ventilador en su casa (Sí/No) ? \n",
      "¿ Tiene usted Lamparas en su casa (Sí/No) ? \n"
     ]
    }
   ],
   "source": [
    "print(\"Previsión de Energía consumida\")\n",
    "print(\"Si quiere salir del programa introduce la palabra 'salir'\")\n",
    "horas_func = {}\n",
    "unidades = {}\n",
    "dias_func = {}\n",
    "for i in range(len(electrodomesticos)):\n",
    "    nueva = input(f\"¿ Tiene usted {electrodomesticos[i]} en su casa (Sí/No) ? \")\n",
    "    if nueva.lower() in [\"si\".lower(), \"sí\".lower()]:\n",
    "        unidad = input(f'¿ Cúantas unidades de {electrodomesticos[i]} tiene usted en su casa ? ')\n",
    "        dias = input(f\"¿ Introduce cuantos días a la semana se va utilizar el(a) {electrodomesticos[i]} en su casa ?\")\n",
    "        horas = input(f\"Introduce un estimación aproximada de las horas de funcionamiento que va a tener el(a) {electrodomesticos[i]} en los días que esté funcionando : ()\")\n",
    "        horas_func[electrodomesticos[i]]=horas\n",
    "        unidades[electrodomesticos[i]] = unidad\n",
    "        dias_func[electrodomesticos[i]] = dias       \n",
    "    elif nueva.lower() == \"salir\":\n",
    "        break\n",
    "                     "
   ]
  },
  {
   "cell_type": "code",
   "execution_count": 9,
   "id": "78d07278",
   "metadata": {},
   "outputs": [
    {
     "data": {
      "text/plain": [
       "['Aire Acondicionado',\n",
       " 'Aspiradora',\n",
       " 'Batidora',\n",
       " 'Cafetera Eléctrica',\n",
       " 'Campana Extractora',\n",
       " 'Horno',\n",
       " 'Computadoras de Escritorio',\n",
       " 'Consola de Videojuegos',\n",
       " 'Equipos de Música']"
      ]
     },
     "execution_count": 9,
     "metadata": {},
     "output_type": "execute_result"
    }
   ],
   "source": [
    "lista = []\n",
    "for i in horas_func.keys():\n",
    "    lista.append(i)\n",
    "lista"
   ]
  },
  {
   "cell_type": "markdown",
   "id": "71fb3552",
   "metadata": {},
   "source": [
    "### los componentes de casa con su potencia"
   ]
  },
  {
   "cell_type": "code",
   "execution_count": 10,
   "id": "91b29afa",
   "metadata": {},
   "outputs": [
    {
     "data": {
      "text/plain": [
       "{'Aire Acondicionado': 875,\n",
       " 'Aspiradora': 450,\n",
       " 'Batidora': 200,\n",
       " 'Cafetera Eléctrica': 800,\n",
       " 'Campana Extractora': 200,\n",
       " 'Computadoras de Escritorio': 220,\n",
       " 'Consola de Videojuegos': 90,\n",
       " 'Equipos de Música': 80,\n",
       " 'Horno': 1400}"
      ]
     },
     "execution_count": 10,
     "metadata": {},
     "output_type": "execute_result"
    }
   ],
   "source": [
    "potencia = dict(filter(lambda x: x[0] in lista, pot_electrodomesticos.items()))\n",
    "potencia "
   ]
  },
  {
   "cell_type": "markdown",
   "id": "ee215e99",
   "metadata": {},
   "source": [
    "### los componentes de casa con sus días de funcionamiento"
   ]
  },
  {
   "cell_type": "code",
   "execution_count": 51,
   "id": "b0b92755",
   "metadata": {
    "scrolled": false
   },
   "outputs": [
    {
     "data": {
      "text/plain": [
       "{'Aire Acondicionado': '4',\n",
       " 'Aspiradora': '4',\n",
       " 'Batidora': '3',\n",
       " 'Cafetera Eléctrica': '1',\n",
       " 'Campana Extractora': '3',\n",
       " 'Horno': '5',\n",
       " 'Computadoras de Escritorio': '2',\n",
       " 'Consola de Videojuegos': '5',\n",
       " 'Equipos de Música': '6'}"
      ]
     },
     "execution_count": 51,
     "metadata": {},
     "output_type": "execute_result"
    }
   ],
   "source": [
    "dias_func"
   ]
  },
  {
   "cell_type": "markdown",
   "id": "63b8675d",
   "metadata": {},
   "source": [
    "### los componentes de casa con sus días de funcionamiento"
   ]
  },
  {
   "cell_type": "code",
   "execution_count": 50,
   "id": "4fc12e17",
   "metadata": {},
   "outputs": [
    {
     "data": {
      "text/plain": [
       "{'Aire Acondicionado': '4',\n",
       " 'Aspiradora': '3',\n",
       " 'Batidora': '4',\n",
       " 'Cafetera Eléctrica': '5',\n",
       " 'Campana Extractora': '5',\n",
       " 'Horno': '2',\n",
       " 'Computadoras de Escritorio': '6',\n",
       " 'Consola de Videojuegos': '2',\n",
       " 'Equipos de Música': '3'}"
      ]
     },
     "execution_count": 50,
     "metadata": {},
     "output_type": "execute_result"
    }
   ],
   "source": [
    "horas_func"
   ]
  },
  {
   "cell_type": "markdown",
   "id": "ba024253",
   "metadata": {},
   "source": [
    "### los componentes de casa con toda su información"
   ]
  },
  {
   "cell_type": "code",
   "execution_count": 12,
   "id": "d9ca27b1",
   "metadata": {},
   "outputs": [
    {
     "data": {
      "text/plain": [
       "{'Aire Acondicionado': [4, 3, 875, 4],\n",
       " 'Aspiradora': [3, 4, 450, 4],\n",
       " 'Batidora': [4, 5, 200, 3],\n",
       " 'Cafetera Eléctrica': [5, 4, 800, 1],\n",
       " 'Campana Extractora': [5, 4, 200, 3],\n",
       " 'Horno': [2, 3, 1400, 5],\n",
       " 'Computadoras de Escritorio': [6, 4, 220, 2],\n",
       " 'Consola de Videojuegos': [2, 3, 90, 5],\n",
       " 'Equipos de Música': [3, 4, 80, 6]}"
      ]
     },
     "execution_count": 12,
     "metadata": {},
     "output_type": "execute_result"
    }
   ],
   "source": [
    "from itertools import chain\n",
    "from collections import defaultdict\n",
    "\n",
    "dict3 = defaultdict(list)\n",
    "for k, v in chain(horas_func.items(), unidades.items(), potencia.items(), dias_func.items()):\n",
    "    dict3[k].append(int(v))\n",
    "dic_final = dict(dict3)\n",
    "dic_final"
   ]
  },
  {
   "cell_type": "markdown",
   "id": "4b5604b3",
   "metadata": {},
   "source": [
    "### los componentes de casa con su energía consumida"
   ]
  },
  {
   "cell_type": "code",
   "execution_count": 53,
   "id": "a34da432",
   "metadata": {},
   "outputs": [
    {
     "name": "stdout",
     "output_type": "stream",
     "text": [
      "6000.0\n",
      "3085.714285714286\n",
      "1714.2857142857142\n",
      "2285.714285714286\n",
      "1714.2857142857142\n",
      "6000.0\n",
      "1508.5714285714287\n",
      "385.7142857142857\n",
      "822.8571428571429\n"
     ]
    }
   ],
   "source": [
    "import numpy\n",
    "dic_final2 = {}\n",
    "lis = []\n",
    "for i, y in dic_final.items():\n",
    "    dic_final2[i] = numpy.prod(y)\n",
    "for i in dic_final2.values():\n",
    "    a = (i/7)\n",
    "    lis.append(a)\n",
    "    print(a)"
   ]
  },
  {
   "cell_type": "markdown",
   "id": "f31cd4cb",
   "metadata": {},
   "source": [
    "### consumo teorico `Lmd`"
   ]
  },
  {
   "cell_type": "code",
   "execution_count": 41,
   "id": "3b8c95ec",
   "metadata": {},
   "outputs": [
    {
     "data": {
      "text/plain": [
       "23517.142857142855"
      ]
     },
     "execution_count": 41,
     "metadata": {},
     "output_type": "execute_result"
    }
   ],
   "source": [
    "consumo_teorico = sum(lis)\n",
    "consumo_teorico"
   ]
  },
  {
   "cell_type": "markdown",
   "id": "a5e88dbb",
   "metadata": {},
   "source": [
    "### Consumo Real"
   ]
  },
  {
   "cell_type": "code",
   "execution_count": 64,
   "id": "50770ff2",
   "metadata": {},
   "outputs": [
    {
     "data": {
      "text/plain": [
       "28953.084465549837"
      ]
     },
     "execution_count": 64,
     "metadata": {},
     "output_type": "execute_result"
    }
   ],
   "source": [
    "consumo_diario= consumo_teorico/(0.95*0.95*0.9)\n",
    "consumo_diario"
   ]
  },
  {
   "cell_type": "markdown",
   "id": "108226a2",
   "metadata": {},
   "source": [
    "### Previsión de Potencia por Receptores"
   ]
  },
  {
   "cell_type": "code",
   "execution_count": 69,
   "id": "82cddae7",
   "metadata": {},
   "outputs": [
    {
     "name": "stdout",
     "output_type": "stream",
     "text": [
      "la instalación necesitará una Memoria Técnica de Diseño (MTD) de un Técnico electricista.\n"
     ]
    }
   ],
   "source": [
    "suma_de_potencia = 0\n",
    "for i in potencia.values():\n",
    "    suma_de_potencia  += i\n",
    "Potencia_Prevista = suma_de_potencia*0.75\n",
    "if Potencia_Prevista > 10000:\n",
    "    print(\"la instalación necesitará Proyecto de un Ingeniero\")\n",
    "else:\n",
    "    print(\"la instalación necesitará una Memoria Técnica de Diseño (MTD) de un Técnico electricista.\")"
   ]
  },
  {
   "cell_type": "code",
   "execution_count": 71,
   "id": "25827ccb",
   "metadata": {},
   "outputs": [
    {
     "data": {
      "text/plain": [
       "3236.25"
      ]
     },
     "execution_count": 71,
     "metadata": {},
     "output_type": "execute_result"
    }
   ],
   "source": [
    "Potencia_Prevista"
   ]
  },
  {
   "cell_type": "code",
   "execution_count": 1,
   "id": "1b589598",
   "metadata": {},
   "outputs": [
    {
     "ename": "NameError",
     "evalue": "name 'Potencia_Prevista' is not defined",
     "output_type": "error",
     "traceback": [
      "\u001b[0;31m---------------------------------------------------------------------------\u001b[0m",
      "\u001b[0;31mNameError\u001b[0m                                 Traceback (most recent call last)",
      "\u001b[0;32m/var/folders/h8/smk241t96gn48m2h56zj_vpm0000gn/T/ipykernel_5546/2012578411.py\u001b[0m in \u001b[0;36m<module>\u001b[0;34m\u001b[0m\n\u001b[0;32m----> 1\u001b[0;31m \u001b[0;32mif\u001b[0m \u001b[0mPotencia_Prevista\u001b[0m \u001b[0;34m<\u001b[0m \u001b[0;36m1500\u001b[0m\u001b[0;34m:\u001b[0m\u001b[0;34m\u001b[0m\u001b[0;34m\u001b[0m\u001b[0m\n\u001b[0m\u001b[1;32m      2\u001b[0m     \u001b[0mtensión\u001b[0m \u001b[0;34m=\u001b[0m \u001b[0;36m12\u001b[0m\u001b[0;34m\u001b[0m\u001b[0;34m\u001b[0m\u001b[0m\n\u001b[1;32m      3\u001b[0m \u001b[0;32melif\u001b[0m \u001b[0;36m1500\u001b[0m \u001b[0;34m<=\u001b[0m \u001b[0mPotencia_Prevista\u001b[0m \u001b[0;34m<\u001b[0m \u001b[0;36m5000\u001b[0m\u001b[0;34m:\u001b[0m\u001b[0;34m\u001b[0m\u001b[0;34m\u001b[0m\u001b[0m\n\u001b[1;32m      4\u001b[0m     \u001b[0mtensión\u001b[0m \u001b[0;34m=\u001b[0m \u001b[0;36m48\u001b[0m\u001b[0;34m\u001b[0m\u001b[0;34m\u001b[0m\u001b[0m\n\u001b[1;32m      5\u001b[0m \u001b[0;32melif\u001b[0m \u001b[0mPotencia_Prevista\u001b[0m \u001b[0;34m>\u001b[0m \u001b[0;36m5000\u001b[0m\u001b[0;34m:\u001b[0m\u001b[0;34m\u001b[0m\u001b[0;34m\u001b[0m\u001b[0m\n",
      "\u001b[0;31mNameError\u001b[0m: name 'Potencia_Prevista' is not defined"
     ]
    }
   ],
   "source": [
    "if Potencia_Prevista < 1500:\n",
    "    tensión = 12\n",
    "elif 1500 <= Potencia_Prevista < 5000:\n",
    "    tensión = 48\n",
    "elif Potencia_Prevista > 5000:\n",
    "    tensión = 120"
   ]
  },
  {
   "cell_type": "code",
   "execution_count": 31,
   "id": "22665ed0",
   "metadata": {},
   "outputs": [],
   "source": [
    "import os\n",
    "import pandas as pd"
   ]
  },
  {
   "cell_type": "code",
   "execution_count": 61,
   "id": "64e72b48",
   "metadata": {
    "scrolled": true
   },
   "outputs": [
    {
     "data": {
      "text/plain": [
       "19"
      ]
     },
     "execution_count": 61,
     "metadata": {},
     "output_type": "execute_result"
    }
   ],
   "source": [
    "df = pd.read_csv(\"../../../mohamedelmarraki/Downloads/Monthlydata_40.000_-3.000_SA2_2020_2020.csv\", sep=\"\\t\", header=[4]).head(12)\n",
    "df = df.loc[:, [\"year\", \"month\",\"H(i_opt)_m\", \"T2m\"]]\n",
    "irrandiacia_zona = ((df[\"H(i_opt)_m\"].min()) * 1000)/31\n",
    "HSP = irrandiacia_zona / 1000\n",
    "energía_producirá_día = HSP * 450 * 0.9\n",
    "Nº_paneles = 29999.084465549837 / energía_producirá_día\n",
    "round(Nº_paneles)\n",
    "\n",
    "\n"
   ]
  },
  {
   "cell_type": "code",
   "execution_count": null,
   "id": "74bf4187",
   "metadata": {},
   "outputs": [],
   "source": []
  },
  {
   "cell_type": "code",
   "execution_count": null,
   "id": "80d4003a",
   "metadata": {},
   "outputs": [],
   "source": []
  },
  {
   "cell_type": "code",
   "execution_count": null,
   "id": "ae7b421a",
   "metadata": {},
   "outputs": [],
   "source": []
  },
  {
   "cell_type": "code",
   "execution_count": null,
   "id": "7b9b03ed",
   "metadata": {},
   "outputs": [],
   "source": []
  },
  {
   "cell_type": "code",
   "execution_count": null,
   "id": "ba8da5f3",
   "metadata": {},
   "outputs": [],
   "source": []
  },
  {
   "cell_type": "code",
   "execution_count": null,
   "id": "c7b8e406",
   "metadata": {},
   "outputs": [],
   "source": []
  },
  {
   "cell_type": "code",
   "execution_count": null,
   "id": "5fba1df1",
   "metadata": {},
   "outputs": [],
   "source": []
  },
  {
   "cell_type": "code",
   "execution_count": null,
   "id": "02ca8302",
   "metadata": {},
   "outputs": [],
   "source": []
  },
  {
   "cell_type": "code",
   "execution_count": null,
   "id": "6a16b24f",
   "metadata": {},
   "outputs": [],
   "source": []
  },
  {
   "cell_type": "code",
   "execution_count": null,
   "id": "275ba15d",
   "metadata": {},
   "outputs": [],
   "source": []
  },
  {
   "cell_type": "code",
   "execution_count": null,
   "id": "c7a875c7",
   "metadata": {},
   "outputs": [],
   "source": []
  },
  {
   "cell_type": "code",
   "execution_count": null,
   "id": "42c7b6bf",
   "metadata": {},
   "outputs": [],
   "source": []
  },
  {
   "cell_type": "code",
   "execution_count": null,
   "id": "556a331a",
   "metadata": {},
   "outputs": [],
   "source": []
  },
  {
   "cell_type": "code",
   "execution_count": null,
   "id": "77954400",
   "metadata": {},
   "outputs": [],
   "source": []
  },
  {
   "cell_type": "code",
   "execution_count": null,
   "id": "1bf03d26",
   "metadata": {},
   "outputs": [],
   "source": []
  },
  {
   "cell_type": "code",
   "execution_count": null,
   "id": "b2759868",
   "metadata": {},
   "outputs": [],
   "source": []
  },
  {
   "cell_type": "code",
   "execution_count": 8,
   "id": "35759352",
   "metadata": {},
   "outputs": [],
   "source": [
    "import pandas as pd # importar la librería pandas\n",
    "\n",
    "import numpy as np # importar la librería numpy\n",
    "\n",
    "import requests # importar la librería requests\n",
    "\n",
    "from selenium import webdriver # Habrá que descargar el webdriver de chrome para realizar las distintas operaciones\n",
    "\n",
    "from selenium.webdriver.support.ui import WebDriverWait # Cuando cargamos una página web a veces el HTML tarda un poco en cargarse sugún nuestra velocidad de conexión pues hasta ciertos elementos no carguen tendremos que esperar\n",
    "\n",
    "from selenium.webdriver.support import expected_conditions as EC\n",
    "\n",
    "from selenium.webdriver.common.by import By\n",
    "\n",
    "from selenium.webdriver.support.ui import Select\n",
    "\n",
    "from selenium.webdriver.common.keys import Keys\n",
    "\n",
    "import time\n",
    "\n",
    "import os\n",
    "\n",
    "from geopy.geocoders import Nominatim\n",
    "\n",
    "import time\n",
    "\n",
    "import math"
   ]
  },
  {
   "cell_type": "code",
   "execution_count": 174,
   "id": "aa03887f",
   "metadata": {
    "scrolled": true
   },
   "outputs": [
    {
     "name": "stderr",
     "output_type": "stream",
     "text": [
      "/Users/mohamedelmarraki/miniconda3/envs/Project-Final/lib/python3.7/site-packages/ipykernel_launcher.py:9: DeprecationWarning: executable_path has been deprecated, please pass in a Service object\n",
      "  if __name__ == \"__main__\":\n",
      "/Users/mohamedelmarraki/miniconda3/envs/Project-Final/lib/python3.7/site-packages/ipykernel_launcher.py:9: DeprecationWarning: use options instead of chrome_options\n",
      "  if __name__ == \"__main__\":\n",
      "/Users/mohamedelmarraki/miniconda3/envs/Project-Final/lib/python3.7/site-packages/ipykernel_launcher.py:14: DeprecationWarning: find_element_by_xpath is deprecated. Please use find_element(by=By.XPATH, value=xpath) instead\n",
      "  \n",
      "/Users/mohamedelmarraki/miniconda3/envs/Project-Final/lib/python3.7/site-packages/ipykernel_launcher.py:30: DeprecationWarning: executable_path has been deprecated, please pass in a Service object\n",
      "/Users/mohamedelmarraki/miniconda3/envs/Project-Final/lib/python3.7/site-packages/ipykernel_launcher.py:30: DeprecationWarning: use options instead of chrome_options\n",
      "/Users/mohamedelmarraki/miniconda3/envs/Project-Final/lib/python3.7/site-packages/ipykernel_launcher.py:39: DeprecationWarning: find_element_by_xpath is deprecated. Please use find_element(by=By.XPATH, value=xpath) instead\n",
      "/Users/mohamedelmarraki/miniconda3/envs/Project-Final/lib/python3.7/site-packages/ipykernel_launcher.py:55: DeprecationWarning: executable_path has been deprecated, please pass in a Service object\n",
      "/Users/mohamedelmarraki/miniconda3/envs/Project-Final/lib/python3.7/site-packages/ipykernel_launcher.py:55: DeprecationWarning: use options instead of chrome_options\n",
      "/Users/mohamedelmarraki/miniconda3/envs/Project-Final/lib/python3.7/site-packages/ipykernel_launcher.py:64: DeprecationWarning: find_element_by_xpath is deprecated. Please use find_element(by=By.XPATH, value=xpath) instead\n"
     ]
    }
   ],
   "source": [
    "options = webdriver.ChromeOptions()\n",
    "    \n",
    "options.add_argument(\"--start-maximized\")\n",
    "    \n",
    "options.add_argument(\"--disable-extensions\")\n",
    "    \n",
    "driver_path = '/Users/mohamedelmarraki/ironhack/Final-Project/chromedriver'\n",
    "    \n",
    "driver = webdriver.Chrome(driver_path, chrome_options = options)\n",
    "    \n",
    "driver.get(\"https://www.iberdrola.es/blog/energia/cual-es-la-potencia-necesaria-para-los-electrodomesticos\")\n",
    "\n",
    "\n",
    "potencia_electro1 = driver.find_element_by_xpath(\"/html/body/div[1]/main/div[4]/div[1]/div[3]/ul[2]\")\n",
    "potencia_electro1 = potencia_electro1.text\n",
    "\n",
    "time.sleep(1)\n",
    "    \n",
    "driver.close()\n",
    "\n",
    "\n",
    "options = webdriver.ChromeOptions()\n",
    "    \n",
    "options.add_argument(\"--start-maximized\")\n",
    "    \n",
    "options.add_argument(\"--disable-extensions\")\n",
    "    \n",
    "driver_path = '/Users/mohamedelmarraki/ironhack/Final-Project/chromedriver'\n",
    "    \n",
    "driver = webdriver.Chrome(driver_path, chrome_options = options)\n",
    "    \n",
    "driver.get(\"http://www.bajatelapotencia.org/la-potencia-que-necesitas/\")\n",
    "\n",
    "\n",
    "WebDriverWait(driver, 5)\\\n",
    "        .until(EC.element_to_be_clickable((By.XPATH, \"/html/body/div[2]/section/article/table/tbody\")))\n",
    "\n",
    "\n",
    "potencia_electro2 = driver.find_element_by_xpath(\"/html/body/div[2]/section/article/table/tbody\")\n",
    "potencia_electro2 = potencia_electro2.text\n",
    "\n",
    "time.sleep(1)\n",
    "    \n",
    "driver.close()\n",
    "\n",
    "\n",
    "options = webdriver.ChromeOptions()\n",
    "    \n",
    "options.add_argument(\"--start-maximized\")\n",
    "    \n",
    "options.add_argument(\"--disable-extensions\")\n",
    "    \n",
    "driver_path = '/Users/mohamedelmarraki/ironhack/Final-Project/chromedriver'\n",
    "    \n",
    "driver = webdriver.Chrome(driver_path, chrome_options = options)\n",
    "    \n",
    "driver.get(\"https://www.electricaplicada.com/potencia-consumo-equipos-electricos/\")\n",
    "\n",
    "\n",
    "WebDriverWait(driver, 5)\\\n",
    "        .until(EC.element_to_be_clickable((By.XPATH, \"//*[@id='post-4887']/div/div\")))\n",
    "\n",
    "\n",
    "potencia_electro3 = driver.find_element_by_xpath(\"//*[@id='post-4887']/div/div\")\n",
    "potencia_electro3 = potencia_electro3.text\n",
    "\n",
    "time.sleep(1)\n",
    "    \n",
    "driver.close()"
   ]
  },
  {
   "cell_type": "code",
   "execution_count": 175,
   "id": "2060094b",
   "metadata": {
    "scrolled": false
   },
   "outputs": [],
   "source": [
    "potencia_electro1 = potencia_electro1.split(\"\\n\")\n",
    "potencia_electro2 = potencia_electro2.split(\"\\n\")\n",
    "potencia_electro2 = potencia_electro2[7:-1]\n",
    "import re\n",
    "x = re.split(\"esenciales.\", potencia_electro3, 1)\n",
    "x = x[1]\n",
    "x = x.split(\"\\n\")\n",
    "lista = []\n",
    "for i in x:\n",
    "    if re.findall(\"[1-9]\", i): # En este ejemplo le pedimos que nos devuelve todos los elementos que tengan un caracter del 1 al 8\n",
    "        lista.append(i)\n",
    "lista2 = []\n",
    "for i in lista:\n",
    "    if \"–\" not in i and \"*\" not in i and  \"/\" not in i and  \"(\" not in i and \"-\" not in i:\n",
    "        lista2.append(i)\n",
    "potencia_electro3 = lista2[:-2]\n",
    "potencia_electro3[0] = \"Licuadora 500W\"\n",
    "\n"
   ]
  },
  {
   "cell_type": "code",
   "execution_count": 176,
   "id": "99fc18ab",
   "metadata": {
    "scrolled": false
   },
   "outputs": [
    {
     "data": {
      "text/html": [
       "<div>\n",
       "<style scoped>\n",
       "    .dataframe tbody tr th:only-of-type {\n",
       "        vertical-align: middle;\n",
       "    }\n",
       "\n",
       "    .dataframe tbody tr th {\n",
       "        vertical-align: top;\n",
       "    }\n",
       "\n",
       "    .dataframe thead th {\n",
       "        text-align: right;\n",
       "    }\n",
       "</style>\n",
       "<table border=\"1\" class=\"dataframe\">\n",
       "  <thead>\n",
       "    <tr style=\"text-align: right;\">\n",
       "      <th></th>\n",
       "      <th>0</th>\n",
       "      <th>1</th>\n",
       "      <th>2</th>\n",
       "    </tr>\n",
       "  </thead>\n",
       "  <tbody>\n",
       "    <tr>\n",
       "      <th>0</th>\n",
       "      <td>Frigorífico</td>\n",
       "      <td>250</td>\n",
       "      <td>350</td>\n",
       "    </tr>\n",
       "    <tr>\n",
       "      <th>1</th>\n",
       "      <td>Lavadora</td>\n",
       "      <td>1500</td>\n",
       "      <td>2500</td>\n",
       "    </tr>\n",
       "    <tr>\n",
       "      <th>2</th>\n",
       "      <td>Lavavajillas</td>\n",
       "      <td>1500</td>\n",
       "      <td>2500</td>\n",
       "    </tr>\n",
       "    <tr>\n",
       "      <th>3</th>\n",
       "      <td>Televisión</td>\n",
       "      <td>200</td>\n",
       "      <td>400</td>\n",
       "    </tr>\n",
       "    <tr>\n",
       "      <th>4</th>\n",
       "      <td>Calefacción</td>\n",
       "      <td>1000</td>\n",
       "      <td>3000</td>\n",
       "    </tr>\n",
       "    <tr>\n",
       "      <th>5</th>\n",
       "      <td>Aire acondicionado</td>\n",
       "      <td>1000</td>\n",
       "      <td>2000</td>\n",
       "    </tr>\n",
       "    <tr>\n",
       "      <th>6</th>\n",
       "      <td>Microondas</td>\n",
       "      <td>100</td>\n",
       "      <td>1500</td>\n",
       "    </tr>\n",
       "    <tr>\n",
       "      <th>7</th>\n",
       "      <td>Vitrocerámica</td>\n",
       "      <td>1000</td>\n",
       "      <td>2000</td>\n",
       "    </tr>\n",
       "    <tr>\n",
       "      <th>8</th>\n",
       "      <td>Horno</td>\n",
       "      <td>1000</td>\n",
       "      <td>2500</td>\n",
       "    </tr>\n",
       "    <tr>\n",
       "      <th>9</th>\n",
       "      <td>Aspiradora</td>\n",
       "      <td>1000</td>\n",
       "      <td>1500</td>\n",
       "    </tr>\n",
       "  </tbody>\n",
       "</table>\n",
       "</div>"
      ],
      "text/plain": [
       "                    0     1     2\n",
       "0         Frigorífico   250   350\n",
       "1            Lavadora  1500  2500\n",
       "2        Lavavajillas  1500  2500\n",
       "3          Televisión   200   400\n",
       "4         Calefacción  1000  3000\n",
       "5  Aire acondicionado  1000  2000\n",
       "6          Microondas   100  1500\n",
       "7       Vitrocerámica  1000  2000\n",
       "8               Horno  1000  2500\n",
       "9          Aspiradora  1000  1500"
      ]
     },
     "execution_count": 176,
     "metadata": {},
     "output_type": "execute_result"
    }
   ],
   "source": [
    "potencia_electro1\n",
    "potencia_electro1_list1 = []\n",
    "for i in potencia_electro1:\n",
    "    i = i.replace(\"-\", \"\")\n",
    "    i = i.replace(\":\", \"\")\n",
    "    i = i.replace(\".\", \"\")\n",
    "    i = i.replace(\"  \", \" \")\n",
    "    potencia_electro1_list1.append(re.split('\\s|(?<!\\d)[,.](?!\\d)', i))\n",
    "potencia_electro1_list2 = []\n",
    "for i in potencia_electro1_list1:\n",
    "    if i[0] == 'Aire':\n",
    "        i[0] = 'Aire acondicionado'\n",
    "        del i[1]\n",
    "    potencia_electro1_list2.append(i)\n",
    "   \n",
    "import pandas as pd\n",
    "df = pd.DataFrame(potencia_electro1_list2)\n",
    "df.drop([3], axis=1, inplace=True)\n",
    "df"
   ]
  },
  {
   "cell_type": "code",
   "execution_count": 177,
   "id": "336f1aa3",
   "metadata": {},
   "outputs": [],
   "source": [
    "potencia2 = []\n",
    "for i in potencia_electro2:\n",
    "    i = i.split(\"(\")\n",
    "    potencia2.append(i)\n",
    "potencia2a = []\n",
    "for i in potencia2:\n",
    "    potencia2a.append(re.split('\\s|(?<!\\d)[,.](?!\\d)', i[0]))\n",
    "potencia2b = []\n",
    "for i in potencia2a:\n",
    "    if i[0] == 'Aire':\n",
    "        i[0] = 'Aire acondicionado'\n",
    "        del i[1]\n",
    "    elif i[0] == \"Calefacción\":\n",
    "        i[0] = 'Calefacción eléctrica'\n",
    "        del i[1]\n",
    "    potencia2b.append(i)\n",
    "potencia2b\n",
    "import pandas as pd\n",
    "df1 = pd.DataFrame(potencia2b)\n",
    "df1.drop([2, 5], axis=1, inplace=True)\n",
    "df1.rename(columns={3:2, 4:3}, inplace=True)\n",
    "df1.drop([3], axis=1, inplace=True)"
   ]
  },
  {
   "cell_type": "code",
   "execution_count": 178,
   "id": "37f6c32f",
   "metadata": {
    "scrolled": true
   },
   "outputs": [
    {
     "data": {
      "text/html": [
       "<div>\n",
       "<style scoped>\n",
       "    .dataframe tbody tr th:only-of-type {\n",
       "        vertical-align: middle;\n",
       "    }\n",
       "\n",
       "    .dataframe tbody tr th {\n",
       "        vertical-align: top;\n",
       "    }\n",
       "\n",
       "    .dataframe thead th {\n",
       "        text-align: right;\n",
       "    }\n",
       "</style>\n",
       "<table border=\"1\" class=\"dataframe\">\n",
       "  <thead>\n",
       "    <tr style=\"text-align: right;\">\n",
       "      <th></th>\n",
       "      <th>0</th>\n",
       "      <th>3</th>\n",
       "    </tr>\n",
       "  </thead>\n",
       "  <tbody>\n",
       "    <tr>\n",
       "      <th>0</th>\n",
       "      <td>Frigorífico</td>\n",
       "      <td>300.0</td>\n",
       "    </tr>\n",
       "    <tr>\n",
       "      <th>1</th>\n",
       "      <td>Lavadora</td>\n",
       "      <td>2000.0</td>\n",
       "    </tr>\n",
       "    <tr>\n",
       "      <th>2</th>\n",
       "      <td>Lavavajillas</td>\n",
       "      <td>2000.0</td>\n",
       "    </tr>\n",
       "    <tr>\n",
       "      <th>3</th>\n",
       "      <td>Televisión</td>\n",
       "      <td>300.0</td>\n",
       "    </tr>\n",
       "    <tr>\n",
       "      <th>4</th>\n",
       "      <td>Calefacción</td>\n",
       "      <td>2000.0</td>\n",
       "    </tr>\n",
       "    <tr>\n",
       "      <th>6</th>\n",
       "      <td>Microondas</td>\n",
       "      <td>800.0</td>\n",
       "    </tr>\n",
       "    <tr>\n",
       "      <th>7</th>\n",
       "      <td>Vitrocerámica</td>\n",
       "      <td>1500.0</td>\n",
       "    </tr>\n",
       "    <tr>\n",
       "      <th>8</th>\n",
       "      <td>Horno</td>\n",
       "      <td>1750.0</td>\n",
       "    </tr>\n",
       "    <tr>\n",
       "      <th>9</th>\n",
       "      <td>Aspiradora</td>\n",
       "      <td>1250.0</td>\n",
       "    </tr>\n",
       "    <tr>\n",
       "      <th>0</th>\n",
       "      <td>Televisor</td>\n",
       "      <td>275.0</td>\n",
       "    </tr>\n",
       "    <tr>\n",
       "      <th>1</th>\n",
       "      <td>Aire acondicionado</td>\n",
       "      <td>1450.0</td>\n",
       "    </tr>\n",
       "    <tr>\n",
       "      <th>2</th>\n",
       "      <td>Calefacción eléctrica</td>\n",
       "      <td>1750.0</td>\n",
       "    </tr>\n",
       "  </tbody>\n",
       "</table>\n",
       "</div>"
      ],
      "text/plain": [
       "                       0       3\n",
       "0            Frigorífico   300.0\n",
       "1               Lavadora  2000.0\n",
       "2           Lavavajillas  2000.0\n",
       "3             Televisión   300.0\n",
       "4            Calefacción  2000.0\n",
       "6             Microondas   800.0\n",
       "7          Vitrocerámica  1500.0\n",
       "8                  Horno  1750.0\n",
       "9             Aspiradora  1250.0\n",
       "0              Televisor   275.0\n",
       "1     Aire acondicionado  1450.0\n",
       "2  Calefacción eléctrica  1750.0"
      ]
     },
     "execution_count": 178,
     "metadata": {},
     "output_type": "execute_result"
    }
   ],
   "source": [
    "df_conc = pd.concat([df, df1], axis=0)\n",
    "df_conc.drop([5],axis=0, inplace=True)\n",
    "df_conc[[1, 2]] = df_conc[[1, 2]].apply(pd.to_numeric)\n",
    "df_conc[3] = df_conc[[1, 2]].median(axis=1)\n",
    "df_conc.drop([1,2], axis=1, inplace=True)\n",
    "df_conc"
   ]
  },
  {
   "cell_type": "code",
   "execution_count": 205,
   "id": "d55d596b",
   "metadata": {},
   "outputs": [
    {
     "data": {
      "text/html": [
       "<div>\n",
       "<style scoped>\n",
       "    .dataframe tbody tr th:only-of-type {\n",
       "        vertical-align: middle;\n",
       "    }\n",
       "\n",
       "    .dataframe tbody tr th {\n",
       "        vertical-align: top;\n",
       "    }\n",
       "\n",
       "    .dataframe thead th {\n",
       "        text-align: right;\n",
       "    }\n",
       "</style>\n",
       "<table border=\"1\" class=\"dataframe\">\n",
       "  <thead>\n",
       "    <tr style=\"text-align: right;\">\n",
       "      <th></th>\n",
       "      <th>Electrodomesticos</th>\n",
       "      <th>Potencia</th>\n",
       "    </tr>\n",
       "  </thead>\n",
       "  <tbody>\n",
       "    <tr>\n",
       "      <th>0</th>\n",
       "      <td>Frigorífico</td>\n",
       "      <td>300.0</td>\n",
       "    </tr>\n",
       "    <tr>\n",
       "      <th>1</th>\n",
       "      <td>Lavadora</td>\n",
       "      <td>2000.0</td>\n",
       "    </tr>\n",
       "    <tr>\n",
       "      <th>2</th>\n",
       "      <td>Lavavajillas</td>\n",
       "      <td>2000.0</td>\n",
       "    </tr>\n",
       "    <tr>\n",
       "      <th>3</th>\n",
       "      <td>Televisión</td>\n",
       "      <td>300.0</td>\n",
       "    </tr>\n",
       "    <tr>\n",
       "      <th>4</th>\n",
       "      <td>Calefacción</td>\n",
       "      <td>2000.0</td>\n",
       "    </tr>\n",
       "    <tr>\n",
       "      <th>5</th>\n",
       "      <td>Microondas</td>\n",
       "      <td>800.0</td>\n",
       "    </tr>\n",
       "    <tr>\n",
       "      <th>6</th>\n",
       "      <td>Vitrocerámica</td>\n",
       "      <td>1500.0</td>\n",
       "    </tr>\n",
       "    <tr>\n",
       "      <th>7</th>\n",
       "      <td>Horno</td>\n",
       "      <td>1750.0</td>\n",
       "    </tr>\n",
       "    <tr>\n",
       "      <th>8</th>\n",
       "      <td>Aspiradora</td>\n",
       "      <td>1250.0</td>\n",
       "    </tr>\n",
       "    <tr>\n",
       "      <th>9</th>\n",
       "      <td>Televisor</td>\n",
       "      <td>275.0</td>\n",
       "    </tr>\n",
       "    <tr>\n",
       "      <th>10</th>\n",
       "      <td>Aire acondicionado</td>\n",
       "      <td>1450.0</td>\n",
       "    </tr>\n",
       "    <tr>\n",
       "      <th>11</th>\n",
       "      <td>Calefacción eléctrica</td>\n",
       "      <td>1750.0</td>\n",
       "    </tr>\n",
       "    <tr>\n",
       "      <th>12</th>\n",
       "      <td>Licuadora</td>\n",
       "      <td>500.0</td>\n",
       "    </tr>\n",
       "    <tr>\n",
       "      <th>13</th>\n",
       "      <td>Maquina de cafe</td>\n",
       "      <td>1000.0</td>\n",
       "    </tr>\n",
       "    <tr>\n",
       "      <th>14</th>\n",
       "      <td>Tostadora</td>\n",
       "      <td>850.0</td>\n",
       "    </tr>\n",
       "    <tr>\n",
       "      <th>15</th>\n",
       "      <td>Plancha</td>\n",
       "      <td>1200.0</td>\n",
       "    </tr>\n",
       "    <tr>\n",
       "      <th>16</th>\n",
       "      <td>Consola de videojuegos</td>\n",
       "      <td>150.0</td>\n",
       "    </tr>\n",
       "    <tr>\n",
       "      <th>17</th>\n",
       "      <td>Secador de pelo</td>\n",
       "      <td>1500.0</td>\n",
       "    </tr>\n",
       "  </tbody>\n",
       "</table>\n",
       "</div>"
      ],
      "text/plain": [
       "         Electrodomesticos  Potencia\n",
       "0              Frigorífico     300.0\n",
       "1                 Lavadora    2000.0\n",
       "2             Lavavajillas    2000.0\n",
       "3               Televisión     300.0\n",
       "4              Calefacción    2000.0\n",
       "5               Microondas     800.0\n",
       "6            Vitrocerámica    1500.0\n",
       "7                    Horno    1750.0\n",
       "8               Aspiradora    1250.0\n",
       "9                Televisor     275.0\n",
       "10      Aire acondicionado    1450.0\n",
       "11   Calefacción eléctrica    1750.0\n",
       "12               Licuadora     500.0\n",
       "13         Maquina de cafe    1000.0\n",
       "14               Tostadora     850.0\n",
       "15                 Plancha    1200.0\n",
       "16  Consola de videojuegos     150.0\n",
       "17         Secador de pelo    1500.0"
      ]
     },
     "execution_count": 205,
     "metadata": {},
     "output_type": "execute_result"
    }
   ],
   "source": [
    "lista3 = []\n",
    "for i in potencia_electro3:\n",
    "    lista3.append(list(i.rpartition(\" \")))\n",
    "    \n",
    "import pandas as pd\n",
    "df3 = pd.DataFrame(lista3)\n",
    "df3 = df3.iloc[[0, 2, 7, 18, 23, 42]]\n",
    "lista = []\n",
    "for i in df3[2]:\n",
    "    lista.append(i.replace(\"W\", \"\"))\n",
    "df3[3] = lista\n",
    "df3.drop([1, 2], axis=1, inplace=True)\n",
    "df_conc2 = pd.concat([df_conc, df3], axis=0)\n",
    "df_conc2.reset_index(inplace=True)\n",
    "df_conc2.drop(\"index\", axis=1, inplace=True)\n",
    "df_conc2 = df_conc2.rename(columns={0: 'Electrodomesticos', 3: 'Potencia'})\n",
    "df_conc2[\"Potencia\"] = df_conc2[\"Potencia\"].apply(pd.to_numeric)\n",
    "df_conc2"
   ]
  },
  {
   "cell_type": "code",
   "execution_count": 210,
   "id": "4bf7512a",
   "metadata": {},
   "outputs": [
    {
     "data": {
      "text/plain": [
       "{'Frigorífico': 300.0,\n",
       " 'Lavadora': 2000.0,\n",
       " 'Lavavajillas': 2000.0,\n",
       " 'Televisión': 300.0,\n",
       " 'Calefacción': 2000.0,\n",
       " 'Microondas': 800.0,\n",
       " 'Vitrocerámica': 1500.0,\n",
       " 'Horno': 1750.0,\n",
       " 'Aspiradora': 1250.0,\n",
       " 'Televisor': 275.0,\n",
       " 'Aire acondicionado': 1450.0,\n",
       " 'Calefacción eléctrica': 1750.0,\n",
       " 'Licuadora': 500.0,\n",
       " 'Maquina de cafe': 1000.0,\n",
       " 'Tostadora': 850.0,\n",
       " 'Plancha': 1200.0,\n",
       " 'Consola de videojuegos': 150.0,\n",
       " 'Secador de pelo': 1500.0}"
      ]
     },
     "execution_count": 210,
     "metadata": {},
     "output_type": "execute_result"
    }
   ],
   "source": [
    "pot_electrodomesticos = {k: v for k, v in zip(list(df_conc2[\"Electrodomesticos\"]), list(df_conc2[\"Potencia\"]))}\n",
    "pot_electrodomesticos"
   ]
  },
  {
   "cell_type": "code",
   "execution_count": null,
   "id": "2b9a8ff6",
   "metadata": {},
   "outputs": [],
   "source": []
  },
  {
   "cell_type": "code",
   "execution_count": null,
   "id": "e03d4950",
   "metadata": {},
   "outputs": [],
   "source": []
  },
  {
   "cell_type": "code",
   "execution_count": null,
   "id": "d9b94bcc",
   "metadata": {},
   "outputs": [],
   "source": []
  },
  {
   "cell_type": "code",
   "execution_count": null,
   "id": "b2a2beef",
   "metadata": {},
   "outputs": [],
   "source": []
  },
  {
   "cell_type": "code",
   "execution_count": null,
   "id": "c6054850",
   "metadata": {},
   "outputs": [],
   "source": []
  },
  {
   "cell_type": "code",
   "execution_count": null,
   "id": "fd179527",
   "metadata": {},
   "outputs": [],
   "source": []
  },
  {
   "cell_type": "code",
   "execution_count": null,
   "id": "71a4a817",
   "metadata": {},
   "outputs": [],
   "source": []
  },
  {
   "cell_type": "code",
   "execution_count": null,
   "id": "49348e0b",
   "metadata": {},
   "outputs": [],
   "source": []
  },
  {
   "cell_type": "code",
   "execution_count": null,
   "id": "1e34e356",
   "metadata": {},
   "outputs": [],
   "source": []
  },
  {
   "cell_type": "code",
   "execution_count": null,
   "id": "cdb06b8d",
   "metadata": {},
   "outputs": [],
   "source": []
  },
  {
   "cell_type": "code",
   "execution_count": null,
   "id": "7e1ad8b6",
   "metadata": {},
   "outputs": [],
   "source": []
  },
  {
   "cell_type": "code",
   "execution_count": null,
   "id": "871d4506",
   "metadata": {},
   "outputs": [],
   "source": []
  },
  {
   "cell_type": "code",
   "execution_count": null,
   "id": "95f0f513",
   "metadata": {},
   "outputs": [],
   "source": []
  },
  {
   "cell_type": "code",
   "execution_count": null,
   "id": "a670d016",
   "metadata": {},
   "outputs": [],
   "source": []
  },
  {
   "cell_type": "code",
   "execution_count": null,
   "id": "3e71ea5f",
   "metadata": {},
   "outputs": [],
   "source": []
  },
  {
   "cell_type": "code",
   "execution_count": null,
   "id": "b0e3bf27",
   "metadata": {},
   "outputs": [],
   "source": []
  },
  {
   "cell_type": "code",
   "execution_count": null,
   "id": "3bc189d2",
   "metadata": {},
   "outputs": [],
   "source": []
  },
  {
   "cell_type": "code",
   "execution_count": null,
   "id": "ecc45e7a",
   "metadata": {},
   "outputs": [],
   "source": []
  },
  {
   "cell_type": "code",
   "execution_count": null,
   "id": "eca2dc38",
   "metadata": {},
   "outputs": [],
   "source": []
  },
  {
   "cell_type": "code",
   "execution_count": null,
   "id": "21220725",
   "metadata": {},
   "outputs": [],
   "source": []
  },
  {
   "cell_type": "code",
   "execution_count": null,
   "id": "d2acf68f",
   "metadata": {},
   "outputs": [],
   "source": []
  }
 ],
 "metadata": {
  "kernelspec": {
   "display_name": "Python [conda env:Project-Final]",
   "language": "python",
   "name": "conda-env-Project-Final-py"
  },
  "language_info": {
   "codemirror_mode": {
    "name": "ipython",
    "version": 3
   },
   "file_extension": ".py",
   "mimetype": "text/x-python",
   "name": "python",
   "nbconvert_exporter": "python",
   "pygments_lexer": "ipython3",
   "version": "3.7.12"
  }
 },
 "nbformat": 4,
 "nbformat_minor": 5
}
