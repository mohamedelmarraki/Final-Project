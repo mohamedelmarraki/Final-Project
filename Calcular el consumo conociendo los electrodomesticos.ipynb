{
 "cells": [
  {
   "cell_type": "code",
   "execution_count": 1,
   "id": "b084cabb",
   "metadata": {},
   "outputs": [],
   "source": [
    "import pandas\n",
    "\n",
    "import numpy as np # importar la librería numpy\n",
    "\n",
    "import requests # importar la librería requests\n",
    "\n",
    "from selenium import webdriver # Habrá que descargar el webdriver de chrome para realizar las distintas operaciones\n",
    "\n",
    "from selenium.webdriver.support.ui import WebDriverWait # Cuando cargamos una página web a veces el HTML tarda un poco en cargarse sugún nuestra velocidad de conexión pues hasta ciertos elementos no carguen tendremos que esperar\n",
    "\n",
    "from selenium.webdriver.support import expected_conditions as EC\n",
    "\n",
    "from selenium.webdriver.common.by import By\n",
    "\n",
    "from selenium.webdriver.support.ui import Select\n",
    "\n",
    "from selenium.webdriver.common.keys import Keys\n",
    "\n",
    "import time\n",
    "\n",
    "import os\n",
    "\n",
    "from geopy.geocoders import Nominatim\n",
    "\n",
    "import time\n",
    "\n",
    "import re\n",
    "\n",
    "import math"
   ]
  },
  {
   "cell_type": "code",
   "execution_count": 2,
   "id": "f5550bd2",
   "metadata": {},
   "outputs": [],
   "source": [
    "def pot_electro():\n",
    "    options = webdriver.ChromeOptions()\n",
    "    \n",
    "    options.add_argument(\"--start-maximized\")\n",
    "    \n",
    "    options.add_argument(\"--disable-extensions\")\n",
    "    \n",
    "    driver_path = '/Users/mohamedelmarraki/ironhack/Final-Project/chromedriver'\n",
    "    \n",
    "    driver = webdriver.Chrome(driver_path, chrome_options = options)\n",
    "    \n",
    "    driver.get(\"https://www.iberdrola.es/blog/energia/cual-es-la-potencia-necesaria-para-los-electrodomesticos\")\n",
    "\n",
    "\n",
    "    potencia_electro1 = driver.find_element_by_xpath(\"/html/body/div[1]/main/div[4]/div[1]/div[3]/ul[2]\")\n",
    "    potencia_electro1 = potencia_electro1.text\n",
    "\n",
    "    time.sleep(1)\n",
    "    \n",
    "    driver.close()\n",
    "\n",
    "\n",
    "    options = webdriver.ChromeOptions()\n",
    "    \n",
    "    options.add_argument(\"--start-maximized\")\n",
    "    \n",
    "    options.add_argument(\"--disable-extensions\")\n",
    "    \n",
    "    driver_path = '/Users/mohamedelmarraki/ironhack/Final-Project/chromedriver'\n",
    "    \n",
    "    driver = webdriver.Chrome(driver_path, chrome_options = options)\n",
    "    \n",
    "    driver.get(\"http://www.bajatelapotencia.org/la-potencia-que-necesitas/\")\n",
    "\n",
    "\n",
    "    WebDriverWait(driver, 5)\\\n",
    "            .until(EC.element_to_be_clickable((By.XPATH, \"/html/body/div[2]/section/article/table/tbody\")))\n",
    "\n",
    "\n",
    "    potencia_electro2 = driver.find_element_by_xpath(\"/html/body/div[2]/section/article/table/tbody\")\n",
    "    potencia_electro2 = potencia_electro2.text\n",
    "\n",
    "    time.sleep(1)\n",
    "    \n",
    "    driver.close()\n",
    "\n",
    "\n",
    "    options = webdriver.ChromeOptions()\n",
    "    \n",
    "    options.add_argument(\"--start-maximized\")\n",
    "    \n",
    "    options.add_argument(\"--disable-extensions\")\n",
    "    \n",
    "    driver_path = '/Users/mohamedelmarraki/ironhack/Final-Project/chromedriver'\n",
    "    \n",
    "    driver = webdriver.Chrome(driver_path, chrome_options = options)\n",
    "    \n",
    "    driver.get(\"https://www.electricaplicada.com/potencia-consumo-equipos-electricos/\")\n",
    "\n",
    "\n",
    "    WebDriverWait(driver, 5)\\\n",
    "            .until(EC.element_to_be_clickable((By.XPATH, \"//*[@id='post-4887']/div/div\")))\n",
    "\n",
    "\n",
    "    potencia_electro3 = driver.find_element_by_xpath(\"//*[@id='post-4887']/div/div\")\n",
    "    potencia_electro3 = potencia_electro3.text\n",
    "\n",
    "    time.sleep(1)\n",
    "    \n",
    "    driver.close()\n",
    "    \n",
    "    potencia_electro1 = potencia_electro1.split(\"\\n\")\n",
    "    potencia_electro2 = potencia_electro2.split(\"\\n\")\n",
    "    potencia_electro2 = potencia_electro2[7:-1]\n",
    "\n",
    "    x = re.split(\"esenciales.\", potencia_electro3, 1)\n",
    "    x = x[1]\n",
    "    x = x.split(\"\\n\")\n",
    "    lista = []\n",
    "    for i in x:\n",
    "        if re.findall(\"[1-9]\", i):\n",
    "            lista.append(i)\n",
    "    lista2 = []\n",
    "    for i in lista:\n",
    "        if \"–\" not in i and \"*\" not in i and  \"/\" not in i and  \"(\" not in i and \"-\" not in i:\n",
    "            lista2.append(i)\n",
    "    potencia_electro3 = lista2[:-2]\n",
    "    potencia_electro3[0] = \"Licuadora 500W\"\n",
    "    potencia_electro1_list1 = []\n",
    "    for i in potencia_electro1:\n",
    "        i = i.replace(\"-\", \"\")\n",
    "        i = i.replace(\":\", \"\")\n",
    "        i = i.replace(\".\", \"\")\n",
    "        i = i.replace(\"  \", \" \")\n",
    "        potencia_electro1_list1.append(re.split('\\s|(?<!\\d)[,.](?!\\d)', i))\n",
    "    potencia_electro1_list2 = []\n",
    "    for i in potencia_electro1_list1:\n",
    "        if i[0] == 'Aire':\n",
    "            i[0] = 'Aire acondicionado'\n",
    "            del i[1]\n",
    "        potencia_electro1_list2.append(i)\n",
    "   \n",
    "    df = pandas.DataFrame(potencia_electro1_list2)\n",
    "    df.drop([3], axis=1, inplace=True)\n",
    "    \n",
    "    potencia2 = []\n",
    "    for i in potencia_electro2:\n",
    "        i = i.split(\"(\")\n",
    "        potencia2.append(i)\n",
    "    potencia2a = []\n",
    "    for i in potencia2:\n",
    "        potencia2a.append(re.split('\\s|(?<!\\d)[,.](?!\\d)', i[0]))\n",
    "    potencia2b = []\n",
    "    for i in potencia2a:\n",
    "        if i[0] == 'Aire':\n",
    "            i[0] = 'Aire acondicionado'\n",
    "            del i[1]\n",
    "        elif i[0] == \"Calefacción\":\n",
    "            i[0] = 'Calefacción eléctrica'\n",
    "            del i[1]\n",
    "        potencia2b.append(i)\n",
    "    \n",
    "    \n",
    "    df1 = pandas.DataFrame(potencia2b)\n",
    "    df1.drop([2, 5], axis=1, inplace=True)\n",
    "    df1.rename(columns={3:2, 4:3}, inplace=True)\n",
    "    df1.drop([3], axis=1, inplace=True) \n",
    "    \n",
    "    \n",
    "    df_conc = pandas.concat([df, df1], axis=0)\n",
    "    df_conc.drop([5],axis=0, inplace=True)\n",
    "    df_conc[[1, 2]] = df_conc[[1, 2]].apply(pandas.to_numeric)\n",
    "    df_conc[3] = df_conc[[1, 2]].median(axis=1)\n",
    "    df_conc.drop([1,2], axis=1, inplace=True)\n",
    "    \n",
    "    \n",
    "    lista3 = []\n",
    "    for i in potencia_electro3:\n",
    "        lista3.append(list(i.rpartition(\" \")))\n",
    "    \n",
    "    df3 = pandas.DataFrame(lista3)\n",
    "    df3 = df3.iloc[[0, 2, 7, 18, 23, 42]]\n",
    "    lista4 = []\n",
    "    for i in df3[2]:\n",
    "        lista4.append(i.replace(\"W\", \"\"))\n",
    "    df3[3] = lista4\n",
    "    df3.drop([1, 2], axis=1, inplace=True)\n",
    "    df_conc2 = pandas.concat([df_conc, df3], axis=0)\n",
    "    df_conc2.reset_index(inplace=True)\n",
    "    df_conc2.drop(\"index\", axis=1, inplace=True)\n",
    "    df_conc2 = df_conc2.rename(columns={0: 'Electrodomesticos', 3: 'Potencia'})\n",
    "    df_conc2[\"Potencia\"] = df_conc2[\"Potencia\"].apply(pandas.to_numeric)\n",
    "    \n",
    "    \n",
    "    pot_electrodomesticos = {k: v for k, v in zip(list(df_conc2[\"Electrodomesticos\"]), list(df_conc2[\"Potencia\"]))}\n",
    "    return pot_electrodomesticos\n",
    "    \n",
    "    \n",
    "    \n",
    "    \n",
    "    "
   ]
  },
  {
   "cell_type": "code",
   "execution_count": 3,
   "id": "4bf06681",
   "metadata": {},
   "outputs": [
    {
     "name": "stderr",
     "output_type": "stream",
     "text": [
      "/Users/mohamedelmarraki/miniconda3/envs/Project-Final/lib/python3.7/site-packages/ipykernel_launcher.py:10: DeprecationWarning: executable_path has been deprecated, please pass in a Service object\n",
      "  # Remove the CWD from sys.path while we load stuff.\n",
      "/Users/mohamedelmarraki/miniconda3/envs/Project-Final/lib/python3.7/site-packages/ipykernel_launcher.py:10: DeprecationWarning: use options instead of chrome_options\n",
      "  # Remove the CWD from sys.path while we load stuff.\n",
      "/Users/mohamedelmarraki/miniconda3/envs/Project-Final/lib/python3.7/site-packages/ipykernel_launcher.py:15: DeprecationWarning: find_element_by_xpath is deprecated. Please use find_element(by=By.XPATH, value=xpath) instead\n",
      "  from ipykernel import kernelapp as app\n",
      "/Users/mohamedelmarraki/miniconda3/envs/Project-Final/lib/python3.7/site-packages/ipykernel_launcher.py:31: DeprecationWarning: executable_path has been deprecated, please pass in a Service object\n",
      "/Users/mohamedelmarraki/miniconda3/envs/Project-Final/lib/python3.7/site-packages/ipykernel_launcher.py:31: DeprecationWarning: use options instead of chrome_options\n",
      "/Users/mohamedelmarraki/miniconda3/envs/Project-Final/lib/python3.7/site-packages/ipykernel_launcher.py:40: DeprecationWarning: find_element_by_xpath is deprecated. Please use find_element(by=By.XPATH, value=xpath) instead\n",
      "/Users/mohamedelmarraki/miniconda3/envs/Project-Final/lib/python3.7/site-packages/ipykernel_launcher.py:56: DeprecationWarning: executable_path has been deprecated, please pass in a Service object\n",
      "/Users/mohamedelmarraki/miniconda3/envs/Project-Final/lib/python3.7/site-packages/ipykernel_launcher.py:56: DeprecationWarning: use options instead of chrome_options\n",
      "/Users/mohamedelmarraki/miniconda3/envs/Project-Final/lib/python3.7/site-packages/ipykernel_launcher.py:65: DeprecationWarning: find_element_by_xpath is deprecated. Please use find_element(by=By.XPATH, value=xpath) instead\n"
     ]
    }
   ],
   "source": [
    "pot_electrodomesticos = pot_electro()"
   ]
  },
  {
   "cell_type": "code",
   "execution_count": 4,
   "id": "b3311956",
   "metadata": {},
   "outputs": [],
   "source": [
    "electrodomesticos = list(pot_electrodomesticos.keys())"
   ]
  },
  {
   "cell_type": "code",
   "execution_count": 5,
   "id": "0baf306c",
   "metadata": {},
   "outputs": [],
   "source": [
    "def electro_usuario():\n",
    "    print(\"Previsión de Energía consumida\")\n",
    "    print(\"Si quiere salir del programa introduce la palabra 'salir'\")\n",
    "    print(\"\\n\")\n",
    "    horas_func = {}\n",
    "    unidades = {}\n",
    "    dias_func = {}\n",
    "    for i in range(len(electrodomesticos)):\n",
    "        nueva = input(f\"¿ Tiene usted {electrodomesticos[i]} en su casa (Sí/No) ? \")\n",
    "        if nueva.lower() in [\"si\".lower(), \"sí\".lower()]:\n",
    "            unidad = input(f'¿ Cúantas unidades de {electrodomesticos[i]} tiene usted en su casa ? ')\n",
    "            dias = input(f\"¿ Introduce cuantos días a la semana se va utilizar el(a) {electrodomesticos[i]} en su casa ?\")\n",
    "            horas = input(f\"Introduce un estimación aproximada de las horas de funcionamiento que va a tener el(a) {electrodomesticos[i]} en los días que esté funcionando : \")\n",
    "            horas_func[electrodomesticos[i]]=horas\n",
    "            unidades[electrodomesticos[i]] = unidad\n",
    "            dias_func[electrodomesticos[i]] = dias       \n",
    "        elif nueva.lower() == \"salir\":\n",
    "            break\n",
    "        elif dias.lower() == \"salir\":\n",
    "            break\n",
    "        elif horas.lower() == \"salir\":\n",
    "            break\n",
    "        elif unidad.lower() == \"salir\":\n",
    "            break\n",
    "    return horas_func, unidades, dias_func"
   ]
  },
  {
   "cell_type": "code",
   "execution_count": 6,
   "id": "4fd69aec",
   "metadata": {},
   "outputs": [
    {
     "name": "stdout",
     "output_type": "stream",
     "text": [
      "Previsión de Energía consumida\n",
      "Si quiere salir del programa introduce la palabra 'salir'\n",
      "\n",
      "\n",
      "¿ Tiene usted Frigorífico en su casa (Sí/No) ? si\n",
      "¿ Cúantas unidades de Frigorífico tiene usted en su casa ? 1\n",
      "¿ Introduce cuantos días a la semana se va utilizar el(a) Frigorífico en su casa ?7\n",
      "Introduce un estimación aproximada de las horas de funcionamiento que va a tener el(a) Frigorífico en los días que esté funcionando : 24\n",
      "¿ Tiene usted Lavadora en su casa (Sí/No) ? si\n",
      "¿ Cúantas unidades de Lavadora tiene usted en su casa ? 1\n",
      "¿ Introduce cuantos días a la semana se va utilizar el(a) Lavadora en su casa ?3\n",
      "Introduce un estimación aproximada de las horas de funcionamiento que va a tener el(a) Lavadora en los días que esté funcionando : 3\n",
      "¿ Tiene usted Lavavajillas en su casa (Sí/No) ? si\n",
      "¿ Cúantas unidades de Lavavajillas tiene usted en su casa ? 1\n",
      "¿ Introduce cuantos días a la semana se va utilizar el(a) Lavavajillas en su casa ?4\n",
      "Introduce un estimación aproximada de las horas de funcionamiento que va a tener el(a) Lavavajillas en los días que esté funcionando : 2\n",
      "¿ Tiene usted Televisión en su casa (Sí/No) ? si\n",
      "¿ Cúantas unidades de Televisión tiene usted en su casa ? 2\n",
      "¿ Introduce cuantos días a la semana se va utilizar el(a) Televisión en su casa ?5\n",
      "Introduce un estimación aproximada de las horas de funcionamiento que va a tener el(a) Televisión en los días que esté funcionando : 4\n",
      "¿ Tiene usted Calefacción en su casa (Sí/No) ? si\n",
      "¿ Cúantas unidades de Calefacción tiene usted en su casa ? 3\n",
      "¿ Introduce cuantos días a la semana se va utilizar el(a) Calefacción en su casa ?7\n",
      "Introduce un estimación aproximada de las horas de funcionamiento que va a tener el(a) Calefacción en los días que esté funcionando : 12\n",
      "¿ Tiene usted Microondas en su casa (Sí/No) ? \n",
      "¿ Tiene usted Vitrocerámica en su casa (Sí/No) ? \n",
      "¿ Tiene usted Horno en su casa (Sí/No) ? \n",
      "¿ Tiene usted Aspiradora en su casa (Sí/No) ? \n",
      "¿ Tiene usted Televisor en su casa (Sí/No) ? \n",
      "¿ Tiene usted Aire acondicionado en su casa (Sí/No) ? \n",
      "¿ Tiene usted Calefacción eléctrica en su casa (Sí/No) ? \n",
      "¿ Tiene usted Licuadora en su casa (Sí/No) ? \n",
      "¿ Tiene usted Maquina de cafe en su casa (Sí/No) ? \n",
      "¿ Tiene usted Tostadora en su casa (Sí/No) ? \n",
      "¿ Tiene usted Plancha en su casa (Sí/No) ? \n",
      "¿ Tiene usted Consola de videojuegos en su casa (Sí/No) ? \n",
      "¿ Tiene usted Secador de pelo en su casa (Sí/No) ? \n"
     ]
    }
   ],
   "source": [
    "diccionarios = electro_usuario()\n",
    "horas_func = diccionarios[0]\n",
    "unidades = diccionarios[1]\n",
    "dias_func = diccionarios[2]"
   ]
  },
  {
   "cell_type": "code",
   "execution_count": 11,
   "id": "c684a8c9",
   "metadata": {},
   "outputs": [
    {
     "name": "stdout",
     "output_type": "stream",
     "text": [
      "7200.0\n",
      "2571.4285714285716\n",
      "2285.714285714286\n",
      "1714.2857142857142\n",
      "72000.0\n",
      "la instalación necesitará una Memoria Técnica de Diseño (MTD) de un Técnico electricista.\n"
     ]
    },
    {
     "data": {
      "text/plain": [
       "22"
      ]
     },
     "execution_count": 11,
     "metadata": {},
     "output_type": "execute_result"
    }
   ],
   "source": [
    "import numpy\n",
    "import pandas as pd\n",
    "lista = []\n",
    "for i in horas_func.keys():\n",
    "    lista.append(i)\n",
    "\n",
    "\n",
    "\n",
    "potencia = dict(filter(lambda x: x[0] in lista, pot_electrodomesticos.items()))\n",
    "\n",
    "\n",
    "\n",
    "from itertools import chain\n",
    "from collections import defaultdict\n",
    "\n",
    "dict3 = defaultdict(list)\n",
    "for k, v in chain(horas_func.items(), unidades.items(), potencia.items(), dias_func.items()):\n",
    "    dict3[k].append(int(v))\n",
    "dic_final = dict(dict3)\n",
    "\n",
    "\n",
    "\n",
    "\n",
    "dic_final2 = {}\n",
    "lis = []\n",
    "for i, y in dic_final.items():\n",
    "    dic_final2[i] = numpy.prod(y)\n",
    "for i in dic_final2.values():\n",
    "    a = (i/7)\n",
    "    lis.append(a)\n",
    "    print(a)\n",
    "\n",
    "\n",
    "    \n",
    "consumo_teorico = sum(lis)\n",
    "\n",
    "\n",
    "\n",
    "\n",
    "\n",
    "consumo_diario= consumo_teorico/(0.95*0.95*0.9)\n",
    "\n",
    "\n",
    "\n",
    "\n",
    "\n",
    "suma_de_potencia = 0\n",
    "for i in potencia.values():\n",
    "    suma_de_potencia  += i\n",
    "Potencia_Prevista = suma_de_potencia*0.75\n",
    "if Potencia_Prevista > 10000:\n",
    "    print(\"la instalación necesitará Proyecto de un Ingeniero\")\n",
    "else:\n",
    "    print(\"la instalación necesitará una Memoria Técnica de Diseño (MTD) de un Técnico electricista.\")\n",
    "    \n",
    "\n",
    "    \n",
    "if Potencia_Prevista < 1500:\n",
    "    tensión = 12\n",
    "elif 1500 <= Potencia_Prevista < 5000:\n",
    "    tensión = 48\n",
    "elif Potencia_Prevista > 5000:\n",
    "    tensión = 120\n",
    "    \n",
    "    \n",
    "    \n",
    "df = pd.read_csv(\"../../../mohamedelmarraki/Downloads/Monthlydata_40.400_-3.674_SA2_2020_2020.csv\", sep=\"\\t\", header=[4]).head(12)\n",
    "df = df.loc[:, [\"year\", \"month\",\"H(i_opt)_m\", \"T2m\"]]\n",
    "irrandiacia_zona = ((df[\"H(i_opt)_m\"].min()) * 1000)/31\n",
    "HSP = irrandiacia_zona / 1000\n",
    "energía_producirá_día = HSP * 450 * 0.9\n",
    "Nº_paneles = consumo_diario / energía_producirá_día\n",
    "round(Nº_paneles)"
   ]
  },
  {
   "cell_type": "code",
   "execution_count": null,
   "id": "73ae31ae",
   "metadata": {},
   "outputs": [],
   "source": []
  },
  {
   "cell_type": "code",
   "execution_count": null,
   "id": "fd480555",
   "metadata": {},
   "outputs": [],
   "source": []
  },
  {
   "cell_type": "code",
   "execution_count": null,
   "id": "6564e9fe",
   "metadata": {},
   "outputs": [],
   "source": []
  },
  {
   "cell_type": "code",
   "execution_count": null,
   "id": "fb6a7927",
   "metadata": {},
   "outputs": [],
   "source": []
  },
  {
   "cell_type": "code",
   "execution_count": null,
   "id": "e67cb17b",
   "metadata": {},
   "outputs": [],
   "source": []
  },
  {
   "cell_type": "code",
   "execution_count": null,
   "id": "8e7137a2",
   "metadata": {},
   "outputs": [],
   "source": []
  },
  {
   "cell_type": "code",
   "execution_count": null,
   "id": "ba463e7a",
   "metadata": {},
   "outputs": [],
   "source": []
  },
  {
   "cell_type": "code",
   "execution_count": null,
   "id": "f25d6149",
   "metadata": {},
   "outputs": [],
   "source": []
  },
  {
   "cell_type": "code",
   "execution_count": null,
   "id": "f1a68c47",
   "metadata": {},
   "outputs": [],
   "source": []
  },
  {
   "cell_type": "code",
   "execution_count": null,
   "id": "733da44a",
   "metadata": {},
   "outputs": [],
   "source": []
  },
  {
   "cell_type": "code",
   "execution_count": null,
   "id": "566d6ea2",
   "metadata": {},
   "outputs": [],
   "source": []
  },
  {
   "cell_type": "code",
   "execution_count": null,
   "id": "5cbf07e1",
   "metadata": {},
   "outputs": [],
   "source": []
  },
  {
   "cell_type": "code",
   "execution_count": null,
   "id": "e064e785",
   "metadata": {},
   "outputs": [],
   "source": []
  },
  {
   "cell_type": "code",
   "execution_count": null,
   "id": "59cd090b",
   "metadata": {},
   "outputs": [],
   "source": []
  },
  {
   "cell_type": "code",
   "execution_count": null,
   "id": "3fbaab7d",
   "metadata": {},
   "outputs": [],
   "source": []
  },
  {
   "cell_type": "code",
   "execution_count": null,
   "id": "89bed300",
   "metadata": {},
   "outputs": [],
   "source": [
    "electrodomesticos = '''Aire Acondicionado\n",
    "Aspiradora\n",
    "Batidora\n",
    "Cafetera Eléctrica\n",
    "Campana Extractora\n",
    "Horno\n",
    "Computadoras de Escritorio\n",
    "Consola de Videojuegos\n",
    "Estufa\n",
    "Freidora\n",
    "Lavadora\n",
    "Lavavajillas\n",
    "Licuadora\n",
    "Microondas\n",
    "Vitrocerámica\n",
    "Plancha de Ropa\n",
    "Refrigerador\n",
    "Secador de Pelo\n",
    "Televisor\n",
    "Tostadora\n",
    "Lamparas'''\n",
    "electrodomesticos = electrodomesticos.split(\"\\n\")\n",
    "pot_electrodomesticos = {'Aire Acondicionado': 875,\n",
    " 'Aspiradora': 450,\n",
    " 'Batidora': 200,\n",
    " 'Cafetera Eléctrica': 800,\n",
    " 'Campana Extractora': 200,\n",
    " 'Cepillo eléctrico': 55,\n",
    " 'Computadoras de Escritorio': 220,\n",
    " 'Consola de Videojuegos': 90,\n",
    " 'Depiladora Eléctrica': 20,\n",
    " 'Equipos de Música': 80,\n",
    " 'Estufa': 2000,\n",
    " 'Freidora': 1100,\n",
    " 'Horno' : 1400,\n",
    " 'Hervidor Eléctrico de Agua': 1200,\n",
    " 'Lavadora': 1500,\n",
    " 'Lavavajillas': 1800,\n",
    " 'Licuadora': 1200,\n",
    " 'Microondas': 900,\n",
    " 'Plancha de Pelo': 2000,\n",
    " 'Plancha de Ropa': 1200,\n",
    " 'Refrigerador': 300,\n",
    " 'Sandwichera': 800,\n",
    " 'Secador de Pelo': 1900,\n",
    " 'Televisor': 300,\n",
    " 'Tostadora': 1000,\n",
    " 'Ventilador': 60,\n",
    " 'Lamparas' : 60 }"
   ]
  },
  {
   "cell_type": "code",
   "execution_count": null,
   "id": "4e6c4ed6",
   "metadata": {},
   "outputs": [],
   "source": [
    "print(\"Previsión de Energía consumida\")\n",
    "print(\"Si quiere salir del programa introduce la palabra 'salir'\")\n",
    "horas_func = {}\n",
    "unidades = {}\n",
    "dias_func = {}\n",
    "for i in range(len(electrodomesticos)):\n",
    "    nueva = input(f\"¿ Tiene usted {electrodomesticos[i]} en su casa (Sí/No) ? \")\n",
    "    if nueva.lower() in [\"si\".lower(), \"sí\".lower()]:\n",
    "        unidad = input(f'¿ Cúantas unidades de {electrodomesticos[i]} tiene usted en su casa ? ')\n",
    "        dias = input(f\"¿ Introduce cuantos días a la semana se va utilizar el(a) {electrodomesticos[i]} en su casa ?\")\n",
    "        horas = input(f\"Introduce un estimación aproximada de las horas de funcionamiento que va a tener el(a) {electrodomesticos[i]} en los días que esté funcionando : ()\")\n",
    "        horas_func[electrodomesticos[i]]=horas\n",
    "        unidades[electrodomesticos[i]] = unidad\n",
    "        dias_func[electrodomesticos[i]] = dias       \n",
    "    elif nueva.lower() == \"salir\":\n",
    "        break\n",
    "                     "
   ]
  },
  {
   "cell_type": "code",
   "execution_count": null,
   "id": "a0deee1e",
   "metadata": {},
   "outputs": [],
   "source": [
    "lista = []\n",
    "for i in horas_func.keys():\n",
    "    lista.append(i)\n",
    "\n",
    "\n",
    "\n",
    "potencia = dict(filter(lambda x: x[0] in lista, pot_electrodomesticos.items()))\n",
    "\n",
    "\n",
    "\n",
    "from itertools import chain\n",
    "from collections import defaultdict\n",
    "\n",
    "dict3 = defaultdict(list)\n",
    "for k, v in chain(horas_func.items(), unidades.items(), potencia.items(), dias_func.items()):\n",
    "    dict3[k].append(int(v))\n",
    "dic_final = dict(dict3)\n",
    "\n",
    "\n",
    "\n",
    "\n",
    "dic_final2 = {}\n",
    "lis = []\n",
    "for i, y in dic_final.items():\n",
    "    dic_final2[i] = numpy.prod(y)\n",
    "for i in dic_final2.values():\n",
    "    a = (i/7)\n",
    "    lis.append(a)\n",
    "    print(a)\n",
    "\n",
    "\n",
    "    \n",
    "consumo_teorico = sum(lis)\n",
    "\n",
    "\n",
    "\n",
    "\n",
    "\n",
    "consumo_diario= consumo_teorico/(0.95*0.95*0.9)\n",
    "\n",
    "\n",
    "\n",
    "\n",
    "\n",
    "suma_de_potencia = 0\n",
    "for i in potencia.values():\n",
    "    suma_de_potencia  += i\n",
    "Potencia_Prevista = suma_de_potencia*0.75\n",
    "if Potencia_Prevista > 10000:\n",
    "    print(\"la instalación necesitará Proyecto de un Ingeniero\")\n",
    "else:\n",
    "    print(\"la instalación necesitará una Memoria Técnica de Diseño (MTD) de un Técnico electricista.\")\n",
    "    \n",
    "\n",
    "    \n",
    "if Potencia_Prevista < 1500:\n",
    "    tensión = 12\n",
    "elif 1500 <= Potencia_Prevista < 5000:\n",
    "    tensión = 48\n",
    "elif Potencia_Prevista > 5000:\n",
    "    tensión = 120\n",
    "    \n",
    "    \n",
    "    \n",
    "df = pd.read_csv(\"../../../mohamedelmarraki/Downloads/Monthlydata_40.000_-3.000_SA2_2020_2020.csv\", sep=\"\\t\", header=[4]).head(12)\n",
    "df = df.loc[:, [\"year\", \"month\",\"H(i_opt)_m\", \"T2m\"]]\n",
    "irrandiacia_zona = ((df[\"H(i_opt)_m\"].min()) * 1000)/31\n",
    "HSP = irrandiacia_zona / 1000\n",
    "energía_producirá_día = HSP * 450 * 0.9\n",
    "Nº_paneles = 29999.084465549837 / energía_producirá_día\n",
    "round(Nº_paneles)"
   ]
  },
  {
   "cell_type": "code",
   "execution_count": null,
   "id": "78d07278",
   "metadata": {},
   "outputs": [],
   "source": [
    "lista = []\n",
    "for i in horas_func.keys():\n",
    "    lista.append(i)\n",
    "lista"
   ]
  },
  {
   "cell_type": "markdown",
   "id": "71fb3552",
   "metadata": {},
   "source": [
    "### los componentes de casa con su potencia"
   ]
  },
  {
   "cell_type": "code",
   "execution_count": null,
   "id": "91b29afa",
   "metadata": {},
   "outputs": [],
   "source": [
    "potencia = dict(filter(lambda x: x[0] in lista, pot_electrodomesticos.items()))\n",
    "potencia "
   ]
  },
  {
   "cell_type": "markdown",
   "id": "ee215e99",
   "metadata": {},
   "source": [
    "### los componentes de casa con sus días de funcionamiento"
   ]
  },
  {
   "cell_type": "code",
   "execution_count": null,
   "id": "b0b92755",
   "metadata": {
    "scrolled": false
   },
   "outputs": [],
   "source": [
    "dias_func"
   ]
  },
  {
   "cell_type": "markdown",
   "id": "63b8675d",
   "metadata": {},
   "source": [
    "### los componentes de casa con sus días de funcionamiento"
   ]
  },
  {
   "cell_type": "code",
   "execution_count": null,
   "id": "4fc12e17",
   "metadata": {},
   "outputs": [],
   "source": [
    "horas_func"
   ]
  },
  {
   "cell_type": "markdown",
   "id": "ba024253",
   "metadata": {},
   "source": [
    "### los componentes de casa con toda su información"
   ]
  },
  {
   "cell_type": "code",
   "execution_count": null,
   "id": "d9ca27b1",
   "metadata": {},
   "outputs": [],
   "source": [
    "from itertools import chain\n",
    "from collections import defaultdict\n",
    "\n",
    "dict3 = defaultdict(list)\n",
    "for k, v in chain(horas_func.items(), unidades.items(), potencia.items(), dias_func.items()):\n",
    "    dict3[k].append(int(v))\n",
    "dic_final = dict(dict3)\n",
    "dic_final"
   ]
  },
  {
   "cell_type": "markdown",
   "id": "4b5604b3",
   "metadata": {},
   "source": [
    "### los componentes de casa con su energía consumida"
   ]
  },
  {
   "cell_type": "code",
   "execution_count": null,
   "id": "a34da432",
   "metadata": {},
   "outputs": [],
   "source": [
    "dic_final2 = {}\n",
    "lis = []\n",
    "for i, y in dic_final.items():\n",
    "    dic_final2[i] = numpy.prod(y)\n",
    "for i in dic_final2.values():\n",
    "    a = (i/7)\n",
    "    lis.append(a)\n",
    "    print(a)"
   ]
  },
  {
   "cell_type": "markdown",
   "id": "f31cd4cb",
   "metadata": {},
   "source": [
    "### consumo teorico `Lmd`"
   ]
  },
  {
   "cell_type": "code",
   "execution_count": null,
   "id": "3b8c95ec",
   "metadata": {},
   "outputs": [],
   "source": [
    "consumo_teorico = sum(lis)\n",
    "consumo_teorico"
   ]
  },
  {
   "cell_type": "markdown",
   "id": "a5e88dbb",
   "metadata": {},
   "source": [
    "### Consumo Real"
   ]
  },
  {
   "cell_type": "code",
   "execution_count": null,
   "id": "50770ff2",
   "metadata": {},
   "outputs": [],
   "source": [
    "consumo_diario= consumo_teorico/(0.95*0.95*0.9)\n",
    "consumo_diario"
   ]
  },
  {
   "cell_type": "markdown",
   "id": "108226a2",
   "metadata": {},
   "source": [
    "### Previsión de Potencia por Receptores"
   ]
  },
  {
   "cell_type": "code",
   "execution_count": null,
   "id": "82cddae7",
   "metadata": {},
   "outputs": [],
   "source": [
    "suma_de_potencia = 0\n",
    "for i in potencia.values():\n",
    "    suma_de_potencia  += i\n",
    "Potencia_Prevista = suma_de_potencia*0.75\n",
    "if Potencia_Prevista > 10000:\n",
    "    print(\"la instalación necesitará Proyecto de un Ingeniero\")\n",
    "else:\n",
    "    print(\"la instalación necesitará una Memoria Técnica de Diseño (MTD) de un Técnico electricista.\")"
   ]
  },
  {
   "cell_type": "code",
   "execution_count": null,
   "id": "25827ccb",
   "metadata": {},
   "outputs": [],
   "source": [
    "Potencia_Prevista"
   ]
  },
  {
   "cell_type": "code",
   "execution_count": null,
   "id": "1b589598",
   "metadata": {},
   "outputs": [],
   "source": [
    "if Potencia_Prevista < 1500:\n",
    "    tensión = 12\n",
    "elif 1500 <= Potencia_Prevista < 5000:\n",
    "    tensión = 48\n",
    "elif Potencia_Prevista > 5000:\n",
    "    tensión = 120"
   ]
  },
  {
   "cell_type": "code",
   "execution_count": null,
   "id": "22665ed0",
   "metadata": {},
   "outputs": [],
   "source": [
    "import os\n",
    "import pandas as pd"
   ]
  },
  {
   "cell_type": "code",
   "execution_count": null,
   "id": "64e72b48",
   "metadata": {
    "scrolled": true
   },
   "outputs": [],
   "source": [
    "df = pd.read_csv(\"../../../mohamedelmarraki/Downloads/Monthlydata_40.000_-3.000_SA2_2020_2020.csv\", sep=\"\\t\", header=[4]).head(12)\n",
    "df = df.loc[:, [\"year\", \"month\",\"H(i_opt)_m\", \"T2m\"]]\n",
    "irrandiacia_zona = ((df[\"H(i_opt)_m\"].min()) * 1000)/31\n",
    "HSP = irrandiacia_zona / 1000\n",
    "energía_producirá_día = HSP * 450 * 0.9\n",
    "Nº_paneles = 29999.084465549837 / energía_producirá_día\n",
    "round(Nº_paneles)\n",
    "\n",
    "\n"
   ]
  },
  {
   "cell_type": "code",
   "execution_count": null,
   "id": "74bf4187",
   "metadata": {},
   "outputs": [],
   "source": []
  },
  {
   "cell_type": "code",
   "execution_count": null,
   "id": "80d4003a",
   "metadata": {},
   "outputs": [],
   "source": []
  },
  {
   "cell_type": "code",
   "execution_count": null,
   "id": "ae7b421a",
   "metadata": {},
   "outputs": [],
   "source": []
  },
  {
   "cell_type": "code",
   "execution_count": null,
   "id": "7b9b03ed",
   "metadata": {},
   "outputs": [],
   "source": []
  },
  {
   "cell_type": "code",
   "execution_count": null,
   "id": "ba8da5f3",
   "metadata": {},
   "outputs": [],
   "source": []
  },
  {
   "cell_type": "code",
   "execution_count": null,
   "id": "c7b8e406",
   "metadata": {},
   "outputs": [],
   "source": [
    "\n",
    "\n",
    "\n"
   ]
  },
  {
   "cell_type": "code",
   "execution_count": null,
   "id": "5fba1df1",
   "metadata": {},
   "outputs": [],
   "source": [
    "electro_usuario()"
   ]
  },
  {
   "cell_type": "code",
   "execution_count": null,
   "id": "02ca8302",
   "metadata": {},
   "outputs": [],
   "source": []
  },
  {
   "cell_type": "code",
   "execution_count": null,
   "id": "6a16b24f",
   "metadata": {},
   "outputs": [],
   "source": []
  },
  {
   "cell_type": "code",
   "execution_count": null,
   "id": "275ba15d",
   "metadata": {},
   "outputs": [],
   "source": []
  },
  {
   "cell_type": "code",
   "execution_count": null,
   "id": "c7a875c7",
   "metadata": {},
   "outputs": [],
   "source": []
  },
  {
   "cell_type": "code",
   "execution_count": null,
   "id": "42c7b6bf",
   "metadata": {},
   "outputs": [],
   "source": []
  },
  {
   "cell_type": "code",
   "execution_count": null,
   "id": "556a331a",
   "metadata": {},
   "outputs": [],
   "source": []
  },
  {
   "cell_type": "code",
   "execution_count": null,
   "id": "77954400",
   "metadata": {},
   "outputs": [],
   "source": []
  },
  {
   "cell_type": "code",
   "execution_count": null,
   "id": "1bf03d26",
   "metadata": {},
   "outputs": [],
   "source": []
  },
  {
   "cell_type": "code",
   "execution_count": null,
   "id": "b2759868",
   "metadata": {},
   "outputs": [],
   "source": []
  },
  {
   "cell_type": "code",
   "execution_count": null,
   "id": "35759352",
   "metadata": {},
   "outputs": [],
   "source": [
    "import pandas as pd # importar la librería pandas\n",
    "\n",
    "import numpy as np # importar la librería numpy\n",
    "\n",
    "import requests # importar la librería requests\n",
    "\n",
    "from selenium import webdriver # Habrá que descargar el webdriver de chrome para realizar las distintas operaciones\n",
    "\n",
    "from selenium.webdriver.support.ui import WebDriverWait # Cuando cargamos una página web a veces el HTML tarda un poco en cargarse sugún nuestra velocidad de conexión pues hasta ciertos elementos no carguen tendremos que esperar\n",
    "\n",
    "from selenium.webdriver.support import expected_conditions as EC\n",
    "\n",
    "from selenium.webdriver.common.by import By\n",
    "\n",
    "from selenium.webdriver.support.ui import Select\n",
    "\n",
    "from selenium.webdriver.common.keys import Keys\n",
    "\n",
    "import time\n",
    "\n",
    "import os\n",
    "\n",
    "from geopy.geocoders import Nominatim\n",
    "\n",
    "import time\n",
    "\n",
    "import math"
   ]
  },
  {
   "cell_type": "code",
   "execution_count": null,
   "id": "aa03887f",
   "metadata": {
    "scrolled": true
   },
   "outputs": [],
   "source": [
    "options = webdriver.ChromeOptions()\n",
    "    \n",
    "options.add_argument(\"--start-maximized\")\n",
    "    \n",
    "options.add_argument(\"--disable-extensions\")\n",
    "    \n",
    "driver_path = '/Users/mohamedelmarraki/ironhack/Final-Project/chromedriver'\n",
    "    \n",
    "driver = webdriver.Chrome(driver_path, chrome_options = options)\n",
    "    \n",
    "driver.get(\"https://www.iberdrola.es/blog/energia/cual-es-la-potencia-necesaria-para-los-electrodomesticos\")\n",
    "\n",
    "\n",
    "potencia_electro1 = driver.find_element_by_xpath(\"/html/body/div[1]/main/div[4]/div[1]/div[3]/ul[2]\")\n",
    "potencia_electro1 = potencia_electro1.text\n",
    "\n",
    "time.sleep(1)\n",
    "    \n",
    "driver.close()\n",
    "\n",
    "\n",
    "options = webdriver.ChromeOptions()\n",
    "    \n",
    "options.add_argument(\"--start-maximized\")\n",
    "    \n",
    "options.add_argument(\"--disable-extensions\")\n",
    "    \n",
    "driver_path = '/Users/mohamedelmarraki/ironhack/Final-Project/chromedriver'\n",
    "    \n",
    "driver = webdriver.Chrome(driver_path, chrome_options = options)\n",
    "    \n",
    "driver.get(\"http://www.bajatelapotencia.org/la-potencia-que-necesitas/\")\n",
    "\n",
    "\n",
    "WebDriverWait(driver, 5)\\\n",
    "        .until(EC.element_to_be_clickable((By.XPATH, \"/html/body/div[2]/section/article/table/tbody\")))\n",
    "\n",
    "\n",
    "potencia_electro2 = driver.find_element_by_xpath(\"/html/body/div[2]/section/article/table/tbody\")\n",
    "potencia_electro2 = potencia_electro2.text\n",
    "\n",
    "time.sleep(1)\n",
    "    \n",
    "driver.close()\n",
    "\n",
    "\n",
    "options = webdriver.ChromeOptions()\n",
    "    \n",
    "options.add_argument(\"--start-maximized\")\n",
    "    \n",
    "options.add_argument(\"--disable-extensions\")\n",
    "    \n",
    "driver_path = '/Users/mohamedelmarraki/ironhack/Final-Project/chromedriver'\n",
    "    \n",
    "driver = webdriver.Chrome(driver_path, chrome_options = options)\n",
    "    \n",
    "driver.get(\"https://www.electricaplicada.com/potencia-consumo-equipos-electricos/\")\n",
    "\n",
    "\n",
    "WebDriverWait(driver, 5)\\\n",
    "        .until(EC.element_to_be_clickable((By.XPATH, \"//*[@id='post-4887']/div/div\")))\n",
    "\n",
    "\n",
    "potencia_electro3 = driver.find_element_by_xpath(\"//*[@id='post-4887']/div/div\")\n",
    "potencia_electro3 = potencia_electro3.text\n",
    "\n",
    "time.sleep(1)\n",
    "    \n",
    "driver.close()"
   ]
  },
  {
   "cell_type": "code",
   "execution_count": null,
   "id": "2060094b",
   "metadata": {
    "scrolled": false
   },
   "outputs": [],
   "source": [
    "potencia_electro1 = potencia_electro1.split(\"\\n\")\n",
    "potencia_electro2 = potencia_electro2.split(\"\\n\")\n",
    "potencia_electro2 = potencia_electro2[7:-1]\n",
    "import re\n",
    "x = re.split(\"esenciales.\", potencia_electro3, 1)\n",
    "x = x[1]\n",
    "x = x.split(\"\\n\")\n",
    "lista = []\n",
    "for i in x:\n",
    "    if re.findall(\"[1-9]\", i): # En este ejemplo le pedimos que nos devuelve todos los elementos que tengan un caracter del 1 al 8\n",
    "        lista.append(i)\n",
    "lista2 = []\n",
    "for i in lista:\n",
    "    if \"–\" not in i and \"*\" not in i and  \"/\" not in i and  \"(\" not in i and \"-\" not in i:\n",
    "        lista2.append(i)\n",
    "potencia_electro3 = lista2[:-2]\n",
    "potencia_electro3[0] = \"Licuadora 500W\"\n",
    "\n"
   ]
  },
  {
   "cell_type": "code",
   "execution_count": null,
   "id": "99fc18ab",
   "metadata": {
    "scrolled": false
   },
   "outputs": [],
   "source": [
    "potencia_electro1\n",
    "potencia_electro1_list1 = []\n",
    "for i in potencia_electro1:\n",
    "    i = i.replace(\"-\", \"\")\n",
    "    i = i.replace(\":\", \"\")\n",
    "    i = i.replace(\".\", \"\")\n",
    "    i = i.replace(\"  \", \" \")\n",
    "    potencia_electro1_list1.append(re.split('\\s|(?<!\\d)[,.](?!\\d)', i))\n",
    "potencia_electro1_list2 = []\n",
    "for i in potencia_electro1_list1:\n",
    "    if i[0] == 'Aire':\n",
    "        i[0] = 'Aire acondicionado'\n",
    "        del i[1]\n",
    "    potencia_electro1_list2.append(i)\n",
    "   \n",
    "df = pd.DataFrame(potencia_electro1_list2)\n",
    "df.drop([3], axis=1, inplace=True)\n",
    "df"
   ]
  },
  {
   "cell_type": "code",
   "execution_count": null,
   "id": "336f1aa3",
   "metadata": {},
   "outputs": [],
   "source": [
    "potencia2 = []\n",
    "for i in potencia_electro2:\n",
    "    i = i.split(\"(\")\n",
    "    potencia2.append(i)\n",
    "potencia2a = []\n",
    "for i in potencia2:\n",
    "    potencia2a.append(re.split('\\s|(?<!\\d)[,.](?!\\d)', i[0]))\n",
    "potencia2b = []\n",
    "for i in potencia2a:\n",
    "    if i[0] == 'Aire':\n",
    "        i[0] = 'Aire acondicionado'\n",
    "        del i[1]\n",
    "    elif i[0] == \"Calefacción\":\n",
    "        i[0] = 'Calefacción eléctrica'\n",
    "        del i[1]\n",
    "    potencia2b.append(i)\n",
    "potencia2b\n",
    "import pandas as pd\n",
    "df1 = pd.DataFrame(potencia2b)\n",
    "df1.drop([2, 5], axis=1, inplace=True)\n",
    "df1.rename(columns={3:2, 4:3}, inplace=True)\n",
    "df1.drop([3], axis=1, inplace=True)"
   ]
  },
  {
   "cell_type": "code",
   "execution_count": null,
   "id": "37f6c32f",
   "metadata": {
    "scrolled": true
   },
   "outputs": [],
   "source": [
    "df_conc = pd.concat([df, df1], axis=0)\n",
    "df_conc.drop([5],axis=0, inplace=True)\n",
    "df_conc[[1, 2]] = df_conc[[1, 2]].apply(pd.to_numeric)\n",
    "df_conc[3] = df_conc[[1, 2]].median(axis=1)\n",
    "df_conc.drop([1,2], axis=1, inplace=True)\n",
    "df_conc"
   ]
  },
  {
   "cell_type": "code",
   "execution_count": null,
   "id": "d55d596b",
   "metadata": {},
   "outputs": [],
   "source": [
    "lista3 = []\n",
    "for i in potencia_electro3:\n",
    "    lista3.append(list(i.rpartition(\" \")))\n",
    "    \n",
    "import pandas as pd\n",
    "df3 = pd.DataFrame(lista3)\n",
    "df3 = df3.iloc[[0, 2, 7, 18, 23, 42]]\n",
    "lista = []\n",
    "for i in df3[2]:\n",
    "    lista.append(i.replace(\"W\", \"\"))\n",
    "df3[3] = lista\n",
    "df3.drop([1, 2], axis=1, inplace=True)\n",
    "df_conc2 = pd.concat([df_conc, df3], axis=0)\n",
    "df_conc2.reset_index(inplace=True)\n",
    "df_conc2.drop(\"index\", axis=1, inplace=True)\n",
    "df_conc2 = df_conc2.rename(columns={0: 'Electrodomesticos', 3: 'Potencia'})\n",
    "df_conc2[\"Potencia\"] = df_conc2[\"Potencia\"].apply(pd.to_numeric)\n",
    "df_conc2"
   ]
  },
  {
   "cell_type": "code",
   "execution_count": null,
   "id": "4bf7512a",
   "metadata": {},
   "outputs": [],
   "source": [
    "pot_electrodomesticos = {k: v for k, v in zip(list(df_conc2[\"Electrodomesticos\"]), list(df_conc2[\"Potencia\"]))}\n",
    "pot_electrodomesticos"
   ]
  },
  {
   "cell_type": "code",
   "execution_count": null,
   "id": "2b9a8ff6",
   "metadata": {},
   "outputs": [],
   "source": []
  },
  {
   "cell_type": "code",
   "execution_count": null,
   "id": "e03d4950",
   "metadata": {},
   "outputs": [],
   "source": []
  },
  {
   "cell_type": "code",
   "execution_count": null,
   "id": "d9b94bcc",
   "metadata": {},
   "outputs": [],
   "source": []
  },
  {
   "cell_type": "code",
   "execution_count": null,
   "id": "b2a2beef",
   "metadata": {},
   "outputs": [],
   "source": []
  },
  {
   "cell_type": "code",
   "execution_count": null,
   "id": "c6054850",
   "metadata": {},
   "outputs": [],
   "source": []
  },
  {
   "cell_type": "code",
   "execution_count": null,
   "id": "fd179527",
   "metadata": {},
   "outputs": [],
   "source": []
  },
  {
   "cell_type": "code",
   "execution_count": null,
   "id": "71a4a817",
   "metadata": {},
   "outputs": [],
   "source": []
  },
  {
   "cell_type": "code",
   "execution_count": null,
   "id": "49348e0b",
   "metadata": {},
   "outputs": [],
   "source": []
  },
  {
   "cell_type": "code",
   "execution_count": null,
   "id": "1e34e356",
   "metadata": {},
   "outputs": [],
   "source": []
  },
  {
   "cell_type": "code",
   "execution_count": null,
   "id": "cdb06b8d",
   "metadata": {},
   "outputs": [],
   "source": []
  },
  {
   "cell_type": "code",
   "execution_count": null,
   "id": "7e1ad8b6",
   "metadata": {},
   "outputs": [],
   "source": []
  },
  {
   "cell_type": "code",
   "execution_count": null,
   "id": "871d4506",
   "metadata": {},
   "outputs": [],
   "source": []
  },
  {
   "cell_type": "code",
   "execution_count": null,
   "id": "95f0f513",
   "metadata": {},
   "outputs": [],
   "source": []
  },
  {
   "cell_type": "code",
   "execution_count": null,
   "id": "a670d016",
   "metadata": {},
   "outputs": [],
   "source": []
  },
  {
   "cell_type": "code",
   "execution_count": null,
   "id": "3e71ea5f",
   "metadata": {},
   "outputs": [],
   "source": []
  },
  {
   "cell_type": "code",
   "execution_count": null,
   "id": "b0e3bf27",
   "metadata": {},
   "outputs": [],
   "source": []
  },
  {
   "cell_type": "code",
   "execution_count": null,
   "id": "3bc189d2",
   "metadata": {},
   "outputs": [],
   "source": []
  },
  {
   "cell_type": "code",
   "execution_count": null,
   "id": "ecc45e7a",
   "metadata": {},
   "outputs": [],
   "source": []
  },
  {
   "cell_type": "code",
   "execution_count": null,
   "id": "eca2dc38",
   "metadata": {},
   "outputs": [],
   "source": []
  },
  {
   "cell_type": "code",
   "execution_count": null,
   "id": "21220725",
   "metadata": {},
   "outputs": [],
   "source": []
  },
  {
   "cell_type": "code",
   "execution_count": null,
   "id": "8ded524d",
   "metadata": {},
   "outputs": [],
   "source": []
  }
 ],
 "metadata": {
  "kernelspec": {
   "display_name": "Python [conda env:Project-Final]",
   "language": "python",
   "name": "conda-env-Project-Final-py"
  },
  "language_info": {
   "codemirror_mode": {
    "name": "ipython",
    "version": 3
   },
   "file_extension": ".py",
   "mimetype": "text/x-python",
   "name": "python",
   "nbconvert_exporter": "python",
   "pygments_lexer": "ipython3",
   "version": "3.7.12"
  }
 },
 "nbformat": 4,
 "nbformat_minor": 5
}
